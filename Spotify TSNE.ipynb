{
 "cells": [
  {
   "cell_type": "markdown",
   "metadata": {},
   "source": [
    "# Project 1: Methods For High-Dimensional Space Visualization Using Spotify Song Data\n",
    "In this project, I had the opportunty to carry out the following tasks:\n",
    "- Scrapped Spotify Song Data for multiple playlists\n",
    "- Built a dataset out of the extracted information\n",
    "- Used T-SNE to visualize relationships between data points in  high-dimensional spaces\n",
    "- Was able to tell certain genres appart by looking at the regions where data points were more densely packed"
   ]
  },
  {
   "cell_type": "code",
   "execution_count": 44,
   "metadata": {},
   "outputs": [
    {
     "data": {
      "text/html": [
       "<div>\n",
       "<style scoped>\n",
       "    .dataframe tbody tr th:only-of-type {\n",
       "        vertical-align: middle;\n",
       "    }\n",
       "\n",
       "    .dataframe tbody tr th {\n",
       "        vertical-align: top;\n",
       "    }\n",
       "\n",
       "    .dataframe thead th {\n",
       "        text-align: right;\n",
       "    }\n",
       "</style>\n",
       "<table border=\"1\" class=\"dataframe\">\n",
       "  <thead>\n",
       "    <tr style=\"text-align: right;\">\n",
       "      <th></th>\n",
       "      <th>cancion</th>\n",
       "      <th>artista</th>\n",
       "      <th>playlist</th>\n",
       "      <th>track_id</th>\n",
       "      <th>danceability</th>\n",
       "      <th>energy</th>\n",
       "      <th>key</th>\n",
       "      <th>loudness</th>\n",
       "      <th>speechiness</th>\n",
       "      <th>acousticness</th>\n",
       "      <th>instrumentalness</th>\n",
       "      <th>liveness</th>\n",
       "      <th>valence</th>\n",
       "      <th>Lista Rep</th>\n",
       "      <th>liked</th>\n",
       "    </tr>\n",
       "  </thead>\n",
       "  <tbody>\n",
       "    <tr>\n",
       "      <th>0</th>\n",
       "      <td>Immortal Rites</td>\n",
       "      <td>Morbid Angel</td>\n",
       "      <td>4tszLL7NTfLCoIz39Zsiy1</td>\n",
       "      <td>5hmek3mrSYvfSElBsPNbxo</td>\n",
       "      <td>0.190</td>\n",
       "      <td>0.934</td>\n",
       "      <td>1</td>\n",
       "      <td>-7.796</td>\n",
       "      <td>0.0560</td>\n",
       "      <td>0.000008</td>\n",
       "      <td>0.107</td>\n",
       "      <td>0.3630</td>\n",
       "      <td>0.360</td>\n",
       "      <td>Death Metal</td>\n",
       "      <td>1</td>\n",
       "    </tr>\n",
       "    <tr>\n",
       "      <th>1</th>\n",
       "      <td>Chopped in Half</td>\n",
       "      <td>Obituary</td>\n",
       "      <td>4tszLL7NTfLCoIz39Zsiy1</td>\n",
       "      <td>01cGujYWGF7JchJLSgf6Ta</td>\n",
       "      <td>0.257</td>\n",
       "      <td>0.989</td>\n",
       "      <td>10</td>\n",
       "      <td>-5.918</td>\n",
       "      <td>0.0867</td>\n",
       "      <td>0.000007</td>\n",
       "      <td>0.521</td>\n",
       "      <td>0.2630</td>\n",
       "      <td>0.385</td>\n",
       "      <td>Death Metal</td>\n",
       "      <td>1</td>\n",
       "    </tr>\n",
       "    <tr>\n",
       "      <th>2</th>\n",
       "      <td>Left Hand Path</td>\n",
       "      <td>Entombed</td>\n",
       "      <td>4tszLL7NTfLCoIz39Zsiy1</td>\n",
       "      <td>5faD0zZ9fMa3J5ZN3lIWtp</td>\n",
       "      <td>0.166</td>\n",
       "      <td>0.927</td>\n",
       "      <td>7</td>\n",
       "      <td>-8.797</td>\n",
       "      <td>0.0736</td>\n",
       "      <td>0.000004</td>\n",
       "      <td>0.651</td>\n",
       "      <td>0.3440</td>\n",
       "      <td>0.219</td>\n",
       "      <td>Death Metal</td>\n",
       "      <td>1</td>\n",
       "    </tr>\n",
       "    <tr>\n",
       "      <th>3</th>\n",
       "      <td>Pull the Plug</td>\n",
       "      <td>Death</td>\n",
       "      <td>4tszLL7NTfLCoIz39Zsiy1</td>\n",
       "      <td>2l0h4aBFLp9HdoaNdCTlbW</td>\n",
       "      <td>0.226</td>\n",
       "      <td>0.978</td>\n",
       "      <td>9</td>\n",
       "      <td>-5.729</td>\n",
       "      <td>0.2090</td>\n",
       "      <td>0.000004</td>\n",
       "      <td>0.533</td>\n",
       "      <td>0.0436</td>\n",
       "      <td>0.242</td>\n",
       "      <td>Death Metal</td>\n",
       "      <td>1</td>\n",
       "    </tr>\n",
       "    <tr>\n",
       "      <th>4</th>\n",
       "      <td>Into The Grave</td>\n",
       "      <td>Grave</td>\n",
       "      <td>4tszLL7NTfLCoIz39Zsiy1</td>\n",
       "      <td>4bAIIhqJeOTDcyeo1GvIMo</td>\n",
       "      <td>0.295</td>\n",
       "      <td>0.915</td>\n",
       "      <td>1</td>\n",
       "      <td>-6.968</td>\n",
       "      <td>0.0954</td>\n",
       "      <td>0.000003</td>\n",
       "      <td>0.910</td>\n",
       "      <td>0.0772</td>\n",
       "      <td>0.343</td>\n",
       "      <td>Death Metal</td>\n",
       "      <td>1</td>\n",
       "    </tr>\n",
       "  </tbody>\n",
       "</table>\n",
       "</div>"
      ],
      "text/plain": [
       "           cancion       artista                playlist  \\\n",
       "0   Immortal Rites  Morbid Angel  4tszLL7NTfLCoIz39Zsiy1   \n",
       "1  Chopped in Half      Obituary  4tszLL7NTfLCoIz39Zsiy1   \n",
       "2   Left Hand Path      Entombed  4tszLL7NTfLCoIz39Zsiy1   \n",
       "3    Pull the Plug         Death  4tszLL7NTfLCoIz39Zsiy1   \n",
       "4   Into The Grave         Grave  4tszLL7NTfLCoIz39Zsiy1   \n",
       "\n",
       "                 track_id  danceability  energy  key  loudness  speechiness  \\\n",
       "0  5hmek3mrSYvfSElBsPNbxo         0.190   0.934    1    -7.796       0.0560   \n",
       "1  01cGujYWGF7JchJLSgf6Ta         0.257   0.989   10    -5.918       0.0867   \n",
       "2  5faD0zZ9fMa3J5ZN3lIWtp         0.166   0.927    7    -8.797       0.0736   \n",
       "3  2l0h4aBFLp9HdoaNdCTlbW         0.226   0.978    9    -5.729       0.2090   \n",
       "4  4bAIIhqJeOTDcyeo1GvIMo         0.295   0.915    1    -6.968       0.0954   \n",
       "\n",
       "   acousticness  instrumentalness  liveness  valence    Lista Rep  liked  \n",
       "0      0.000008             0.107    0.3630    0.360  Death Metal      1  \n",
       "1      0.000007             0.521    0.2630    0.385  Death Metal      1  \n",
       "2      0.000004             0.651    0.3440    0.219  Death Metal      1  \n",
       "3      0.000004             0.533    0.0436    0.242  Death Metal      1  \n",
       "4      0.000003             0.910    0.0772    0.343  Death Metal      1  "
      ]
     },
     "execution_count": 44,
     "metadata": {},
     "output_type": "execute_result"
    }
   ],
   "source": [
    "#To begin with, we load the dataset created with the data I scrapped from Spotify's API\n",
    "import pandas as pd\n",
    "import plotly.express as px\n",
    "df = pd.read_csv('SpotifyMexScored.csv')\n",
    "df.head()"
   ]
  },
  {
   "cell_type": "code",
   "execution_count": 45,
   "metadata": {},
   "outputs": [],
   "source": [
    "#And then define which are the numeric columns which will be used in subsequent steps\n",
    "X = df[['danceability', 'energy',\n",
    "       'key', 'loudness', 'speechiness', 'acousticness', 'instrumentalness',\n",
    "       'liveness', 'valence']]"
   ]
  },
  {
   "cell_type": "code",
   "execution_count": 46,
   "metadata": {},
   "outputs": [],
   "source": [
    "#Since all of them are numeric, we'll only normalize the same\n",
    "from sklearn.preprocessing import StandardScaler\n",
    "scaler = StandardScaler()\n",
    "X_scaled = scaler.fit_transform(X)"
   ]
  },
  {
   "cell_type": "code",
   "execution_count": 47,
   "metadata": {},
   "outputs": [
    {
     "name": "stderr",
     "output_type": "stream",
     "text": [
      "c:\\Users\\Ivan\\AppData\\Local\\Programs\\Python\\Python39\\lib\\site-packages\\sklearn\\manifold\\_t_sne.py:795: FutureWarning:\n",
      "\n",
      "The default initialization in TSNE will change from 'random' to 'pca' in 1.2.\n",
      "\n",
      "c:\\Users\\Ivan\\AppData\\Local\\Programs\\Python\\Python39\\lib\\site-packages\\sklearn\\manifold\\_t_sne.py:805: FutureWarning:\n",
      "\n",
      "The default learning rate in TSNE will change from 200.0 to 'auto' in 1.2.\n",
      "\n"
     ]
    }
   ],
   "source": [
    "#And then, we'll use TSNE to reduce the number of components all the way down to 2 in order to be able to visualize all data and it's potential relationships\n",
    "from sklearn.manifold import TSNE\n",
    "model = TSNE(n_components=2)\n",
    "X_transformed = model.fit_transform(X_scaled)\n"
   ]
  },
  {
   "cell_type": "code",
   "execution_count": 48,
   "metadata": {},
   "outputs": [
    {
     "data": {
      "text/html": [
       "<div>\n",
       "<style scoped>\n",
       "    .dataframe tbody tr th:only-of-type {\n",
       "        vertical-align: middle;\n",
       "    }\n",
       "\n",
       "    .dataframe tbody tr th {\n",
       "        vertical-align: top;\n",
       "    }\n",
       "\n",
       "    .dataframe thead th {\n",
       "        text-align: right;\n",
       "    }\n",
       "</style>\n",
       "<table border=\"1\" class=\"dataframe\">\n",
       "  <thead>\n",
       "    <tr style=\"text-align: right;\">\n",
       "      <th></th>\n",
       "      <th>cancion</th>\n",
       "      <th>artista</th>\n",
       "      <th>playlist</th>\n",
       "      <th>track_id</th>\n",
       "      <th>danceability</th>\n",
       "      <th>energy</th>\n",
       "      <th>key</th>\n",
       "      <th>loudness</th>\n",
       "      <th>speechiness</th>\n",
       "      <th>acousticness</th>\n",
       "      <th>instrumentalness</th>\n",
       "      <th>liveness</th>\n",
       "      <th>valence</th>\n",
       "      <th>Lista Rep</th>\n",
       "      <th>liked</th>\n",
       "      <th>TSNE_1</th>\n",
       "      <th>TSNE_2</th>\n",
       "    </tr>\n",
       "  </thead>\n",
       "  <tbody>\n",
       "    <tr>\n",
       "      <th>0</th>\n",
       "      <td>Immortal Rites</td>\n",
       "      <td>Morbid Angel</td>\n",
       "      <td>4tszLL7NTfLCoIz39Zsiy1</td>\n",
       "      <td>5hmek3mrSYvfSElBsPNbxo</td>\n",
       "      <td>0.190</td>\n",
       "      <td>0.934</td>\n",
       "      <td>1</td>\n",
       "      <td>-7.796</td>\n",
       "      <td>0.0560</td>\n",
       "      <td>0.000008</td>\n",
       "      <td>0.107</td>\n",
       "      <td>0.3630</td>\n",
       "      <td>0.360</td>\n",
       "      <td>Death Metal</td>\n",
       "      <td>1</td>\n",
       "      <td>-20.362423</td>\n",
       "      <td>-21.135359</td>\n",
       "    </tr>\n",
       "    <tr>\n",
       "      <th>1</th>\n",
       "      <td>Chopped in Half</td>\n",
       "      <td>Obituary</td>\n",
       "      <td>4tszLL7NTfLCoIz39Zsiy1</td>\n",
       "      <td>01cGujYWGF7JchJLSgf6Ta</td>\n",
       "      <td>0.257</td>\n",
       "      <td>0.989</td>\n",
       "      <td>10</td>\n",
       "      <td>-5.918</td>\n",
       "      <td>0.0867</td>\n",
       "      <td>0.000007</td>\n",
       "      <td>0.521</td>\n",
       "      <td>0.2630</td>\n",
       "      <td>0.385</td>\n",
       "      <td>Death Metal</td>\n",
       "      <td>1</td>\n",
       "      <td>-8.467403</td>\n",
       "      <td>-45.638783</td>\n",
       "    </tr>\n",
       "    <tr>\n",
       "      <th>2</th>\n",
       "      <td>Left Hand Path</td>\n",
       "      <td>Entombed</td>\n",
       "      <td>4tszLL7NTfLCoIz39Zsiy1</td>\n",
       "      <td>5faD0zZ9fMa3J5ZN3lIWtp</td>\n",
       "      <td>0.166</td>\n",
       "      <td>0.927</td>\n",
       "      <td>7</td>\n",
       "      <td>-8.797</td>\n",
       "      <td>0.0736</td>\n",
       "      <td>0.000004</td>\n",
       "      <td>0.651</td>\n",
       "      <td>0.3440</td>\n",
       "      <td>0.219</td>\n",
       "      <td>Death Metal</td>\n",
       "      <td>1</td>\n",
       "      <td>-5.670158</td>\n",
       "      <td>-54.009987</td>\n",
       "    </tr>\n",
       "    <tr>\n",
       "      <th>3</th>\n",
       "      <td>Pull the Plug</td>\n",
       "      <td>Death</td>\n",
       "      <td>4tszLL7NTfLCoIz39Zsiy1</td>\n",
       "      <td>2l0h4aBFLp9HdoaNdCTlbW</td>\n",
       "      <td>0.226</td>\n",
       "      <td>0.978</td>\n",
       "      <td>9</td>\n",
       "      <td>-5.729</td>\n",
       "      <td>0.2090</td>\n",
       "      <td>0.000004</td>\n",
       "      <td>0.533</td>\n",
       "      <td>0.0436</td>\n",
       "      <td>0.242</td>\n",
       "      <td>Death Metal</td>\n",
       "      <td>1</td>\n",
       "      <td>-11.409132</td>\n",
       "      <td>-51.696171</td>\n",
       "    </tr>\n",
       "    <tr>\n",
       "      <th>4</th>\n",
       "      <td>Into The Grave</td>\n",
       "      <td>Grave</td>\n",
       "      <td>4tszLL7NTfLCoIz39Zsiy1</td>\n",
       "      <td>4bAIIhqJeOTDcyeo1GvIMo</td>\n",
       "      <td>0.295</td>\n",
       "      <td>0.915</td>\n",
       "      <td>1</td>\n",
       "      <td>-6.968</td>\n",
       "      <td>0.0954</td>\n",
       "      <td>0.000003</td>\n",
       "      <td>0.910</td>\n",
       "      <td>0.0772</td>\n",
       "      <td>0.343</td>\n",
       "      <td>Death Metal</td>\n",
       "      <td>1</td>\n",
       "      <td>-0.223880</td>\n",
       "      <td>-50.622578</td>\n",
       "    </tr>\n",
       "  </tbody>\n",
       "</table>\n",
       "</div>"
      ],
      "text/plain": [
       "           cancion       artista                playlist  \\\n",
       "0   Immortal Rites  Morbid Angel  4tszLL7NTfLCoIz39Zsiy1   \n",
       "1  Chopped in Half      Obituary  4tszLL7NTfLCoIz39Zsiy1   \n",
       "2   Left Hand Path      Entombed  4tszLL7NTfLCoIz39Zsiy1   \n",
       "3    Pull the Plug         Death  4tszLL7NTfLCoIz39Zsiy1   \n",
       "4   Into The Grave         Grave  4tszLL7NTfLCoIz39Zsiy1   \n",
       "\n",
       "                 track_id  danceability  energy  key  loudness  speechiness  \\\n",
       "0  5hmek3mrSYvfSElBsPNbxo         0.190   0.934    1    -7.796       0.0560   \n",
       "1  01cGujYWGF7JchJLSgf6Ta         0.257   0.989   10    -5.918       0.0867   \n",
       "2  5faD0zZ9fMa3J5ZN3lIWtp         0.166   0.927    7    -8.797       0.0736   \n",
       "3  2l0h4aBFLp9HdoaNdCTlbW         0.226   0.978    9    -5.729       0.2090   \n",
       "4  4bAIIhqJeOTDcyeo1GvIMo         0.295   0.915    1    -6.968       0.0954   \n",
       "\n",
       "   acousticness  instrumentalness  liveness  valence    Lista Rep  liked  \\\n",
       "0      0.000008             0.107    0.3630    0.360  Death Metal      1   \n",
       "1      0.000007             0.521    0.2630    0.385  Death Metal      1   \n",
       "2      0.000004             0.651    0.3440    0.219  Death Metal      1   \n",
       "3      0.000004             0.533    0.0436    0.242  Death Metal      1   \n",
       "4      0.000003             0.910    0.0772    0.343  Death Metal      1   \n",
       "\n",
       "      TSNE_1     TSNE_2  \n",
       "0 -20.362423 -21.135359  \n",
       "1  -8.467403 -45.638783  \n",
       "2  -5.670158 -54.009987  \n",
       "3 -11.409132 -51.696171  \n",
       "4  -0.223880 -50.622578  "
      ]
     },
     "execution_count": 48,
     "metadata": {},
     "output_type": "execute_result"
    }
   ],
   "source": [
    "#TNSE values are calculated and assigned to every row\n",
    "tsne1 = [value[0] for value in X_transformed]\n",
    "tsne2 = [value[1] for value in X_transformed]\n",
    "df['TSNE_1'] = tsne1\n",
    "df['TSNE_2'] = tsne2\n",
    "df.head()"
   ]
  },
  {
   "cell_type": "code",
   "execution_count": 49,
   "metadata": {},
   "outputs": [
    {
     "data": {
      "application/vnd.plotly.v1+json": {
       "config": {
        "plotlyServerURL": "https://plot.ly"
       },
       "data": [
        {
         "customdata": [
          [
           "Immortal Rites"
          ],
          [
           "Chopped in Half"
          ],
          [
           "Left Hand Path"
          ],
          [
           "Pull the Plug"
          ],
          [
           "Into The Grave"
          ],
          [
           "Slowly We Rot"
          ],
          [
           "Crystal Mountain"
          ],
          [
           "Once Upon the Cross"
          ],
          [
           "Before the Creation of Time"
          ],
          [
           "Chapel of Ghouls"
          ],
          [
           "Redneck Stomp"
          ],
          [
           "Pierced from Within"
          ],
          [
           "Hammer Smashed Face"
          ],
          [
           "Symbolic"
          ],
          [
           "Fear Of Napalm"
          ],
          [
           "Suffer The Children"
          ],
          [
           "Maze of Torment"
          ],
          [
           "Twisted Truth"
          ],
          [
           "Spirit Crusher"
          ],
          [
           "Sacrificial Suicide"
          ],
          [
           "Override Of The Overture"
          ],
          [
           "The Exorcist"
          ],
          [
           "Fall from Grace"
          ],
          [
           "I Cum Blood"
          ],
          [
           "Dead by Dawn"
          ],
          [
           "Spiritual Healing"
          ],
          [
           "Liege of Inveracity"
          ],
          [
           "Graves of the Fathers"
          ],
          [
           "Stiff and Cold"
          ],
          [
           "Premature Burial"
          ],
          [
           "Revel In Flesh"
          ],
          [
           "Leprosy"
          ],
          [
           "Arise"
          ],
          [
           "Out of the Body"
          ],
          [
           "The IVth Crusade"
          ],
          [
           "Drowned"
          ],
          [
           "Death Metal"
          ],
          [
           "Dawn of Eternity"
          ],
          [
           "For Victory"
          ],
          [
           "Lake of Fire"
          ],
          [
           "Into Everlasting Fire"
          ],
          [
           "Mother Man"
          ],
          [
           "Soulless - remastered 2003"
          ],
          [
           "From Beyond"
          ],
          [
           "Piece of Time"
          ],
          [
           "Cryptic Realms"
          ],
          [
           "Breeding Death"
          ],
          [
           "Furnace Funeral"
          ],
          [
           "Body Bag"
          ],
          [
           "Inner Self"
          ],
          [
           "Sinners Bleed"
          ],
          [
           "You'll Never See"
          ],
          [
           "Pleasure to Kill"
          ],
          [
           "Infected"
          ],
          [
           "After World Obliteration"
          ],
          [
           "Pentagram"
          ],
          [
           "Land of Tears"
          ],
          [
           "Stench of Paradise Burning"
          ],
          [
           "Who Will Be Not Be Dead"
          ],
          [
           "Dead Embryonic Cells"
          ],
          [
           "Chronic Infection"
          ],
          [
           "Eve of the Apocalypse"
          ],
          [
           "Dead Shall Rise"
          ],
          [
           "When the Sun Drank the Weight of Water"
          ],
          [
           "These Walls Shall Be Your Grave"
          ],
          [
           "Misanthrope"
          ],
          [
           "Jealousy"
          ],
          [
           "Flattening of Emotions"
          ],
          [
           "See Through Dreams"
          ],
          [
           "Living Monstrosity"
          ],
          [
           "Left to Die"
          ],
          [
           "Infernal Death"
          ],
          [
           "Zombie Ritual"
          ],
          [
           "Evil Dead"
          ],
          [
           "Dead but Dreaming"
          ],
          [
           "Blaspherereion"
          ],
          [
           "Wolverine Blues"
          ],
          [
           "Slaughter of Innocence"
          ],
          [
           "Blessed Are The Sick / Leading the Rats"
          ],
          [
           "Stripped, Raped, And Strangled"
          ],
          [
           "Disembowel"
          ],
          [
           "Dark Age"
          ],
          [
           "Testimony"
          ],
          [
           "Lack of Comprehension"
          ],
          [
           "Cromlech - Studio"
          ],
          [
           "M.S. Bismark"
          ],
          [
           "The Krusher"
          ],
          [
           "Barra Edinazzu"
          ],
          [
           "Die Rache Krieg Lied Der Assyriche"
          ],
          [
           "Twisted Mass of Burnt Decay"
          ],
          [
           "Earthly Love"
          ],
          [
           "Nostalgia"
          ],
          [
           "Soon To Be Dead"
          ],
          [
           "Oblivious to Evil"
          ],
          [
           "Brainstorm"
          ],
          [
           "When Life Has Ceased"
          ],
          [
           "Morbid Devourment"
          ],
          [
           "Incarnated Solvent Abuse"
          ],
          [
           "Corporal Jigsore Quandary"
          ],
          [
           "Staring Through The Eyes Of The Dead"
          ]
         ],
         "hovertemplate": "Lista Rep=Death Metal<br>TSNE_1=%{x}<br>TSNE_2=%{y}<br>cancion=%{customdata[0]}<extra></extra>",
         "legendgroup": "Death Metal",
         "marker": {
          "color": "#636efa",
          "symbol": "circle"
         },
         "mode": "markers",
         "name": "Death Metal",
         "orientation": "v",
         "showlegend": true,
         "type": "scatter",
         "x": [
          -20.362423,
          -8.467403,
          -5.670158,
          -11.409132,
          -0.2238799,
          -20.809914,
          -14.486484,
          -6.5714617,
          -22.48525,
          -2.6481495,
          1.1944413,
          -5.9526577,
          -3.0580163,
          -15.726537,
          -1.0641627,
          -0.5582322,
          -10.194998,
          -8.711547,
          -19.153772,
          -17.39456,
          1.8611571,
          -13.424931,
          -22.195885,
          -4.059288,
          -13.128554,
          1.7883488,
          0.17192003,
          -9.518287,
          0.49904996,
          -4.471347,
          -5.8483357,
          -10.808336,
          -8.91088,
          -19.215122,
          -1.8680042,
          -20.582138,
          -10.697591,
          -9.553452,
          -4.1679173,
          -18.07961,
          -1.1942341,
          -6.091185,
          -8.57249,
          -0.82465756,
          -19.232786,
          -6.8189974,
          -20.786917,
          -20.932615,
          -12.347256,
          -6.2503686,
          -4.1890798,
          -8.042189,
          -13.351368,
          -14.925903,
          -1.9997144,
          -20.786411,
          -19.117506,
          -9.886103,
          2.6390061,
          -8.955094,
          -19.393175,
          -4.5015073,
          -1.8687235,
          1.4672846,
          -7.273025,
          -11.403274,
          -10.888809,
          2.3315394,
          -14.840048,
          -19.845776,
          -12.363621,
          -3.0821974,
          -20.132095,
          -0.911663,
          -7.1633043,
          -11.329086,
          -4.504823,
          -11.184681,
          -12.6336565,
          -4.6517863,
          -1.1226416,
          -8.548125,
          -7.8416233,
          -17.700922,
          -2.2573853,
          -5.8684454,
          -6.00596,
          -1.7867224,
          -3.3189046,
          -7.012342,
          -12.6122,
          -9.999823,
          1.8688174,
          -12.0440235,
          -12.200668,
          -0.27646723,
          -4.33828,
          -16.418764,
          -11.985395,
          -4.9001293
         ],
         "xaxis": "x",
         "y": [
          -21.135359,
          -45.638783,
          -54.009987,
          -51.69617,
          -50.622578,
          -25.13187,
          -31.871054,
          -51.941154,
          -15.116078,
          -50.423996,
          -50.44759,
          -49.3593,
          -48.74196,
          -33.09797,
          -56.879784,
          -56.377316,
          -34.060043,
          -45.37192,
          -30.00859,
          -32.849663,
          -53.94156,
          -39.109028,
          -14.622516,
          -48.682266,
          -35.134167,
          -25.033447,
          -51.515415,
          -53.550682,
          -53.215157,
          -31.51476,
          -54.52304,
          -33.434807,
          -32.11562,
          -26.186874,
          -54.578594,
          -22.395624,
          -32.43236,
          -49.03865,
          -51.347645,
          -40.02002,
          -55.287518,
          -48.573376,
          -33.967644,
          -53.593277,
          -39.223537,
          -50.71702,
          -23.401875,
          -24.014696,
          -33.133595,
          -25.707212,
          -51.82238,
          -53.423283,
          -31.978035,
          -24.457026,
          -56.306652,
          -27.218082,
          -32.843464,
          -52.055668,
          -52.925076,
          -17.31385,
          -29.328062,
          -31.725187,
          -56.001167,
          -52.03017,
          -51.86959,
          -30.08015,
          -52.245953,
          -26.197191,
          -25.249073,
          -30.166023,
          -31.813852,
          -50.832405,
          -22.024288,
          -50.29171,
          -30.828894,
          -33.888367,
          -47.544407,
          -35.684345,
          -4.345921,
          -50.61874,
          -43.978996,
          -48.782967,
          -49.583195,
          -35.342083,
          -53.21651,
          -51.39928,
          -52.284832,
          -51.889748,
          -32.383293,
          -54.414635,
          -39.783504,
          -27.597878,
          -53.301968,
          -34.669228,
          -18.806232,
          -52.791775,
          -53.205494,
          -34.500893,
          -51.360413,
          -52.362385
         ],
         "yaxis": "y"
        },
        {
         "customdata": [
          [
           "Lamberto Quintero"
          ],
          [
           "Chuy y Mauricio"
          ],
          [
           "A Mis Enemigos"
          ],
          [
           "Los Dos Amigos"
          ],
          [
           "Las Tres Tumbas"
          ],
          [
           "No Hay Novedad"
          ],
          [
           "Una Pagina Mas"
          ],
          [
           "Mi Casa Nueva"
          ],
          [
           "Mis Tres Animales"
          ],
          [
           "Si Yo Fuera Ladrón"
          ],
          [
           "Pedro Y Pablo"
          ],
          [
           "La Caspa Del Diablo"
          ]
         ],
         "hovertemplate": "Lista Rep=Corridos para Pistear<br>TSNE_1=%{x}<br>TSNE_2=%{y}<br>cancion=%{customdata[0]}<extra></extra>",
         "legendgroup": "Corridos para Pistear",
         "marker": {
          "color": "#EF553B",
          "symbol": "circle"
         },
         "mode": "markers",
         "name": "Corridos para Pistear",
         "orientation": "v",
         "showlegend": true,
         "type": "scatter",
         "x": [
          12.124196,
          11.332585,
          0.42787203,
          6.6586547,
          9.759403,
          -4.717237,
          9.024736,
          35.570038,
          25.121809,
          18.010675,
          -2.7977142,
          32.13644
         ],
         "xaxis": "x",
         "y": [
          26.595322,
          25.63555,
          33.162033,
          31.7176,
          32.375713,
          16.963491,
          22.608423,
          -8.739211,
          8.357876,
          32.049767,
          4.997352,
          -4.0842304
         ],
         "yaxis": "y"
        },
        {
         "customdata": [
          [
           "Billete Grande (En Vivo)"
          ],
          [
           "Equipo RR"
          ],
          [
           "El Rescate"
          ],
          [
           "Siempre Pendientes"
          ],
          [
           "Ni Diablo Ni Santo"
          ],
          [
           "El Buho"
          ],
          [
           "El Doctor"
          ],
          [
           "La Muchacha del Salado \"la Nicholette\" - En Vivo"
          ],
          [
           "Un Suspiró"
          ],
          [
           "El Gabito"
          ],
          [
           "Me Acostumbre A Lo Bueno"
          ],
          [
           "Fumando Mota"
          ],
          [
           "Fuga Pa Cali 2"
          ],
          [
           "Desde Morro"
          ],
          [
           "Me Metí En El Ruedo"
          ],
          [
           "Señor Miedo"
          ],
          [
           "Por Clave el 13"
          ],
          [
           "Aerolínea Carrillo"
          ],
          [
           "Gente De Accionar"
          ],
          [
           "El Jami"
          ],
          [
           "Si Fuera Fácil"
          ],
          [
           "Soy Buen Amigo"
          ],
          [
           "El Ruddy"
          ],
          [
           "La Escuela No Me Gustó"
          ],
          [
           "El Chino (En Vivo)"
          ],
          [
           "El Fat Tony"
          ],
          [
           "Andamos Mejor"
          ],
          [
           "El Güero (Feat. Marca MP)"
          ],
          [
           "Una Raya Más al Tigre"
          ],
          [
           "Mi Pasado y Mi Presente"
          ],
          [
           "Híbrido"
          ],
          [
           "Belico El Asunto (En Vivo)"
          ],
          [
           "Backpack"
          ],
          [
           "A Lo Lejos Me Veran"
          ],
          [
           "Como Jordan"
          ],
          [
           "El Karma"
          ],
          [
           "Soy El Ratón"
          ],
          [
           "El Bélico"
          ],
          [
           "Hablando Claro (En Vivo)"
          ],
          [
           "JGL"
          ],
          [
           "La Barda"
          ],
          [
           "300 Locos - En Vivo"
          ],
          [
           "El Hijo Mayor"
          ],
          [
           "El Paciente"
          ],
          [
           "Si Me Ven"
          ],
          [
           "El Fugitivo - En Vivo"
          ],
          [
           "En El Radio Un Cochinero"
          ],
          [
           "Déjenme Hacer Dinero"
          ],
          [
           "La Mb"
          ],
          [
           "Yo Fui El Elegante"
          ],
          [
           "Hublot"
          ],
          [
           "Tranquilito"
          ],
          [
           "Corrido De Juanito"
          ],
          [
           "Fuera de Servicio - En Vivo"
          ],
          [
           "Se Fue La Pantera (En Vivo)"
          ],
          [
           "El Baleado"
          ],
          [
           "Vida Ventajosa"
          ],
          [
           "El Belicon"
          ],
          [
           "Javier El De Los Llanos"
          ],
          [
           "Yo Soy Rico"
          ],
          [
           "Ando Bien Al Tiro"
          ],
          [
           "No Le Aflojo"
          ],
          [
           "El Chaman"
          ],
          [
           "Se Amerita"
          ],
          [
           "Serafín Zambada"
          ],
          [
           "Rolling One"
          ],
          [
           "Brillo"
          ],
          [
           "El Flaquito"
          ],
          [
           "Los Botones Azules"
          ],
          [
           "El Vago De Los Nike"
          ],
          [
           "Mi Porvenir"
          ],
          [
           "Sencillo Soy"
          ],
          [
           "Denver Ruleteamos"
          ],
          [
           "De Ladrillo a Ladrillo"
          ],
          [
           "El Cuestionario"
          ]
         ],
         "hovertemplate": "Lista Rep=Corridos Perrones<br>TSNE_1=%{x}<br>TSNE_2=%{y}<br>cancion=%{customdata[0]}<extra></extra>",
         "legendgroup": "Corridos Perrones",
         "marker": {
          "color": "#00cc96",
          "symbol": "circle"
         },
         "mode": "markers",
         "name": "Corridos Perrones",
         "orientation": "v",
         "showlegend": true,
         "type": "scatter",
         "x": [
          11.521799,
          11.252279,
          6.8690124,
          11.390867,
          10.307395,
          -1.801464,
          28.53791,
          36.085293,
          16.054974,
          28.254673,
          16.55423,
          5.0879707,
          20.556059,
          14.681277,
          12.4422655,
          17.11171,
          14.198292,
          -11.262653,
          28.075512,
          9.936742,
          3.138179,
          11.559816,
          7.7528167,
          18.863924,
          -8.781861,
          21.069841,
          3.893818,
          8.879986,
          17.591072,
          8.045955,
          4.4541664,
          1.9256009,
          22.314335,
          -9.560418,
          5.166599,
          -7.4162455,
          13.8703785,
          11.658308,
          14.912959,
          11.196033,
          33.774868,
          21.259682,
          10.835871,
          16.153004,
          12.609607,
          23.928875,
          0.09530451,
          12.921926,
          21.925917,
          32.749115,
          21.876617,
          -5.861713,
          -9.325502,
          13.398075,
          18.515984,
          15.936788,
          9.885184,
          10.634842,
          9.303403,
          21.434376,
          21.058523,
          17.681206,
          7.942827,
          4.4648356,
          20.203337,
          19.102331,
          14.438928,
          22.02533,
          5.1023407,
          21.980816,
          31.575054,
          -6.290908,
          16.526003,
          15.928205,
          26.055407
         ],
         "xaxis": "x",
         "y": [
          15.052706,
          26.660208,
          10.215955,
          -4.366352,
          16.127388,
          32.0897,
          20.561527,
          -5.3446226,
          -7.017454,
          18.978773,
          28.688992,
          25.533173,
          19.871723,
          -6.1731734,
          25.112532,
          24.611687,
          29.316238,
          22.963524,
          -7.9568076,
          14.644997,
          12.465674,
          29.439167,
          9.244422,
          17.57497,
          37.64062,
          22.563406,
          9.957825,
          19.610847,
          31.057999,
          16.008926,
          31.738548,
          34.28744,
          18.18164,
          9.389361,
          -6.293839,
          29.174597,
          -4.7334824,
          30.347685,
          7.93375,
          18.492973,
          -7.692503,
          15.138063,
          24.493624,
          -2.1947498,
          16.028883,
          -3.775186,
          18.19093,
          -6.9661913,
          -4.4861517,
          -2.1748915,
          -8.049579,
          34.758846,
          27.389668,
          17.97825,
          -2.4843972,
          -3.7641826,
          28.539953,
          22.043478,
          17.149687,
          27.598053,
          16.613506,
          -0.58541596,
          11.686353,
          -1.0740703,
          21.43703,
          30.211357,
          35.001446,
          -5.08957,
          -3.994069,
          6.82531,
          -3.854447,
          11.416705,
          14.127413,
          19.863867,
          15.562515
         ],
         "yaxis": "y"
        },
        {
         "customdata": [
          [
           "Smells Like Teen Spirit"
          ],
          [
           "Another One Bites The Dust - Remastered 2011"
          ],
          [
           "Sweet Child O' Mine"
          ],
          [
           "Back In Black"
          ],
          [
           "Creep"
          ],
          [
           "Whole Lotta Love - 1990 Remaster"
          ],
          [
           "Livin' On A Prayer"
          ],
          [
           "La Grange - 2005 Remaster"
          ],
          [
           "Gimme Shelter"
          ],
          [
           "Hotel California - 2013 Remaster"
          ],
          [
           "All Along the Watchtower"
          ],
          [
           "Detroit Rock City"
          ],
          [
           "Wish You Were Here"
          ],
          [
           "Let's Go Crazy"
          ],
          [
           "Master of Puppets (Remastered)"
          ],
          [
           "Southern Cross - 2005 Remaster"
          ],
          [
           "Highway to Hell"
          ],
          [
           "I Love Rock 'N Roll"
          ],
          [
           "Something In The Way"
          ],
          [
           "Dream On"
          ],
          [
           "The Boys Are Back In Town"
          ],
          [
           "Don't Stop Believin'"
          ],
          [
           "Seven Nation Army"
          ],
          [
           "Paradise City"
          ],
          [
           "Heroes - 2017 Remaster"
          ],
          [
           "Tom Sawyer"
          ],
          [
           "Are You Gonna Go My Way"
          ],
          [
           "Killing In The Name"
          ],
          [
           "Baba O'Riley"
          ],
          [
           "Hold the Line"
          ],
          [
           "For What It's Worth"
          ],
          [
           "While My Guitar Gently Weeps"
          ],
          [
           "Paranoid - 2012 - Remaster"
          ],
          [
           "Police & Thieves - Remastered"
          ],
          [
           "Under the Bridge"
          ],
          [
           "Everlong"
          ],
          [
           "(I Can't Get No) Satisfaction - Mono Version"
          ],
          [
           "Paradise By the Dashboard Light"
          ],
          [
           "Dreams - 2004 Remaster"
          ],
          [
           "We Will Rock You - Remastered 2011"
          ],
          [
           "Enter Sandman (Remastered)"
          ],
          [
           "Sweet Home Alabama"
          ],
          [
           "Have You Ever Seen The Rain"
          ],
          [
           "Cult of Personality"
          ],
          [
           "Welcome To The Jungle"
          ],
          [
           "Born To Be Wild - Single Version"
          ],
          [
           "Moonage Daydream - 2012 Remaster"
          ],
          [
           "Every Breath You Take"
          ],
          [
           "I Wanna Rock"
          ],
          [
           "You Really Got Me"
          ],
          [
           "Limelight"
          ],
          [
           "Black Dog - Remaster"
          ],
          [
           "London Calling - Remastered"
          ],
          [
           "Come Together - Remastered 2009"
          ],
          [
           "House Of The Rising Sun"
          ],
          [
           "Purple Haze"
          ],
          [
           "Sultans of Swing"
          ],
          [
           "Wonderwall - Remastered"
          ],
          [
           "One Way Or Another - Remastered"
          ],
          [
           "Song 2 - 2012 Remaster"
          ],
          [
           "Heart-Shaped Box"
          ],
          [
           "American Girl"
          ],
          [
           "Edge of Seventeen - 2016 Remaster"
          ],
          [
           "Jailbreak"
          ],
          [
           "Basket Case"
          ],
          [
           "Jump - 2015 Remaster"
          ],
          [
           "Stairway to Heaven - Remaster"
          ],
          [
           "Sheena Is a Punk Rocker - 2017 Remaster"
          ],
          [
           "Starman - 2012 Remaster"
          ],
          [
           "Purple Rain"
          ],
          [
           "Bohemian Rhapsody - Remastered 2011"
          ],
          [
           "We Got The Beat - 2011 Remaster"
          ],
          [
           "With Or Without You - Remastered"
          ],
          [
           "Crazy On You"
          ],
          [
           "Mountain Song"
          ],
          [
           "Kickstart My Heart"
          ],
          [
           "Zombie"
          ],
          [
           "More Than a Feeling"
          ],
          [
           "Saturday Night’s Alright (For Fighting) - Remastered 2014"
          ],
          [
           "In The Air Tonight - 2015 Remastered"
          ],
          [
           "Thunderstruck"
          ],
          [
           "Back on the Chain Gang - 2007 Remaster"
          ],
          [
           "Rebel Rebel - 2016 Remaster"
          ],
          [
           "Crosstown Traffic"
          ],
          [
           "Break on Through (To the Other Side)"
          ],
          [
           "Born in the U.S.A."
          ],
          [
           "Bitter Sweet Symphony"
          ],
          [
           "Won't Get Fooled Again - Original Album Version"
          ],
          [
           "White Wedding - Pt. 1"
          ],
          [
           "The Spirit Of Radio"
          ],
          [
           "Carry on Wayward Son"
          ],
          [
           "Mr. Brightside"
          ],
          [
           "Where Is My Mind? - Remastered"
          ],
          [
           "Rock And Roll All Nite"
          ],
          [
           "Last Nite"
          ],
          [
           "Hit Me With Your Best Shot"
          ],
          [
           "Under Pressure - Remastered 2011"
          ],
          [
           "Alive"
          ],
          [
           "Rock You Like A Hurricane"
          ],
          [
           "You Give Love A Bad Name"
          ]
         ],
         "hovertemplate": "Lista Rep=Classic Rock<br>TSNE_1=%{x}<br>TSNE_2=%{y}<br>cancion=%{customdata[0]}<extra></extra>",
         "legendgroup": "Classic Rock",
         "marker": {
          "color": "#ab63fa",
          "symbol": "circle"
         },
         "mode": "markers",
         "name": "Classic Rock",
         "orientation": "v",
         "showlegend": true,
         "type": "scatter",
         "x": [
          6.9481363,
          22.651068,
          -2.237485,
          -2.7455308,
          -18.577333,
          -19.416191,
          12.560753,
          29.42848,
          -15.57647,
          -9.206024,
          -5.101373,
          -12.546441,
          -30.206587,
          -9.6644535,
          -3.9645302,
          -7.931963,
          -12.995515,
          -30.225203,
          -27.19654,
          -21.817766,
          -5.0793314,
          -21.4968,
          -22.975027,
          -9.826491,
          -1.7858038,
          -5.3498874,
          -7.05051,
          -16.593578,
          -19.962767,
          -2.7953358,
          -6.8926344,
          -31.49093,
          -13.689372,
          -6.9115705,
          -19.115503,
          -7.8056383,
          9.1567545,
          -21.24077,
          -6.957772,
          -10.885277,
          -5.468449,
          -1.9814303,
          12.323005,
          -29.170017,
          -4.1792264,
          -6.169393,
          -6.5689526,
          -6.9659643,
          13.579196,
          18.471943,
          9.701482,
          9.140824,
          10.884864,
          -18.836775,
          -14.038424,
          0.008630476,
          25.160278,
          0.03561391,
          -4.1216745,
          18.832111,
          -14.825095,
          9.831698,
          9.774233,
          21.13371,
          7.416191,
          11.539076,
          -26.543783,
          8.324947,
          -21.932829,
          -23.363287,
          -21.38373,
          3.5794985,
          -20.592197,
          -17.660017,
          -11.732863,
          -14.795727,
          -20.665058,
          -13.791764,
          12.16676,
          -24.543436,
          -1.9793557,
          11.853964,
          -10.22903,
          6.576412,
          -5.074628,
          -1.2058232,
          -13.438031,
          6.2433147,
          28.377272,
          -20.672415,
          -26.502525,
          1.4603976,
          -19.57979,
          13.443976,
          11.200886,
          -6.8011026,
          -14.492238,
          -13.494994,
          -12.865605,
          12.729346
         ],
         "xaxis": "x",
         "y": [
          -19.356262,
          -10.723567,
          -17.899368,
          -12.283548,
          -0.34260285,
          -39.424397,
          -18.996666,
          -5.883864,
          16.637438,
          4.6032934,
          -14.383797,
          -9.973687,
          3.5995946,
          -30.566206,
          -41.032825,
          20.75541,
          -28.807926,
          -8.858601,
          9.380785,
          13.672797,
          1.17867,
          -12.38748,
          -3.9316037,
          -29.678638,
          -40.141327,
          -13.194737,
          1.5018582,
          -37.804207,
          -4.250169,
          -17.470789,
          20.669172,
          -12.441502,
          -1.205128,
          6.7175193,
          2.8982887,
          -17.948328,
          -8.83546,
          -16.760561,
          5.279148,
          37.558945,
          -9.983181,
          9.514435,
          -8.055446,
          -11.861832,
          -36.294228,
          -41.626354,
          -0.31586924,
          23.238441,
          -20.156595,
          22.75744,
          -9.975178,
          -1.6433809,
          -9.654426,
          0.6759664,
          -3.8884757,
          -45.99792,
          5.5188236,
          -23.722797,
          -12.843075,
          9.335143,
          -8.457048,
          0.9254998,
          -4.4803443,
          -17.015337,
          -19.971632,
          -10.750228,
          10.620962,
          -20.10048,
          -9.142117,
          -10.026977,
          13.173984,
          -20.31166,
          1.3931084,
          1.0707847,
          -22.614586,
          -29.526249,
          -7.11841,
          -5.0098667,
          -13.586836,
          7.492805,
          -22.67259,
          -11.839586,
          0.42942387,
          -23.696707,
          0.9288227,
          -18.946993,
          -20.759916,
          -16.140385,
          7.305466,
          -17.778164,
          -12.809134,
          -25.5439,
          2.5225956,
          -12.621816,
          -12.535687,
          7.4931064,
          17.619987,
          -20.460657,
          -0.24602367,
          -19.486898
         ],
         "yaxis": "y"
        },
        {
         "customdata": [
          [
           "Un Monton De Estrellas"
          ],
          [
           "El Gran Varon"
          ],
          [
           "La Negra Tiene Tumbao"
          ],
          [
           "Tu Cariñito"
          ],
          [
           "Gracias Amor"
          ],
          [
           "Talento De Televisión"
          ],
          [
           "Yo No Sé Mañana (salsa)"
          ],
          [
           "Eres Mi Sueño"
          ],
          [
           "Te Va a Doler"
          ],
          [
           "Problemas de Ciudad"
          ],
          [
           "Que Locura Enamorarme De Ti"
          ],
          [
           "Citas Clandestinas"
          ],
          [
           "Lloraras"
          ],
          [
           "Me Tengo Que Ir"
          ],
          [
           "Un Sueño Y Nada Mas"
          ],
          [
           "Fabricando Fantasías - Salsa Version"
          ],
          [
           "Dime Cómo Hago"
          ],
          [
           "Conteo Regresivo - Salsa Version"
          ],
          [
           "Amores Como el Nuestro"
          ],
          [
           "Ven Devórame Otra Vez"
          ],
          [
           "Dame Una Noche - Remix"
          ],
          [
           "Aquel Lugar"
          ],
          [
           "Regálame una Noche"
          ],
          [
           "Lluvia"
          ],
          [
           "Cachondea"
          ],
          [
           "Sobredosis"
          ],
          [
           "Rumba Callejera - En Vivo"
          ],
          [
           "Casi Te Envidio"
          ],
          [
           "Una Aventura"
          ],
          [
           "Pequeñas Cosas"
          ],
          [
           "Isla para Dos"
          ],
          [
           "Mia"
          ],
          [
           "Quien Entiende Este Amor"
          ],
          [
           "Virgen"
          ],
          [
           "Será Que Si"
          ],
          [
           "Pedro Navaja"
          ],
          [
           "Mi Manera de Amarte"
          ],
          [
           "Soledad (2021 Remastered Version)"
          ],
          [
           "Gotas De Lluvia"
          ],
          [
           "La Agarro Bajando"
          ],
          [
           "Busca Por Dentro"
          ],
          [
           "Si Volveras a Mí"
          ],
          [
           "Se Va a Beber"
          ],
          [
           "Acurrucaito"
          ],
          [
           "Las Heridas"
          ],
          [
           "Anhelo"
          ],
          [
           "Ese"
          ],
          [
           "Conciencia"
          ],
          [
           "Si No La Tengo"
          ],
          [
           "Extrañándote"
          ],
          [
           "Setenta y Mas"
          ],
          [
           "Hazme Olvidarla"
          ],
          [
           "Silbando"
          ],
          [
           "Sin Sentimientos"
          ],
          [
           "Contigo Nada Fluye"
          ],
          [
           "Apiádate de Mi"
          ],
          [
           "Dominicano Alza La Mano"
          ],
          [
           "Desde El Fondo De Mi Corazon"
          ],
          [
           "Si Me Ves Llorar"
          ],
          [
           "Qué Hay de Malo"
          ],
          [
           "Quiero Morir En Tu Piel"
          ],
          [
           "Mala jujer"
          ],
          [
           "Mi Media Mitad"
          ],
          [
           "Dia Tras Dia"
          ],
          [
           "Si Supiera"
          ],
          [
           "Dime Qué Paso"
          ],
          [
           "El Carnaval del Sabor"
          ],
          [
           "Cara de Niño"
          ],
          [
           "Y Tú Te Vas"
          ],
          [
           "Déjame Un Beso"
          ],
          [
           "Vuelvo A Sentir"
          ],
          [
           "No Podrán Separarnos"
          ],
          [
           "Detalles"
          ],
          [
           "Ella Feat. Luis Enrique"
          ],
          [
           "Ojitos Hechiceros"
          ],
          [
           "¿Qué Pasó?"
          ],
          [
           "Dímelo"
          ],
          [
           "Corazon de Acero"
          ],
          [
           "Entre La Espada y La Pared"
          ],
          [
           "Evitare"
          ],
          [
           "De Punta a Punta"
          ],
          [
           "Sombra Loca"
          ],
          [
           "Rosa Rosa"
          ],
          [
           "La Cita"
          ],
          [
           "Todo Contigo"
          ],
          [
           "Le Hace Falta un Beso"
          ],
          [
           "He Creído"
          ],
          [
           "Caricias Prohibidas"
          ],
          [
           "Te Regalo Todo"
          ],
          [
           "Porque Te Amo"
          ],
          [
           "Tú Me Haces Falta"
          ],
          [
           "Todo Empezó"
          ],
          [
           "Cada Vez Otra Vez"
          ],
          [
           "Aquél Viejo Motel"
          ],
          [
           "Y Nos Amamos"
          ],
          [
           "Desnúdate Mujer"
          ],
          [
           "La Rueda"
          ],
          [
           "Tu Con El"
          ],
          [
           "Tú Me Vuelves Loco"
          ],
          [
           "Enamorado"
          ]
         ],
         "hovertemplate": "Lista Rep=Salsas Ching@nas<br>TSNE_1=%{x}<br>TSNE_2=%{y}<br>cancion=%{customdata[0]}<extra></extra>",
         "legendgroup": "Salsas Ching@nas",
         "marker": {
          "color": "#FFA15A",
          "symbol": "circle"
         },
         "mode": "markers",
         "name": "Salsas Ching@nas",
         "orientation": "v",
         "showlegend": true,
         "type": "scatter",
         "x": [
          -3.5875566,
          -14.65933,
          24.57973,
          18.025623,
          19.840992,
          -2.4998426,
          25.58173,
          13.878697,
          25.958836,
          -1.2278389,
          15.20278,
          19.311216,
          14.53907,
          15.839003,
          -2.0160944,
          23.44835,
          17.276995,
          13.980097,
          -6.9029098,
          1.1750171,
          26.946436,
          7.7046432,
          -1.6545953,
          14.220084,
          26.077509,
          17.823166,
          -30.497992,
          -0.8798976,
          0.67141414,
          1.126656,
          -0.25849298,
          -2.2094796,
          14.033636,
          20.370306,
          21.468285,
          -9.500109,
          12.864759,
          -0.42766154,
          25.84205,
          10.7745695,
          -7.2163506,
          25.30071,
          15.345658,
          21.938883,
          20.115526,
          21.498785,
          30.420734,
          14.550472,
          16.390026,
          24.674883,
          7.169546,
          -4.555945,
          7.68707,
          -14.210377,
          18.610199,
          16.268337,
          32.061222,
          12.981976,
          22.282522,
          -5.4613953,
          4.0686374,
          -2.8712838,
          10.052468,
          13.014622,
          -6.8522286,
          15.4501095,
          6.7462444,
          -0.31809056,
          -12.129939,
          22.47948,
          -5.7598557,
          -12.544922,
          13.80827,
          23.68367,
          24.897219,
          -3.5851345,
          25.644947,
          16.538166,
          15.075169,
          17.325964,
          -1.2712123,
          -4.8632965,
          21.766254,
          -2.3700783,
          9.696084,
          26.846127,
          -9.136247,
          -4.4527454,
          18.611567,
          11.313984,
          11.889743,
          1.4151855,
          -4.8746896,
          25.32403,
          25.659712,
          26.999016,
          17.435116,
          25.15086,
          18.111204,
          12.461929
         ],
         "xaxis": "x",
         "y": [
          -1.9741634,
          10.991484,
          11.671822,
          19.549421,
          33.675762,
          26.914068,
          29.556946,
          0.071602136,
          22.062656,
          15.595803,
          20.992048,
          1.1121874,
          20.719067,
          0.61292166,
          11.607621,
          15.623692,
          22.69095,
          28.191944,
          21.818527,
          19.696342,
          20.57211,
          23.126953,
          -1.7196264,
          21.53856,
          6.2306423,
          22.89617,
          -9.7107,
          15.277396,
          2.405211,
          16.343884,
          12.797586,
          23.94141,
          -17.411192,
          24.498127,
          23.586847,
          38.063526,
          -4.125458,
          17.327972,
          30.661907,
          13.248401,
          8.325822,
          22.477013,
          -3.0481188,
          -2.2929657,
          18.433802,
          20.698109,
          -6.3220596,
          21.855343,
          11.879366,
          30.036955,
          15.6757,
          28.533474,
          5.6082993,
          16.052095,
          16.271578,
          13.154731,
          -2.4579558,
          22.70434,
          23.259039,
          24.019524,
          16.07023,
          17.137693,
          3.2538574,
          0.85336894,
          24.625511,
          -1.5548766,
          9.6816025,
          18.760017,
          24.839739,
          23.691406,
          22.245525,
          31.104692,
          1.5405457,
          -3.3564265,
          3.8852587,
          11.641045,
          28.471613,
          26.730585,
          -3.788102,
          24.788305,
          10.31333,
          24.614109,
          18.015957,
          27.706614,
          22.453928,
          27.9612,
          9.681851,
          30.936659,
          26.976141,
          -6.6640854,
          -1.6315019,
          17.734692,
          25.46918,
          31.176596,
          31.896334,
          22.535292,
          27.032448,
          7.063151,
          18.031397,
          1.8280854
         ],
         "yaxis": "y"
        },
        {
         "customdata": [
          [
           "Master of Puppets (Remastered)"
          ],
          [
           "Chop Suey!"
          ],
          [
           "Duality"
          ],
          [
           "Crazy Train"
          ],
          [
           "Freak On a Leash"
          ],
          [
           "Enter Sandman (Remastered)"
          ],
          [
           "Hail to the King"
          ],
          [
           "My Own Summer (Shove It)"
          ],
          [
           "Bodies"
          ],
          [
           "Dragula"
          ],
          [
           "Ace of Spades"
          ],
          [
           "Walk"
          ],
          [
           "Symphony Of Destruction"
          ],
          [
           "I Wanna Rock"
          ],
          [
           "Sugar"
          ],
          [
           "Paranoid - 2012 - Remaster"
          ],
          [
           "Cum on Feel the Noize"
          ],
          [
           "Wait and Bleed"
          ],
          [
           "Cowboys from Hell"
          ],
          [
           "Breaking the Law"
          ],
          [
           "Nothin' But A Good Time - Remastered 2006"
          ],
          [
           "Du hast"
          ],
          [
           "Bad Company"
          ],
          [
           "Thunder Kiss '65"
          ],
          [
           "School's Out"
          ],
          [
           "Shout At The Devil"
          ],
          [
           "No One Like You"
          ],
          [
           "Mama, I'm Coming Home"
          ],
          [
           "A Warrior's Call"
          ],
          [
           "To Hell and Back"
          ],
          [
           "Your Betrayal"
          ],
          [
           "My Curse"
          ],
          [
           "Shadow Moses"
          ],
          [
           "Painkiller"
          ],
          [
           "Looking Down the Barrel of Today"
          ],
          [
           "I Stand Alone"
          ],
          [
           "Die MF Die"
          ],
          [
           "Iron Man - 2012 - Remaster"
          ],
          [
           "Bark at the Moon"
          ],
          [
           "Down with the Sickness"
          ],
          [
           "Stinkfist"
          ],
          [
           "Laid to Rest"
          ],
          [
           "Blood and Thunder"
          ],
          [
           "The Trooper - 2015 Remaster"
          ],
          [
           "Rainbow in the Dark"
          ],
          [
           "I Want Out"
          ],
          [
           "Cirice"
          ],
          [
           "Raining Blood"
          ],
          [
           "Dig"
          ],
          [
           "Push It"
          ],
          [
           "Redneck"
          ],
          [
           "Nobody's Fool"
          ],
          [
           "South Of Heaven"
          ],
          [
           "Twilight Of The Thunder God"
          ],
          [
           "Only for the Weak"
          ],
          [
           "Holy Diver"
          ],
          [
           "Pull Me Under"
          ],
          [
           "Roots Bloody Roots"
          ],
          [
           "I Wanna Be Somebody"
          ],
          [
           "Under and Over It"
          ],
          [
           "Balls to the Wall"
          ],
          [
           "Are You Dead Yet?"
          ],
          [
           "Ritual"
          ],
          [
           "Carrion"
          ],
          [
           "Madhouse"
          ],
          [
           "War Eternal"
          ],
          [
           "You Only Live Once"
          ],
          [
           "Black No. 1 (Little Miss Scare -All)"
          ],
          [
           "In Waves"
          ],
          [
           "The Number of the Beast - 2015 Remaster"
          ],
          [
           "Highway Star"
          ],
          [
           "Hammer Smashed Face"
          ],
          [
           "Kings of Metal"
          ],
          [
           "Wild Eyes"
          ],
          [
           "Heaven and Hell - 2008 Remaster"
          ],
          [
           "Panic Attack"
          ],
          [
           "Snap Your Fingers, Snap Your Neck"
          ],
          [
           "L'enfant sauvage"
          ],
          [
           "Davidian"
          ],
          [
           "Stone the Crow"
          ],
          [
           "The Motherload"
          ],
          [
           "Breaking the Chains"
          ],
          [
           "Halo"
          ],
          [
           "Freezing Moon"
          ],
          [
           "I Will Be Heard"
          ],
          [
           "Hellraiser - 30th Anniversary Edition"
          ],
          [
           "Let It Go"
          ],
          [
           "You Can't Bring Me Down"
          ],
          [
           "Arise"
          ],
          [
           "Stand My Ground"
          ],
          [
           "The Toxic Waltz"
          ],
          [
           "Slave to the Grind"
          ],
          [
           "Return to Serenity"
          ],
          [
           "Symbolic"
          ],
          [
           "Evil"
          ],
          [
           "Princess of the Night - 2009 Remastered Version"
          ],
          [
           "Raise Your Horns"
          ],
          [
           "Just One Fix"
          ],
          [
           "Replica"
          ],
          [
           "Brotherhood of the Snake"
          ]
         ],
         "hovertemplate": "Lista Rep=Metal Essentials<br>TSNE_1=%{x}<br>TSNE_2=%{y}<br>cancion=%{customdata[0]}<extra></extra>",
         "legendgroup": "Metal Essentials",
         "marker": {
          "color": "#19d3f3",
          "symbol": "circle"
         },
         "mode": "markers",
         "name": "Metal Essentials",
         "orientation": "v",
         "showlegend": true,
         "type": "scatter",
         "x": [
          -3.9638925,
          -11.776582,
          -16.507359,
          25.798159,
          -20.218876,
          -5.468449,
          6.1942663,
          -0.3612725,
          2.885987,
          10.081841,
          -10.333849,
          -9.252013,
          0.87665856,
          13.5790415,
          28.932766,
          -13.689372,
          -9.254878,
          -13.407606,
          -11.848647,
          0.818112,
          14.425494,
          28.971214,
          -8.514735,
          -23.2527,
          -22.919878,
          -0.25050208,
          -6.1776333,
          -14.298359,
          -10.536536,
          3.3709722,
          2.8554971,
          -9.862482,
          -15.842217,
          -18.416767,
          13.092916,
          -7.4379215,
          2.5501986,
          -11.4042635,
          -15.823878,
          24.337769,
          0.6471413,
          -13.427738,
          -0.6906525,
          -21.650446,
          -4.6998835,
          -17.901619,
          -1.1068642,
          -19.79846,
          -13.274977,
          13.606031,
          -17.581291,
          -17.849455,
          -18.368612,
          -5.1434712,
          1.8698093,
          -7.8612523,
          -4.0752163,
          -17.627092,
          -18.86242,
          -13.689291,
          -8.831187,
          -9.465009,
          10.3604145,
          -6.7442245,
          -23.721132,
          -3.8559985,
          -13.521948,
          -13.634959,
          -12.373385,
          2.946248,
          -12.800692,
          -3.0580149,
          -8.269978,
          -15.824961,
          -14.141922,
          -18.589111,
          -3.7001865,
          -12.657278,
          -14.114811,
          -7.312656,
          -4.4634967,
          -2.6499646,
          2.4697742,
          -2.7839186,
          5.8064857,
          2.5258658,
          -19.587435,
          -19.917635,
          -8.91086,
          -5.798304,
          -10.425948,
          -4.646294,
          -20.700258,
          -15.726533,
          -2.7206526,
          -9.197054,
          -1.2200886,
          2.0464487,
          29.86679,
          -20.418161
         ],
         "xaxis": "x",
         "y": [
          -41.032784,
          -29.189484,
          -29.452587,
          20.442621,
          -18.667515,
          -9.983181,
          -18.777586,
          -25.578823,
          -17.706083,
          -14.185525,
          -9.944533,
          -8.173533,
          -17.515945,
          -20.156675,
          -9.972412,
          -1.205128,
          -30.255594,
          -23.879412,
          -9.6915865,
          -24.346428,
          -20.606697,
          7.804226,
          -19.905823,
          -11.969767,
          -13.916698,
          -18.919144,
          0.23948313,
          -4.488125,
          -23.79462,
          -22.87118,
          -21.015877,
          -26.449816,
          -30.55516,
          -27.05458,
          -21.717957,
          -26.937265,
          -17.408504,
          -5.249478,
          -36.162777,
          13.722924,
          -49.471317,
          -24.525576,
          -48.136047,
          -18.90297,
          -15.881342,
          -17.761568,
          -22.049553,
          -32.467617,
          -26.83904,
          -21.297037,
          -26.162048,
          1.0840656,
          -35.843365,
          -24.698187,
          -48.633545,
          -32.6176,
          -30.437595,
          -23.127512,
          -18.917715,
          -27.255693,
          -14.357433,
          -23.078787,
          -12.5879135,
          -27.379932,
          -14.103268,
          -25.045097,
          -29.145447,
          -6.9506164,
          -24.390985,
          -25.774288,
          -20.037527,
          -48.741962,
          -0.36270076,
          -29.65115,
          -7.2807155,
          -28.071148,
          -10.132804,
          -40.77066,
          -33.19358,
          -17.417854,
          -26.190643,
          -21.879396,
          -20.227438,
          -51.842186,
          -21.624737,
          -18.804873,
          -19.238842,
          -37.31184,
          -32.11568,
          -25.261602,
          -53.442368,
          -37.16069,
          11.335472,
          -33.09797,
          -43.724392,
          -8.74419,
          -46.9755,
          -41.689934,
          7.8967233,
          -28.841465
         ],
         "yaxis": "y"
        },
        {
         "customdata": [
          [
           "Llorar"
          ],
          [
           "El Paso del Gigante"
          ],
          [
           "Tiene Espinas El Rosal"
          ],
          [
           "Que Bello"
          ],
          [
           "Procura"
          ],
          [
           "Tiburon"
          ],
          [
           "Cómo Te Voy A Olvidar"
          ],
          [
           "17 Años"
          ],
          [
           "Mi Niña Mujer"
          ],
          [
           "El Listón De Tu Pelo"
          ],
          [
           "Todo Me Gusta De Ti"
          ],
          [
           "Se Me Perdio La Cadenita"
          ],
          [
           "Escándalo"
          ],
          [
           "Baila Esta Cumbia"
          ],
          [
           "El Chico Del Apartamento 512"
          ],
          [
           "Bidi Bidi Bom Bom - 1994 Version"
          ],
          [
           "Amor Prohibido"
          ],
          [
           "La Carcacha"
          ],
          [
           "Suavecito, Suavecito"
          ],
          [
           "Oye Mujer"
          ],
          [
           "Fiestiña"
          ],
          [
           "Mi Cucu"
          ],
          [
           "Que nadie sepa mi sufrir (Amor de mis amores)"
          ],
          [
           "Spanish Girl"
          ],
          [
           "El Botecito"
          ],
          [
           "Un Sueño"
          ],
          [
           "No Te Pertenece"
          ],
          [
           "Un Monton De Estrellas"
          ],
          [
           "Cumbia De Los Monjes"
          ],
          [
           "Agua de vida"
          ],
          [
           "Loca"
          ],
          [
           "Muchachita Consentida"
          ],
          [
           "Sopa De Caracol"
          ],
          [
           "El Gran Varon"
          ],
          [
           "Entrega De Amor"
          ],
          [
           "Mis Sentimientos"
          ],
          [
           "Besar Tu Piel"
          ],
          [
           "No Te Voy A Perdonar"
          ],
          [
           "Me Volví A Acordar De Ti"
          ],
          [
           "Amor Regresa"
          ],
          [
           "El Afilador"
          ],
          [
           "Mayonesa"
          ],
          [
           "La Ventanita"
          ],
          [
           "La Negra Tiene Tumbao"
          ],
          [
           "La Boa"
          ],
          [
           "Bomboro Quiñá Quiñá (with Rubén Albarrán) - En Vivo"
          ],
          [
           "Amigos Nada Más"
          ],
          [
           "Los Luchadores"
          ],
          [
           "Echarme Al Olvido"
          ],
          [
           "La rebelion"
          ],
          [
           "Gracias Amor"
          ],
          [
           "Mil Horas"
          ],
          [
           "Existe Un Corazón"
          ],
          [
           "Chica Atrevida"
          ],
          [
           "Me Haces Falta Tú"
          ],
          [
           "Tenías Que Ser Tú"
          ],
          [
           "Bonita Pero Mentirosa"
          ],
          [
           "Conga Y Timbal"
          ],
          [
           "Como La Flor"
          ],
          [
           "Pégame Tu Vicio"
          ],
          [
           "Adiós Adiós"
          ],
          [
           "El Nido"
          ],
          [
           "El Gil de Tu Ex"
          ],
          [
           "Talento De Televisión"
          ],
          [
           "Yo No Sé Mañana (salsa)"
          ],
          [
           "Los Caminos De La Vida"
          ],
          [
           "Cumbia sobre el río / Interludio"
          ],
          [
           "Vidrio"
          ],
          [
           "Sin Ti No Sé Vivir"
          ],
          [
           "Eres Mi Sueño"
          ],
          [
           "Hechicería"
          ],
          [
           "Pidele Perdon"
          ],
          [
           "Hoy Tengo Ganas De Ti"
          ],
          [
           "Me Ganaron Tu Cariño"
          ],
          [
           "La Tortuga"
          ],
          [
           "Cumbia Villera"
          ],
          [
           "Pibe Cantina"
          ],
          [
           "El Amor"
          ],
          [
           "Maruja"
          ],
          [
           "Sin Alma Y Sin Corazon"
          ],
          [
           "Ay Amor"
          ],
          [
           "Tonta"
          ],
          [
           "Trapeaste conmigo"
          ],
          [
           "Ojitos Mentirosos"
          ],
          [
           "Súbale Hay Lugares"
          ],
          [
           "Ya Se Ha Muerto Mi Abuelo"
          ],
          [
           "La Última Coca del Desierto"
          ],
          [
           "Prisionera"
          ],
          [
           "Cumbia Sampuesana"
          ],
          [
           "Llorando Se Fue \"Lambada\""
          ],
          [
           "Regresa Mi Vida"
          ],
          [
           "El Reo Ausente"
          ],
          [
           "Nunca Es Suficiente"
          ],
          [
           "¿Dónde Estarás?"
          ],
          [
           "Que Te Vaya Bien"
          ],
          [
           "Vienes y Te Vas"
          ],
          [
           "Tus Jefes No Me Quieren"
          ],
          [
           "Rumba Cha Cha"
          ],
          [
           "La Escandalosa"
          ],
          [
           "Me llamo Raquel"
          ]
         ],
         "hovertemplate": "Lista Rep=Cumbias de Microbusero<br>TSNE_1=%{x}<br>TSNE_2=%{y}<br>cancion=%{customdata[0]}<extra></extra>",
         "legendgroup": "Cumbias de Microbusero",
         "marker": {
          "color": "#FF6692",
          "symbol": "circle"
         },
         "mode": "markers",
         "name": "Cumbias de Microbusero",
         "orientation": "v",
         "showlegend": true,
         "type": "scatter",
         "x": [
          19.593601,
          33.317192,
          0.6400942,
          -3.2142012,
          17.85752,
          0.027214525,
          -13.103282,
          -7.6818285,
          6.8198113,
          7.565575,
          14.493112,
          -5.6371164,
          22.954191,
          22.410894,
          1.5533199,
          -1.6228323,
          -2.1450722,
          26.245518,
          -6.1519933,
          10.954679,
          15.49247,
          25.898794,
          26.905802,
          27.573763,
          8.07312,
          15.700865,
          -8.698189,
          -3.5878608,
          6.2916517,
          -3.122923,
          12.248704,
          8.283091,
          0.48430616,
          -14.658899,
          -12.676584,
          7.7240343,
          -7.401242,
          3.342561,
          -22.05728,
          -30.852654,
          13.814794,
          21.218542,
          8.657765,
          24.579697,
          11.994177,
          5.169421,
          -8.961179,
          7.2305913,
          -18.742287,
          10.676695,
          19.84125,
          15.081973,
          -5.3904753,
          2.1643703,
          -8.912936,
          -1.0542456,
          -6.084575,
          -1.8506413,
          27.083115,
          9.676273,
          -1.1378791,
          -3.3292873,
          27.175482,
          -2.5002759,
          25.581732,
          -1.9861304,
          2.835775,
          9.366633,
          -12.168932,
          13.878814,
          3.7911675,
          -0.7419072,
          -7.7204566,
          -1.8126172,
          17.274464,
          17.064222,
          19.827297,
          -4.6054907,
          15.007783,
          10.907793,
          -11.727175,
          -0.95834476,
          1.9867811,
          8.648897,
          26.985909,
          -8.33192,
          -29.804787,
          16.14498,
          19.013712,
          -0.5277849,
          10.552713,
          9.157724,
          -9.719929,
          -4.6384654,
          16.317274,
          15.477373,
          -4.976154,
          18.351742,
          15.634092,
          12.752627
         ],
         "xaxis": "x",
         "y": [
          -6.0186896,
          -3.714605,
          8.060406,
          13.873498,
          17.190098,
          3.0538516,
          22.2622,
          26.491781,
          25.798962,
          19.760748,
          12.527056,
          -1.4621658,
          19.675846,
          -2.7548132,
          15.1940365,
          11.147696,
          16.888298,
          7.8373446,
          24.131498,
          6.0750346,
          -10.967116,
          6.8198276,
          10.02619,
          8.555215,
          -8.115084,
          9.285944,
          26.381607,
          -1.973807,
          15.760372,
          5.0506463,
          -0.6404873,
          25.257046,
          12.218417,
          10.99159,
          21.713282,
          25.490507,
          27.562853,
          9.520682,
          28.340876,
          -8.728826,
          -5.710359,
          12.603315,
          -7.5563297,
          11.671733,
          17.266232,
          4.0396132,
          29.315784,
          12.565378,
          4.502114,
          -8.36911,
          33.67618,
          -7.332437,
          15.133268,
          13.305694,
          5.633783,
          22.779997,
          5.0835986,
          13.228869,
          9.594332,
          -9.104765,
          14.431106,
          18.596529,
          23.809555,
          26.91431,
          29.556944,
          23.617384,
          -48.056805,
          26.090078,
          25.83237,
          0.07172058,
          -2.265063,
          12.007378,
          9.47464,
          8.493282,
          -15.69807,
          -6.0063677,
          11.234156,
          -2.6393669,
          -5.132073,
          3.4596806,
          24.23031,
          9.20031,
          15.862724,
          17.438726,
          0.36917943,
          8.420124,
          -10.78597,
          7.593588,
          -5.870716,
          20.12451,
          -6.1751094,
          15.498249,
          26.070433,
          8.850081,
          29.501291,
          12.9785185,
          6.486472,
          11.228814,
          7.5525894,
          -0.9374765
         ],
         "yaxis": "y"
        },
        {
         "customdata": [
          [
           "Master Of Puppets"
          ],
          [
           "Enter Sandman"
          ],
          [
           "Whiskey In The Jar"
          ],
          [
           "For Whom The Bell Tolls - Remastered"
          ],
          [
           "One"
          ],
          [
           "Nothing Else Matters"
          ],
          [
           "Fuel"
          ],
          [
           "Fade To Black - Remastered"
          ],
          [
           "Seek & Destroy - Remastered"
          ],
          [
           "The Unforgiven"
          ],
          [
           "The Unforgiven II"
          ],
          [
           "Battery"
          ],
          [
           "The Day That Never Comes"
          ],
          [
           "Sad But True"
          ],
          [
           "Turn The Page"
          ],
          [
           "Hardwired"
          ],
          [
           "Whiplash - Remastered"
          ],
          [
           "Wherever I May Roam"
          ],
          [
           "The Memory Remains"
          ],
          [
           "St. Anger"
          ],
          [
           "Ride The Lightning (Remastered)"
          ],
          [
           "Until It Sleeps"
          ],
          [
           "Fight Fire With Fire - Remastered"
          ],
          [
           "The Four Horsemen - Remastered"
          ],
          [
           "All Nightmare Long"
          ],
          [
           "Mama Said"
          ],
          [
           "Welcome Home (Sanitarium) - Remastered"
          ],
          [
           "Die, Die My Darling"
          ],
          [
           "The Unforgiven III"
          ],
          [
           "Don't Tread On Me"
          ],
          [
           "Creeping Death (Remastered)"
          ],
          [
           "Blackened"
          ],
          [
           "King Nothing"
          ],
          [
           "I Disappear"
          ],
          [
           "The Thing That Should Not Be"
          ],
          [
           "Harvester Of Sorrow"
          ],
          [
           "Orion - Remastered"
          ],
          [
           "Tuesday's Gone"
          ],
          [
           "Leper Messiah"
          ],
          [
           "...And Justice For All"
          ],
          [
           "No Leaf Clover - Live"
          ],
          [
           "Moth Into Flame"
          ],
          [
           "Disposable Heroes"
          ],
          [
           "Motorbreath - Remastered"
          ],
          [
           "Trapped Under Ice - Remastered"
          ],
          [
           "Hit The Lights - Remastered"
          ],
          [
           "Damage, Inc."
          ],
          [
           "Jump In The Fire - Remastered"
          ],
          [
           "Eye Of The Beholder"
          ],
          [
           "Devil's Dance"
          ]
         ],
         "hovertemplate": "Lista Rep=This is Metallica<br>TSNE_1=%{x}<br>TSNE_2=%{y}<br>cancion=%{customdata[0]}<extra></extra>",
         "legendgroup": "This is Metallica",
         "marker": {
          "color": "#B6E880",
          "symbol": "circle"
         },
         "mode": "markers",
         "name": "This is Metallica",
         "orientation": "v",
         "showlegend": true,
         "type": "scatter",
         "x": [
          -3.907372,
          -5.5513763,
          -5.8891716,
          3.470236,
          -12.683725,
          -19.583153,
          5.4714994,
          -9.084664,
          -16.500843,
          -17.799316,
          -8.0650215,
          -6.5127454,
          -3.0435834,
          -6.3915286,
          -6.5942764,
          -9.230649,
          -1.4205225,
          -8.1787195,
          -6.2444434,
          1.5850626,
          -13.384045,
          -3.9390347,
          -1.1561627,
          -19.83447,
          -8.367284,
          -21.08554,
          -13.727466,
          -5.2231116,
          -16.35325,
          1.9915771,
          -15.4714365,
          -11.11563,
          -6.6338596,
          4.247355,
          -3.7163966,
          1.8209777,
          -6.7726674,
          -24.91317,
          1.9789652,
          -10.418122,
          -30.60254,
          -5.4334188,
          -2.2328262,
          -19.635624,
          -13.881585,
          -17.22997,
          -9.917737,
          -21.688553,
          -3.505229,
          4.941847
         ],
         "xaxis": "x",
         "y": [
          -41.073795,
          -9.593183,
          -19.090748,
          -24.34478,
          -5.80376,
          1.6135296,
          -20.463774,
          -34.469257,
          -37.09046,
          -2.0130312,
          -22.291466,
          -47.14573,
          -26.435843,
          -14.983517,
          -22.157492,
          -25.848074,
          -42.694954,
          -14.722011,
          -19.508108,
          -22.702805,
          -33.173393,
          -17.585655,
          -51.371952,
          -37.099766,
          -27.992125,
          -6.979838,
          -8.730389,
          -19.215504,
          -5.5798316,
          -9.876801,
          -34.663597,
          -9.160191,
          -16.296011,
          -20.951855,
          -39.59708,
          -9.771016,
          -49.151222,
          -11.214508,
          -50.07964,
          -15.095311,
          -12.871426,
          -27.074438,
          -44.30485,
          -30.703852,
          -35.40574,
          -33.972885,
          -48.762745,
          -18.835854,
          -7.98259,
          -17.941229
         ],
         "yaxis": "y"
        },
        {
         "customdata": [
          [
           "Deutschland"
          ],
          [
           "Dicke Titten"
          ],
          [
           "Du hast"
          ],
          [
           "Sonne"
          ],
          [
           "Ausländer"
          ],
          [
           "Armee der Tristen"
          ],
          [
           "Engel"
          ],
          [
           "Ich will"
          ],
          [
           "Radio"
          ],
          [
           "Angst"
          ],
          [
           "Amerika"
          ],
          [
           "Feuer frei!"
          ],
          [
           "Zeig dich"
          ],
          [
           "Zick Zack"
          ],
          [
           "Du riechst so gut"
          ],
          [
           "Mein Herz brennt"
          ],
          [
           "Puppe"
          ],
          [
           "Zeit"
          ],
          [
           "Asche zu Asche"
          ],
          [
           "Links 2 3 4"
          ],
          [
           "Was ich liebe"
          ],
          [
           "Giftig"
          ],
          [
           "Mein Teil"
          ],
          [
           "Rammstein"
          ],
          [
           "Mutter"
          ],
          [
           "Ich tu dir weh"
          ],
          [
           "Ohne dich"
          ],
          [
           "Rosenrot"
          ],
          [
           "Wollt ihr das Bett in Flammen sehen"
          ],
          [
           "Waidmanns Heil"
          ],
          [
           "Keine Lust"
          ],
          [
           "Sehnsucht"
          ],
          [
           "Heirate mich"
          ],
          [
           "Haifisch"
          ],
          [
           "Reise, Reise"
          ],
          [
           "Mein Land"
          ],
          [
           "Halleluja"
          ],
          [
           "Pussy"
          ],
          [
           "Moskau"
          ],
          [
           "Benzin"
          ],
          [
           "Weisses Fleisch"
          ],
          [
           "Bück dich"
          ],
          [
           "Rammlied"
          ],
          [
           "Mann gegen Mann"
          ],
          [
           "Tier"
          ],
          [
           "Te quiero puta!"
          ]
         ],
         "hovertemplate": "Lista Rep=This is Rammstein<br>TSNE_1=%{x}<br>TSNE_2=%{y}<br>cancion=%{customdata[0]}<extra></extra>",
         "legendgroup": "This is Rammstein",
         "marker": {
          "color": "#FF97FF",
          "symbol": "circle"
         },
         "mode": "markers",
         "name": "This is Rammstein",
         "orientation": "v",
         "showlegend": true,
         "type": "scatter",
         "x": [
          -0.6249386,
          -0.5943859,
          28.971134,
          -16.461447,
          15.094716,
          -0.98954487,
          -22.248068,
          3.7986252,
          10.859419,
          -8.6236925,
          15.576002,
          0.9591224,
          3.8395884,
          0.42288074,
          1.9471618,
          -0.5019309,
          -8.8353815,
          -18.436977,
          -5.3463254,
          -27.898422,
          -20.810017,
          4.30349,
          -8.650362,
          -5.5508704,
          -17.351727,
          0.05785886,
          -17.239624,
          -1.2726485,
          4.179818,
          -4.6058226,
          -2.7543652,
          -5.1265264,
          -8.178654,
          -4.3805537,
          -3.4012873,
          -8.4277935,
          -7.1792364,
          -1.5189879,
          -6.8640084,
          1.0005533,
          -5.97564,
          -3.19857,
          1.2719274,
          -3.9770064,
          -3.5732727,
          -6.617468
         ],
         "xaxis": "x",
         "y": [
          -39.863064,
          -15.649963,
          7.805456,
          -22.598143,
          -19.616018,
          -23.414389,
          -2.769261,
          -19.104885,
          -12.964051,
          -19.243864,
          -20.075949,
          -41.42534,
          -21.82234,
          -16.319904,
          -9.002899,
          -22.038738,
          -15.181757,
          -2.6871958,
          -12.709109,
          -11.339537,
          22.295465,
          -19.222816,
          -21.011908,
          -46.36594,
          -4.5459414,
          -26.412872,
          -5.2756166,
          -39.29995,
          -48.4233,
          -17.424074,
          -22.489996,
          -45.1599,
          -11.951103,
          -46.24944,
          -37.007877,
          -22.972725,
          -16.179575,
          -15.429383,
          -45.229183,
          -20.802225,
          -2.3772578,
          -15.067851,
          -42.822845,
          -15.732572,
          -19.433619,
          -36.657406
         ],
         "yaxis": "y"
        },
        {
         "customdata": [
          [
           "Cintura Pa' Abajo"
          ],
          [
           "No Me Conoce - Remix"
          ],
          [
           "Rikala"
          ],
          [
           "Mexicana (feat. El Malilla)"
          ],
          [
           "Pa Perrear"
          ],
          [
           "Guatauba"
          ],
          [
           "Rompelo"
          ],
          [
           "En Secreto"
          ],
          [
           "Quédate Más"
          ],
          [
           "Agárrala - Remix"
          ],
          [
           "Karma"
          ],
          [
           "Sacudelo"
          ],
          [
           "Pa Mentir Soy una Especialista"
          ],
          [
           "Maripilili"
          ],
          [
           "Estrella de cine"
          ],
          [
           "Bon Appetit"
          ],
          [
           "Lluvia De Micheladas"
          ],
          [
           "West Love"
          ],
          [
           "Tu Haces"
          ],
          [
           "Desnudate"
          ],
          [
           "Cochinae"
          ],
          [
           "Soltero"
          ],
          [
           "Drama"
          ],
          [
           "Bailoteo"
          ],
          [
           "La Gata de la Agricola Oriental - Remastered"
          ],
          [
           "Fantasías"
          ],
          [
           "Dioza"
          ],
          [
           "Frambuesa"
          ],
          [
           "Intro Teléfono Perreo Rkt - feat. Mister Remix"
          ],
          [
           "Mai Grita"
          ],
          [
           "Buyaka Rkt"
          ],
          [
           "Como Mi Nena No Hay (feat. Master Joe y O.G. Black)"
          ],
          [
           "Tra Tra Tra Remix - Remix"
          ],
          [
           "Low Battery"
          ],
          [
           "Frikitona"
          ],
          [
           "A Ella Le Encanta"
          ],
          [
           "Chulo Sin H (feat. De la Ghetto)"
          ],
          [
           "El Funeral De La Canoa"
          ],
          [
           "Tu Sicaria"
          ],
          [
           "Le Encanta"
          ],
          [
           "Harta Demencia"
          ],
          [
           "Tu Pones la Hora y Yo Le Caigo"
          ],
          [
           "Perreo Católico 1 (Abemus)"
          ],
          [
           "En 20 Uñas (feat. Don Chezina)"
          ],
          [
           "El Goloso"
          ],
          [
           "Todavia"
          ],
          [
           "Contacto en Cuarto"
          ],
          [
           "Lola"
          ],
          [
           "Guatauba - Remastered"
          ],
          [
           "Te Lo Tiro Pa' Que Baile - Remastered"
          ],
          [
           "Chica Ven Pa' Aca"
          ],
          [
           "La Vecinita"
          ],
          [
           "Vamo a Busal"
          ],
          [
           "Fin de Semana"
          ],
          [
           "Te Ves Buena"
          ],
          [
           "Papi Shampu"
          ],
          [
           "Hasta Abajo"
          ],
          [
           "Suena Perreo"
          ],
          [
           "Ay Pablito Qué Rico! (feat. Mawe)"
          ],
          [
           "Ella Fuma"
          ],
          [
           "Cumbia"
          ],
          [
           "Estamos En On"
          ],
          [
           "Ella Me Levanto"
          ],
          [
           "La Chinita de los Ojos Cafés"
          ],
          [
           "Los Angeles"
          ],
          [
           "La Mona"
          ],
          [
           "Dile"
          ],
          [
           "Pose"
          ],
          [
           "Ruleta Rusa"
          ],
          [
           "Piropo"
          ],
          [
           "Perra"
          ],
          [
           "Anormal"
          ],
          [
           "+ Calma :("
          ],
          [
           "Yo Perreo Sola"
          ],
          [
           "Safaera"
          ],
          [
           "Te Encojona"
          ],
          [
           "Culo"
          ],
          [
           "Morado"
          ],
          [
           "Se Preparó"
          ],
          [
           "Tibiri Tabara - feat. Uzielito Mix"
          ],
          [
           "Brrr"
          ],
          [
           "Arabe Slug"
          ],
          [
           "Gata Fiera (feat. Joan)"
          ],
          [
           "Jala"
          ],
          [
           "La Calle es de Nosotros - Remix"
          ],
          [
           "Culo Arabe"
          ],
          [
           "Son las Doce"
          ],
          [
           "Golosa"
          ],
          [
           "te pongo mal(prendelo)"
          ],
          [
           "Intro Telefono Perreo"
          ],
          [
           "Buyaka"
          ],
          [
           "Perreo Como Antes"
          ],
          [
           "Lo Que Pasó, Pasó"
          ],
          [
           "El Phillie"
          ],
          [
           "Intro Pablo Escobar - Guaracha Zapateo & Aleteo"
          ],
          [
           "Lento Pa Arriba Lento Pa Bajo"
          ],
          [
           "Los Bellacos (feat. El Bellaco)"
          ],
          [
           "Mi Egipcia (Dale Movimiento)"
          ],
          [
           "Mega Ñengo Flow"
          ],
          [
           "Yamilette"
          ]
         ],
         "hovertemplate": "Lista Rep=Perreo para barrer el piso con la cola<br>TSNE_1=%{x}<br>TSNE_2=%{y}<br>cancion=%{customdata[0]}<extra></extra>",
         "legendgroup": "Perreo para barrer el piso con la cola",
         "marker": {
          "color": "#FECB52",
          "symbol": "circle"
         },
         "mode": "markers",
         "name": "Perreo para barrer el piso con la cola",
         "orientation": "v",
         "showlegend": true,
         "type": "scatter",
         "x": [
          24.762539,
          2.5841584,
          18.482735,
          26.687002,
          32.521896,
          25.406631,
          27.27415,
          32.305473,
          19.84443,
          17.924868,
          30.653442,
          29.458416,
          9.4530115,
          6.154231,
          22.472092,
          7.1746693,
          27.218334,
          22.807627,
          23.709925,
          19.96778,
          23.840061,
          19.001883,
          10.351345,
          -21.988165,
          18.182884,
          34.57322,
          29.20224,
          4.707537,
          2.3721383,
          26.561907,
          20.296824,
          -29.197514,
          26.540297,
          2.9714715,
          26.687035,
          16.390726,
          31.992186,
          6.2450285,
          9.363371,
          22.403833,
          18.57639,
          27.29379,
          1.3884515,
          17.298233,
          30.13218,
          4.984492,
          22.85613,
          27.81732,
          6.1060295,
          23.968039,
          6.367832,
          34.335945,
          16.837423,
          26.194954,
          19.38452,
          18.830431,
          1.1934475,
          15.3724575,
          15.831213,
          29.807854,
          34.731346,
          -9.3854685,
          24.769001,
          33.6768,
          21.573484,
          32.131943,
          22.738222,
          25.172493,
          -22.03731,
          20.108585,
          33.14293,
          0.49373853,
          -15.684373,
          29.691208,
          30.842731,
          35.74763,
          33.345802,
          20.440601,
          5.9570026,
          28.821434,
          5.981963,
          5.115186,
          -5.245481,
          17.272308,
          31.00092,
          -26.83914,
          25.212814,
          3.3757343,
          11.19759,
          0.061012283,
          33.81209,
          2.3490527,
          24.412338,
          19.453796,
          20.172167,
          35.002563,
          7.9449935,
          22.808264,
          36.30319,
          35.186546
         ],
         "xaxis": "x",
         "y": [
          15.317083,
          -1.8893954,
          13.942175,
          -4.89741,
          -1.0179079,
          -9.098926,
          1.6276263,
          -3.0417178,
          -18.418032,
          11.113715,
          -7.6003327,
          1.6783905,
          1.8936068,
          3.3717883,
          25.8803,
          -12.966534,
          -7.325686,
          24.194435,
          -9.0602455,
          -8.947005,
          6.363909,
          -8.83738,
          10.033305,
          -2.047677,
          -19.114698,
          -4.5199976,
          22.560772,
          11.436673,
          -5.299509,
          -3.0619314,
          -18.10756,
          -10.097009,
          -8.743807,
          -5.3016734,
          -3.9623578,
          -10.818659,
          -8.464097,
          -4.2324595,
          -11.569167,
          6.482735,
          -8.935002,
          2.573629,
          -3.826629,
          -15.398239,
          3.183005,
          -5.3034625,
          -8.836329,
          18.109484,
          -10.5697155,
          1.9116695,
          -13.419321,
          -6.3815374,
          -18.914549,
          -8.189982,
          18.156885,
          8.502189,
          -44.650875,
          -8.596367,
          14.4679,
          1.819816,
          -8.531383,
          38.243046,
          3.1028504,
          -5.508973,
          11.896365,
          -9.062009,
          -7.038536,
          -8.767254,
          -4.6226544,
          13.002394,
          -10.089675,
          -3.8949382,
          22.342464,
          4.9601073,
          -9.602373,
          -5.1397986,
          -8.189358,
          13.76661,
          -11.858106,
          22.94457,
          -11.225914,
          -14.058306,
          -39.98411,
          -8.409664,
          3.0140297,
          -8.858829,
          -4.0664887,
          -3.9655952,
          -8.463582,
          -37.979107,
          -6.0889535,
          -2.5807137,
          7.2136984,
          12.77664,
          1.0263491,
          -3.5739865,
          -12.580051,
          15.7878275,
          -3.7963068,
          -7.886823
         ],
         "yaxis": "y"
        },
        {
         "customdata": [
          [
           "Take Me to Church"
          ],
          [
           "Cherry Wine - Live"
          ],
          [
           "Someone New"
          ],
          [
           "Work Song"
          ],
          [
           "Better Love - From The Legend of Tarzan - Single version"
          ],
          [
           "From Eden"
          ],
          [
           "Sedated"
          ],
          [
           "Like Real People Do"
          ],
          [
           "It Will Come Back"
          ],
          [
           "Foreigner's God"
          ],
          [
           "In a Week - Live From Spotify London"
          ],
          [
           "To Be Alone - Live at the Pepper Canister Church, Dublin, Ireland - December 2013"
          ],
          [
           "To Be Alone - Live from Spotify SXSW 2014"
          ],
          [
           "Arsonist's Lullabye"
          ],
          [
           "Angel of Small Death and the Codeine Scene"
          ],
          [
           "Jackie and Wilson"
          ],
          [
           "Jackie And Wilson - Live"
          ],
          [
           "Take Me to Church - Live From Spotify London"
          ],
          [
           "Tell It To My Heart"
          ],
          [
           "The Bones - with Hozier"
          ],
          [
           "Almost (Sweet Music)"
          ],
          [
           "Say My Name - Recorded at Spotify Studios NYC"
          ],
          [
           "NFWMB"
          ],
          [
           "The Parting Glass - Live from the Late Late Show"
          ],
          [
           "Would That I"
          ],
          [
           "Moment's Silence (Common Tongue)"
          ],
          [
           "Shrike"
          ],
          [
           "Wasteland, Baby!"
          ],
          [
           "Movement"
          ],
          [
           "Sunlight"
          ]
         ],
         "hovertemplate": "Lista Rep=This is Hozier<br>TSNE_1=%{x}<br>TSNE_2=%{y}<br>cancion=%{customdata[0]}<extra></extra>",
         "legendgroup": "This is Hozier",
         "marker": {
          "color": "#636efa",
          "symbol": "circle"
         },
         "mode": "markers",
         "name": "This is Hozier",
         "orientation": "v",
         "showlegend": true,
         "type": "scatter",
         "x": [
          -14.735778,
          -25.68824,
          3.9770975,
          -26.020674,
          2.2796798,
          -18.918274,
          -13.431402,
          -27.468079,
          -19.957048,
          -15.22116,
          -30.737263,
          -30.968012,
          -31.936052,
          -25.492207,
          -15.200162,
          16.315445,
          -31.030106,
          -31.412487,
          -24.527252,
          -13.808411,
          17.889256,
          -16.956772,
          -25.614098,
          -27.677286,
          -15.551964,
          -20.179781,
          -25.722242,
          -23.735876,
          -18.539606,
          -14.12393
         ],
         "xaxis": "x",
         "y": [
          12.296021,
          7.687372,
          22.564756,
          13.602708,
          -23.532818,
          15.625356,
          5.01562,
          8.998833,
          13.730491,
          2.5736063,
          4.4737263,
          3.476601,
          3.6180654,
          10.421486,
          -6.5406675,
          4.9556136,
          -11.77579,
          3.8426452,
          -11.654885,
          5.5504193,
          6.067354,
          15.44706,
          8.7271185,
          7.2623878,
          20.168789,
          22.802069,
          11.799583,
          10.20404,
          12.414459,
          8.42863
         ],
         "yaxis": "y"
        },
        {
         "customdata": [
          [
           "Ahora Te Puedes Marchar"
          ],
          [
           "La Incondicional"
          ],
          [
           "Hasta Que Me Olvides"
          ],
          [
           "La Media Vuelta"
          ],
          [
           "La bikina - En vivo"
          ],
          [
           "Culpable O No - Miénteme Como Siempre"
          ],
          [
           "Por Debajo De La Mesa"
          ],
          [
           "Sabes Una Cosa"
          ],
          [
           "Tengo Todo Excepto a Ti"
          ],
          [
           "No Sé Tú"
          ],
          [
           "Suave"
          ],
          [
           "México En La Piel"
          ],
          [
           "Entrégate"
          ],
          [
           "Sabor a Mi"
          ],
          [
           "Usted"
          ],
          [
           "Échame a Mi La Culpa"
          ],
          [
           "Fría Como El Viento"
          ],
          [
           "Amarte es un placer"
          ],
          [
           "Inolvidable"
          ],
          [
           "Cuando Calienta El Sol"
          ],
          [
           "Te necesito"
          ],
          [
           "Si tú te atreves"
          ],
          [
           "La Barca"
          ],
          [
           "La Gloria Eres Tu"
          ],
          [
           "Historia De Un Amor"
          ],
          [
           "Llamarada"
          ],
          [
           "No Me Platiques Más"
          ],
          [
           "El Reloj"
          ],
          [
           "Palabra De Honor"
          ],
          [
           "Un Hombre Busca a Una Mujer"
          ],
          [
           "Te Extraño"
          ],
          [
           "O Tu O Ninguna"
          ],
          [
           "De Qué Manera Te Olvido"
          ],
          [
           "La Chica Del Bikini Azul"
          ],
          [
           "Soy lo prohibido"
          ],
          [
           "Oro De Ley"
          ],
          [
           "Yo Que No Vivo Sin Ti"
          ],
          [
           "Motivos"
          ],
          [
           "Si Nos Dejan - En Vivo"
          ],
          [
           "Voy a Apagar La Luz / Contigo Aprendí"
          ],
          [
           "Todo Y Nada"
          ],
          [
           "Qué Nivel De Mujer"
          ],
          [
           "No discutamos"
          ],
          [
           "Besame Mucho"
          ],
          [
           "El Día Que Me Quieras"
          ],
          [
           "El Viajero"
          ],
          [
           "Cómo duele"
          ],
          [
           "Ayer"
          ],
          [
           "Sueña"
          ]
         ],
         "hovertemplate": "Lista Rep=This is Luis Miguel<br>TSNE_1=%{x}<br>TSNE_2=%{y}<br>cancion=%{customdata[0]}<extra></extra>",
         "legendgroup": "This is Luis Miguel",
         "marker": {
          "color": "#EF553B",
          "symbol": "circle"
         },
         "mode": "markers",
         "name": "This is Luis Miguel",
         "orientation": "v",
         "showlegend": true,
         "type": "scatter",
         "x": [
          22.683258,
          -15.34622,
          -15.416287,
          -4.8341265,
          -30.98862,
          -20.23517,
          -19.623638,
          -16.94868,
          -16.823807,
          -26.17421,
          -16.316133,
          -16.798285,
          -15.498508,
          7.00153,
          -8.8846655,
          4.3480535,
          -20.574831,
          -27.004131,
          -0.31903294,
          14.228309,
          19.531498,
          -18.371788,
          -17.467566,
          -15.004236,
          -15.715859,
          -26.763632,
          -19.15057,
          -17.461855,
          -15.269941,
          -0.5551631,
          -24.796906,
          -24.770414,
          -19.021334,
          10.754994,
          -20.038046,
          9.809665,
          -15.526558,
          -22.009613,
          -32.44768,
          -20.663193,
          -19.06997,
          27.330023,
          -24.453085,
          -5.148238,
          -17.228874,
          -19.831547,
          -14.902585,
          -25.713839,
          -17.814434
         ],
         "xaxis": "x",
         "y": [
          16.981236,
          6.0836735,
          17.1465,
          11.312525,
          -11.119238,
          3.338323,
          13.058013,
          25.915133,
          16.524982,
          12.422596,
          -1.87541,
          27.720278,
          9.2542305,
          34.43998,
          14.551733,
          20.98944,
          3.882618,
          11.882931,
          21.72895,
          -18.48947,
          24.603365,
          13.98774,
          17.086771,
          18.363113,
          7.9515443,
          -12.28479,
          14.219039,
          29.804464,
          9.021913,
          10.333152,
          9.26114,
          11.557088,
          28.164646,
          -11.202642,
          16.950287,
          -2.9228854,
          15.196329,
          15.240121,
          -10.610265,
          -6.1488605,
          16.757248,
          8.120419,
          13.852299,
          11.496002,
          7.794874,
          22.863104,
          4.56416,
          9.440415,
          8.243901
         ],
         "yaxis": "y"
        },
        {
         "customdata": [
          [
           "Rata De Dos Patas"
          ],
          [
           "Cheque En Blanco"
          ],
          [
           "Tres Veces Te Engañe"
          ],
          [
           "No Hay Quinto Malo"
          ],
          [
           "Me Saludas A La Tuya"
          ],
          [
           "Romeo Y Su Nieta"
          ],
          [
           "Azul Celeste"
          ],
          [
           "Pobre Pistolita"
          ],
          [
           "Vivo Contenta"
          ],
          [
           "Taco Placero"
          ],
          [
           "Tu Última Parada"
          ],
          [
           "Ni Tú Ni Yo (feat. Paquita la del Barrio)"
          ],
          [
           "Qué Te Ha Dado Esa Mujer"
          ],
          [
           "Invitame A Pecar"
          ],
          [
           "Al Cuarto Vaso"
          ],
          [
           "Hombres Malvados"
          ],
          [
           "Aquellos Ojos Verdes"
          ],
          [
           "El Consejo"
          ],
          [
           "Cancionera De Mi Barrio"
          ],
          [
           "Las Rodilleras"
          ],
          [
           "Abrázame"
          ],
          [
           "Seis Pies Abajo"
          ],
          [
           "Piérdeme El Respeto"
          ],
          [
           "No Hay Mujeres Feas (Mi Vecinita)"
          ],
          [
           "Qué Manera De Perder"
          ],
          [
           "Anillo De Compromiso"
          ],
          [
           "Que Me Perdone Tu Perro"
          ],
          [
           "La Bella Lola"
          ],
          [
           "El Peor De Los Caminos"
          ],
          [
           "Amor Perdido - En Vivo"
          ],
          [
           "Si Yo Fuera Varón"
          ],
          [
           "Chango Viejo"
          ],
          [
           "Acá Entre Nos"
          ],
          [
           "Caminos De Michoacán"
          ],
          [
           "Viejo Rabo Verde"
          ],
          [
           "La Maestra"
          ],
          [
           "Exceso De Calcio"
          ],
          [
           "Gracias"
          ],
          [
           "Camino De Guanajuato"
          ],
          [
           "Mi Razón (with Paquita la del Barrio)"
          ],
          [
           "Paloma Negra"
          ],
          [
           "No Me Vuelvo A Enamorar"
          ],
          [
           "Las Mujeres Mandan (Mariachi)"
          ],
          [
           "Mi Único Camino"
          ],
          [
           "Y Si Tomo Que"
          ],
          [
           "Cobarde"
          ],
          [
           "Juro Que Nunca Volveré"
          ],
          [
           "Paloma Querida"
          ],
          [
           "Te Voy A Olvidar"
          ],
          [
           "Los Bigotones"
          ]
         ],
         "hovertemplate": "Lista Rep=This is Paquita la del Barrio<br>TSNE_1=%{x}<br>TSNE_2=%{y}<br>cancion=%{customdata[0]}<extra></extra>",
         "legendgroup": "This is Paquita la del Barrio",
         "marker": {
          "color": "#00cc96",
          "symbol": "circle"
         },
         "mode": "markers",
         "name": "This is Paquita la del Barrio",
         "orientation": "v",
         "showlegend": true,
         "type": "scatter",
         "x": [
          -11.563965,
          -31.205997,
          -15.506731,
          -16.850426,
          13.731742,
          14.588298,
          8.69752,
          -9.1262245,
          18.31653,
          -10.0801735,
          -6.7456074,
          -18.049986,
          -13.674416,
          -10.435913,
          6.200751,
          9.419344,
          -13.063364,
          -10.793627,
          -16.023497,
          0.98836,
          -11.537934,
          13.898594,
          -16.267996,
          -4.468277,
          4.240781,
          -13.749253,
          -15.580058,
          3.7060218,
          -14.309872,
          -31.960238,
          -14.101929,
          17.680143,
          -17.649307,
          9.1729965,
          10.068244,
          -5.0637913,
          13.869931,
          -16.111042,
          3.9121397,
          6.423939,
          -16.469673,
          -15.514786,
          8.568664,
          -14.771628,
          -8.089455,
          8.6497345,
          -31.895378,
          -13.5638,
          5.125374,
          -7.335309
         ],
         "xaxis": "x",
         "y": [
          31.066912,
          -8.643157,
          28.01058,
          31.900116,
          10.377561,
          26.007683,
          26.318682,
          34.072598,
          34.322052,
          25.274218,
          31.367018,
          19.984013,
          31.220415,
          31.551077,
          24.57455,
          34.807438,
          30.051271,
          34.06195,
          26.447145,
          34.02417,
          33.680775,
          31.310333,
          25.442324,
          35.23662,
          26.884039,
          26.903547,
          25.867355,
          28.106888,
          26.47867,
          -9.567614,
          28.2581,
          32.0215,
          24.172749,
          29.513643,
          30.265388,
          31.207369,
          11.143557,
          30.493656,
          21.714224,
          5.0171585,
          31.643755,
          22.862314,
          30.45685,
          31.134941,
          16.74962,
          32.741714,
          -10.838106,
          25.242367,
          27.588043,
          31.442049
         ],
         "yaxis": "y"
        },
        {
         "customdata": [
          [
           "Ya No Somos Ni Seremos"
          ],
          [
           "Chale"
          ],
          [
           "Pongámonos De Acuerdo"
          ],
          [
           "Siempre Pendientes"
          ],
          [
           "Si Fuera Fácil"
          ],
          [
           "Vamos Aclarando Muchas Cosas - En Vivo"
          ],
          [
           "JGL"
          ],
          [
           "Borracho de Amor"
          ],
          [
           "Ya Supérame (En Vivo)"
          ],
          [
           "Te Hubieras Ido Antes"
          ],
          [
           "Después de Ti ¿Quién?"
          ],
          [
           "Si Te Pudiera Mentir"
          ],
          [
           "El Rescate"
          ],
          [
           "Haciendo Ruido"
          ],
          [
           "Si Fuera Fácil"
          ],
          [
           "Se Amerita"
          ],
          [
           "Borracho de Amor"
          ],
          [
           "Los Botones Azules"
          ],
          [
           "A La Antigüita"
          ],
          [
           "Quién Es Usted"
          ],
          [
           "Como Lo Hice Yo"
          ],
          [
           "Ojos Verdes"
          ],
          [
           "Cada Quien"
          ],
          [
           "En El Radio Un Cochinero"
          ],
          [
           "En Tu Perra Vida"
          ],
          [
           "Fuga Pa Cali 2"
          ],
          [
           "En Peligro de Extinción"
          ],
          [
           "Tranquilito"
          ],
          [
           "La Sinvergüenza"
          ],
          [
           "El Tóxico"
          ],
          [
           "Ya Acabo"
          ],
          [
           "Háblame De Ti"
          ],
          [
           "Simplemente Gracias"
          ],
          [
           "De Rancho en Rancho"
          ],
          [
           "Botella Tras Botella"
          ],
          [
           "Te Presumo"
          ],
          [
           "Mi Último Deseo"
          ],
          [
           "El Final de Nuestra Historia"
          ],
          [
           "Yo Ya No Vuelvo Contigo - En Vivo"
          ],
          [
           "Ojos Cerrados"
          ],
          [
           "Adiós Amor"
          ],
          [
           "El Amor de Mi Vida"
          ],
          [
           "Ya Me Enteré"
          ],
          [
           "Mi Enemigo El Amor"
          ],
          [
           "Tú"
          ],
          [
           "Ojitos de Miel"
          ],
          [
           "El Comienzo del Final"
          ],
          [
           "Jugaste y Sufrí"
          ],
          [
           "Porte Exuberante"
          ],
          [
           "Aerolínea Carrillo"
          ],
          [
           "Soy El Unico"
          ],
          [
           "De Los Besos Que Te Di"
          ],
          [
           "En Peligro de Extinción"
          ],
          [
           "Aquí Abajo"
          ],
          [
           "Como Duele Equivocarse"
          ],
          [
           "Cerrando Ciclos"
          ],
          [
           "No Lo Hice Bien"
          ],
          [
           "El Güero (Feat. Marca MP)"
          ],
          [
           "A Través Del Vaso"
          ],
          [
           "Ella"
          ],
          [
           "El Color de Tus Ojos"
          ],
          [
           "En Peligro de Extinción"
          ],
          [
           "Ya Solo Eres Mi Ex"
          ],
          [
           "No Me Queda Más"
          ],
          [
           "Está Dañada"
          ],
          [
           "Cabrón y Vago - En Vivo"
          ],
          [
           "La Casita"
          ],
          [
           "Que Fuimos"
          ],
          [
           "El Final De Nuestra Historia"
          ],
          [
           "Calidad"
          ],
          [
           "2 Veces"
          ],
          [
           "Palabra de Hombre"
          ],
          [
           "Se Fue La Pantera (En Vivo)"
          ],
          [
           "Te Apuesto - En vivo"
          ],
          [
           "Me Sobrabas Tú"
          ],
          [
           "El Bélico"
          ],
          [
           "No Es Por Acá"
          ],
          [
           "Solo Un Dia (Ahora Te Amo)"
          ],
          [
           "La Buena y la Mala"
          ],
          [
           "Que Te Vaya Bien"
          ],
          [
           "Dueño de Ti"
          ]
         ],
         "hovertemplate": "Lista Rep=Banda 2022<br>TSNE_1=%{x}<br>TSNE_2=%{y}<br>cancion=%{customdata[0]}<extra></extra>",
         "legendgroup": "Banda 2022",
         "marker": {
          "color": "#ab63fa",
          "symbol": "circle"
         },
         "mode": "markers",
         "name": "Banda 2022",
         "orientation": "v",
         "showlegend": true,
         "type": "scatter",
         "x": [
          4.778072,
          -5.0913057,
          9.448035,
          11.390844,
          3.202402,
          8.837718,
          11.195949,
          5.5052743,
          -32.8158,
          0.5990401,
          -12.152871,
          8.722444,
          6.8690124,
          1.7123704,
          3.138179,
          4.464837,
          5.45411,
          5.1023407,
          16.374012,
          -19.322622,
          -16.23708,
          1.8154602,
          15.8762045,
          0.09517185,
          3.0896633,
          20.556013,
          -20.749123,
          -5.861713,
          5.2844367,
          12.230287,
          -9.301178,
          2.2938426,
          -6.728043,
          12.946283,
          -7.732552,
          6.9989004,
          20.381586,
          8.082029,
          -9.983531,
          -6.2891426,
          -17.90038,
          15.4591875,
          17.929815,
          -14.97569,
          7.349847,
          -8.574846,
          -4.9220476,
          -24.673372,
          19.596134,
          -11.262285,
          -12.266026,
          4.581227,
          -20.656822,
          -12.95515,
          6.4938984,
          -19.672544,
          7.2239537,
          8.880091,
          28.42127,
          16.940327,
          -4.302851,
          -20.749191,
          -7.8311872,
          27.894707,
          -20.397152,
          21.31811,
          14.86252,
          -19.452595,
          6.8725753,
          -8.928114,
          5.057936,
          2.9949293,
          18.516882,
          -5.109389,
          -8.543664,
          11.65815,
          -11.257381,
          1.9453403,
          -5.346517,
          -17.832514,
          25.271482
         ],
         "xaxis": "x",
         "y": [
          22.142445,
          16.449587,
          27.075487,
          -4.3663344,
          12.590554,
          31.703554,
          18.493206,
          31.788378,
          -7.9889574,
          32.115757,
          29.501986,
          5.6552563,
          10.215955,
          33.132965,
          12.465674,
          -1.074371,
          31.997648,
          -3.994069,
          24.929163,
          23.636192,
          22.161325,
          32.36902,
          -10.130147,
          18.190653,
          22.610586,
          19.871277,
          28.077112,
          34.758846,
          20.491453,
          18.148222,
          29.209211,
          33.116604,
          29.333418,
          30.137781,
          30.994701,
          32.72609,
          32.37438,
          31.88041,
          30.0498,
          16.15706,
          29.880508,
          10.235997,
          34.16514,
          21.080378,
          19.145153,
          15.381023,
          29.216473,
          13.057558,
          1.8340425,
          22.963528,
          28.042334,
          28.146584,
          28.804731,
          27.151848,
          20.73859,
          26.884903,
          31.247496,
          19.610878,
          23.806107,
          1.5022147,
          14.434276,
          28.076805,
          16.912432,
          30.567095,
          12.503904,
          27.693512,
          14.111008,
          27.718534,
          18.212137,
          33.146698,
          29.01329,
          27.3264,
          -2.484682,
          14.984483,
          34.167,
          30.347857,
          27.581322,
          30.637934,
          34.407425,
          20.306355,
          17.520878
         ],
         "yaxis": "y"
        }
       ],
       "layout": {
        "legend": {
         "title": {
          "text": "Lista Rep"
         },
         "tracegroupgap": 0
        },
        "margin": {
         "t": 60
        },
        "template": {
         "data": {
          "bar": [
           {
            "error_x": {
             "color": "#f2f5fa"
            },
            "error_y": {
             "color": "#f2f5fa"
            },
            "marker": {
             "line": {
              "color": "rgb(17,17,17)",
              "width": 0.5
             },
             "pattern": {
              "fillmode": "overlay",
              "size": 10,
              "solidity": 0.2
             }
            },
            "type": "bar"
           }
          ],
          "barpolar": [
           {
            "marker": {
             "line": {
              "color": "rgb(17,17,17)",
              "width": 0.5
             },
             "pattern": {
              "fillmode": "overlay",
              "size": 10,
              "solidity": 0.2
             }
            },
            "type": "barpolar"
           }
          ],
          "carpet": [
           {
            "aaxis": {
             "endlinecolor": "#A2B1C6",
             "gridcolor": "#506784",
             "linecolor": "#506784",
             "minorgridcolor": "#506784",
             "startlinecolor": "#A2B1C6"
            },
            "baxis": {
             "endlinecolor": "#A2B1C6",
             "gridcolor": "#506784",
             "linecolor": "#506784",
             "minorgridcolor": "#506784",
             "startlinecolor": "#A2B1C6"
            },
            "type": "carpet"
           }
          ],
          "choropleth": [
           {
            "colorbar": {
             "outlinewidth": 0,
             "ticks": ""
            },
            "type": "choropleth"
           }
          ],
          "contour": [
           {
            "colorbar": {
             "outlinewidth": 0,
             "ticks": ""
            },
            "colorscale": [
             [
              0,
              "#0d0887"
             ],
             [
              0.1111111111111111,
              "#46039f"
             ],
             [
              0.2222222222222222,
              "#7201a8"
             ],
             [
              0.3333333333333333,
              "#9c179e"
             ],
             [
              0.4444444444444444,
              "#bd3786"
             ],
             [
              0.5555555555555556,
              "#d8576b"
             ],
             [
              0.6666666666666666,
              "#ed7953"
             ],
             [
              0.7777777777777778,
              "#fb9f3a"
             ],
             [
              0.8888888888888888,
              "#fdca26"
             ],
             [
              1,
              "#f0f921"
             ]
            ],
            "type": "contour"
           }
          ],
          "contourcarpet": [
           {
            "colorbar": {
             "outlinewidth": 0,
             "ticks": ""
            },
            "type": "contourcarpet"
           }
          ],
          "heatmap": [
           {
            "colorbar": {
             "outlinewidth": 0,
             "ticks": ""
            },
            "colorscale": [
             [
              0,
              "#0d0887"
             ],
             [
              0.1111111111111111,
              "#46039f"
             ],
             [
              0.2222222222222222,
              "#7201a8"
             ],
             [
              0.3333333333333333,
              "#9c179e"
             ],
             [
              0.4444444444444444,
              "#bd3786"
             ],
             [
              0.5555555555555556,
              "#d8576b"
             ],
             [
              0.6666666666666666,
              "#ed7953"
             ],
             [
              0.7777777777777778,
              "#fb9f3a"
             ],
             [
              0.8888888888888888,
              "#fdca26"
             ],
             [
              1,
              "#f0f921"
             ]
            ],
            "type": "heatmap"
           }
          ],
          "heatmapgl": [
           {
            "colorbar": {
             "outlinewidth": 0,
             "ticks": ""
            },
            "colorscale": [
             [
              0,
              "#0d0887"
             ],
             [
              0.1111111111111111,
              "#46039f"
             ],
             [
              0.2222222222222222,
              "#7201a8"
             ],
             [
              0.3333333333333333,
              "#9c179e"
             ],
             [
              0.4444444444444444,
              "#bd3786"
             ],
             [
              0.5555555555555556,
              "#d8576b"
             ],
             [
              0.6666666666666666,
              "#ed7953"
             ],
             [
              0.7777777777777778,
              "#fb9f3a"
             ],
             [
              0.8888888888888888,
              "#fdca26"
             ],
             [
              1,
              "#f0f921"
             ]
            ],
            "type": "heatmapgl"
           }
          ],
          "histogram": [
           {
            "marker": {
             "pattern": {
              "fillmode": "overlay",
              "size": 10,
              "solidity": 0.2
             }
            },
            "type": "histogram"
           }
          ],
          "histogram2d": [
           {
            "colorbar": {
             "outlinewidth": 0,
             "ticks": ""
            },
            "colorscale": [
             [
              0,
              "#0d0887"
             ],
             [
              0.1111111111111111,
              "#46039f"
             ],
             [
              0.2222222222222222,
              "#7201a8"
             ],
             [
              0.3333333333333333,
              "#9c179e"
             ],
             [
              0.4444444444444444,
              "#bd3786"
             ],
             [
              0.5555555555555556,
              "#d8576b"
             ],
             [
              0.6666666666666666,
              "#ed7953"
             ],
             [
              0.7777777777777778,
              "#fb9f3a"
             ],
             [
              0.8888888888888888,
              "#fdca26"
             ],
             [
              1,
              "#f0f921"
             ]
            ],
            "type": "histogram2d"
           }
          ],
          "histogram2dcontour": [
           {
            "colorbar": {
             "outlinewidth": 0,
             "ticks": ""
            },
            "colorscale": [
             [
              0,
              "#0d0887"
             ],
             [
              0.1111111111111111,
              "#46039f"
             ],
             [
              0.2222222222222222,
              "#7201a8"
             ],
             [
              0.3333333333333333,
              "#9c179e"
             ],
             [
              0.4444444444444444,
              "#bd3786"
             ],
             [
              0.5555555555555556,
              "#d8576b"
             ],
             [
              0.6666666666666666,
              "#ed7953"
             ],
             [
              0.7777777777777778,
              "#fb9f3a"
             ],
             [
              0.8888888888888888,
              "#fdca26"
             ],
             [
              1,
              "#f0f921"
             ]
            ],
            "type": "histogram2dcontour"
           }
          ],
          "mesh3d": [
           {
            "colorbar": {
             "outlinewidth": 0,
             "ticks": ""
            },
            "type": "mesh3d"
           }
          ],
          "parcoords": [
           {
            "line": {
             "colorbar": {
              "outlinewidth": 0,
              "ticks": ""
             }
            },
            "type": "parcoords"
           }
          ],
          "pie": [
           {
            "automargin": true,
            "type": "pie"
           }
          ],
          "scatter": [
           {
            "marker": {
             "line": {
              "color": "#283442"
             }
            },
            "type": "scatter"
           }
          ],
          "scatter3d": [
           {
            "line": {
             "colorbar": {
              "outlinewidth": 0,
              "ticks": ""
             }
            },
            "marker": {
             "colorbar": {
              "outlinewidth": 0,
              "ticks": ""
             }
            },
            "type": "scatter3d"
           }
          ],
          "scattercarpet": [
           {
            "marker": {
             "colorbar": {
              "outlinewidth": 0,
              "ticks": ""
             }
            },
            "type": "scattercarpet"
           }
          ],
          "scattergeo": [
           {
            "marker": {
             "colorbar": {
              "outlinewidth": 0,
              "ticks": ""
             }
            },
            "type": "scattergeo"
           }
          ],
          "scattergl": [
           {
            "marker": {
             "line": {
              "color": "#283442"
             }
            },
            "type": "scattergl"
           }
          ],
          "scattermapbox": [
           {
            "marker": {
             "colorbar": {
              "outlinewidth": 0,
              "ticks": ""
             }
            },
            "type": "scattermapbox"
           }
          ],
          "scatterpolar": [
           {
            "marker": {
             "colorbar": {
              "outlinewidth": 0,
              "ticks": ""
             }
            },
            "type": "scatterpolar"
           }
          ],
          "scatterpolargl": [
           {
            "marker": {
             "colorbar": {
              "outlinewidth": 0,
              "ticks": ""
             }
            },
            "type": "scatterpolargl"
           }
          ],
          "scatterternary": [
           {
            "marker": {
             "colorbar": {
              "outlinewidth": 0,
              "ticks": ""
             }
            },
            "type": "scatterternary"
           }
          ],
          "surface": [
           {
            "colorbar": {
             "outlinewidth": 0,
             "ticks": ""
            },
            "colorscale": [
             [
              0,
              "#0d0887"
             ],
             [
              0.1111111111111111,
              "#46039f"
             ],
             [
              0.2222222222222222,
              "#7201a8"
             ],
             [
              0.3333333333333333,
              "#9c179e"
             ],
             [
              0.4444444444444444,
              "#bd3786"
             ],
             [
              0.5555555555555556,
              "#d8576b"
             ],
             [
              0.6666666666666666,
              "#ed7953"
             ],
             [
              0.7777777777777778,
              "#fb9f3a"
             ],
             [
              0.8888888888888888,
              "#fdca26"
             ],
             [
              1,
              "#f0f921"
             ]
            ],
            "type": "surface"
           }
          ],
          "table": [
           {
            "cells": {
             "fill": {
              "color": "#506784"
             },
             "line": {
              "color": "rgb(17,17,17)"
             }
            },
            "header": {
             "fill": {
              "color": "#2a3f5f"
             },
             "line": {
              "color": "rgb(17,17,17)"
             }
            },
            "type": "table"
           }
          ]
         },
         "layout": {
          "annotationdefaults": {
           "arrowcolor": "#f2f5fa",
           "arrowhead": 0,
           "arrowwidth": 1
          },
          "autotypenumbers": "strict",
          "coloraxis": {
           "colorbar": {
            "outlinewidth": 0,
            "ticks": ""
           }
          },
          "colorscale": {
           "diverging": [
            [
             0,
             "#8e0152"
            ],
            [
             0.1,
             "#c51b7d"
            ],
            [
             0.2,
             "#de77ae"
            ],
            [
             0.3,
             "#f1b6da"
            ],
            [
             0.4,
             "#fde0ef"
            ],
            [
             0.5,
             "#f7f7f7"
            ],
            [
             0.6,
             "#e6f5d0"
            ],
            [
             0.7,
             "#b8e186"
            ],
            [
             0.8,
             "#7fbc41"
            ],
            [
             0.9,
             "#4d9221"
            ],
            [
             1,
             "#276419"
            ]
           ],
           "sequential": [
            [
             0,
             "#0d0887"
            ],
            [
             0.1111111111111111,
             "#46039f"
            ],
            [
             0.2222222222222222,
             "#7201a8"
            ],
            [
             0.3333333333333333,
             "#9c179e"
            ],
            [
             0.4444444444444444,
             "#bd3786"
            ],
            [
             0.5555555555555556,
             "#d8576b"
            ],
            [
             0.6666666666666666,
             "#ed7953"
            ],
            [
             0.7777777777777778,
             "#fb9f3a"
            ],
            [
             0.8888888888888888,
             "#fdca26"
            ],
            [
             1,
             "#f0f921"
            ]
           ],
           "sequentialminus": [
            [
             0,
             "#0d0887"
            ],
            [
             0.1111111111111111,
             "#46039f"
            ],
            [
             0.2222222222222222,
             "#7201a8"
            ],
            [
             0.3333333333333333,
             "#9c179e"
            ],
            [
             0.4444444444444444,
             "#bd3786"
            ],
            [
             0.5555555555555556,
             "#d8576b"
            ],
            [
             0.6666666666666666,
             "#ed7953"
            ],
            [
             0.7777777777777778,
             "#fb9f3a"
            ],
            [
             0.8888888888888888,
             "#fdca26"
            ],
            [
             1,
             "#f0f921"
            ]
           ]
          },
          "colorway": [
           "#636efa",
           "#EF553B",
           "#00cc96",
           "#ab63fa",
           "#FFA15A",
           "#19d3f3",
           "#FF6692",
           "#B6E880",
           "#FF97FF",
           "#FECB52"
          ],
          "font": {
           "color": "#f2f5fa"
          },
          "geo": {
           "bgcolor": "rgb(17,17,17)",
           "lakecolor": "rgb(17,17,17)",
           "landcolor": "rgb(17,17,17)",
           "showlakes": true,
           "showland": true,
           "subunitcolor": "#506784"
          },
          "hoverlabel": {
           "align": "left"
          },
          "hovermode": "closest",
          "mapbox": {
           "style": "dark"
          },
          "paper_bgcolor": "rgb(17,17,17)",
          "plot_bgcolor": "rgb(17,17,17)",
          "polar": {
           "angularaxis": {
            "gridcolor": "#506784",
            "linecolor": "#506784",
            "ticks": ""
           },
           "bgcolor": "rgb(17,17,17)",
           "radialaxis": {
            "gridcolor": "#506784",
            "linecolor": "#506784",
            "ticks": ""
           }
          },
          "scene": {
           "xaxis": {
            "backgroundcolor": "rgb(17,17,17)",
            "gridcolor": "#506784",
            "gridwidth": 2,
            "linecolor": "#506784",
            "showbackground": true,
            "ticks": "",
            "zerolinecolor": "#C8D4E3"
           },
           "yaxis": {
            "backgroundcolor": "rgb(17,17,17)",
            "gridcolor": "#506784",
            "gridwidth": 2,
            "linecolor": "#506784",
            "showbackground": true,
            "ticks": "",
            "zerolinecolor": "#C8D4E3"
           },
           "zaxis": {
            "backgroundcolor": "rgb(17,17,17)",
            "gridcolor": "#506784",
            "gridwidth": 2,
            "linecolor": "#506784",
            "showbackground": true,
            "ticks": "",
            "zerolinecolor": "#C8D4E3"
           }
          },
          "shapedefaults": {
           "line": {
            "color": "#f2f5fa"
           }
          },
          "sliderdefaults": {
           "bgcolor": "#C8D4E3",
           "bordercolor": "rgb(17,17,17)",
           "borderwidth": 1,
           "tickwidth": 0
          },
          "ternary": {
           "aaxis": {
            "gridcolor": "#506784",
            "linecolor": "#506784",
            "ticks": ""
           },
           "baxis": {
            "gridcolor": "#506784",
            "linecolor": "#506784",
            "ticks": ""
           },
           "bgcolor": "rgb(17,17,17)",
           "caxis": {
            "gridcolor": "#506784",
            "linecolor": "#506784",
            "ticks": ""
           }
          },
          "title": {
           "x": 0.05
          },
          "updatemenudefaults": {
           "bgcolor": "#506784",
           "borderwidth": 0
          },
          "xaxis": {
           "automargin": true,
           "gridcolor": "#283442",
           "linecolor": "#506784",
           "ticks": "",
           "title": {
            "standoff": 15
           },
           "zerolinecolor": "#283442",
           "zerolinewidth": 2
          },
          "yaxis": {
           "automargin": true,
           "gridcolor": "#283442",
           "linecolor": "#506784",
           "ticks": "",
           "title": {
            "standoff": 15
           },
           "zerolinecolor": "#283442",
           "zerolinewidth": 2
          }
         }
        },
        "xaxis": {
         "anchor": "y",
         "domain": [
          0,
          1
         ],
         "title": {
          "text": "TSNE_1"
         }
        },
        "yaxis": {
         "anchor": "x",
         "domain": [
          0,
          1
         ],
         "title": {
          "text": "TSNE_2"
         }
        }
       }
      }
     },
     "metadata": {},
     "output_type": "display_data"
    }
   ],
   "source": [
    "#And finally, an interactive graph of this results is generated\n",
    "#It is interesting to see that certian genres can be visually told appart from others in a graphic way merely by considering their TSNE values\n",
    "fig = px.scatter(df, x=\"TSNE_1\", y=\"TSNE_2\", color=\"Lista Rep\", hover_data=['cancion'], template=\"plotly_dark\")\n",
    "fig.show()"
   ]
  },
  {
   "cell_type": "code",
   "execution_count": null,
   "metadata": {},
   "outputs": [],
   "source": []
  }
 ],
 "metadata": {
  "kernelspec": {
   "display_name": "Python 3.9.1 64-bit",
   "language": "python",
   "name": "python3"
  },
  "language_info": {
   "codemirror_mode": {
    "name": "ipython",
    "version": 3
   },
   "file_extension": ".py",
   "mimetype": "text/x-python",
   "name": "python",
   "nbconvert_exporter": "python",
   "pygments_lexer": "ipython3",
   "version": "3.9.1"
  },
  "orig_nbformat": 4,
  "vscode": {
   "interpreter": {
    "hash": "fefe1bf480c11bf003fba226430f9cc6591c2a11b0f80c22005b6e46c2183a03"
   }
  }
 },
 "nbformat": 4,
 "nbformat_minor": 2
}
