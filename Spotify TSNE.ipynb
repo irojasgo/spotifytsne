{
 "cells": [
  {
   "cell_type": "markdown",
   "metadata": {},
   "source": [
    "# Project 1: Methods For High-Dimensional Space Visualization Using Spotify Song Data\n",
    "In this project, I had the opportunty to carry out the following tasks:\n",
    "- Scrapped Spotify Song Data for multiple playlists\n",
    "- Built a dataset out of the extracted information\n",
    "- Used T-SNE to visualize relationships between data points in  high-dimensional spaces\n",
    "- Was able to tell certain genres appart by looking at the regions where data points were more densely packed"
   ]
  },
  {
   "cell_type": "code",
   "execution_count": 1,
   "metadata": {},
   "outputs": [
    {
     "data": {
      "text/html": [
       "<div>\n",
       "<style scoped>\n",
       "    .dataframe tbody tr th:only-of-type {\n",
       "        vertical-align: middle;\n",
       "    }\n",
       "\n",
       "    .dataframe tbody tr th {\n",
       "        vertical-align: top;\n",
       "    }\n",
       "\n",
       "    .dataframe thead th {\n",
       "        text-align: right;\n",
       "    }\n",
       "</style>\n",
       "<table border=\"1\" class=\"dataframe\">\n",
       "  <thead>\n",
       "    <tr style=\"text-align: right;\">\n",
       "      <th></th>\n",
       "      <th>cancion</th>\n",
       "      <th>artista</th>\n",
       "      <th>playlist</th>\n",
       "      <th>track_id</th>\n",
       "      <th>danceability</th>\n",
       "      <th>energy</th>\n",
       "      <th>key</th>\n",
       "      <th>loudness</th>\n",
       "      <th>speechiness</th>\n",
       "      <th>acousticness</th>\n",
       "      <th>instrumentalness</th>\n",
       "      <th>liveness</th>\n",
       "      <th>valence</th>\n",
       "      <th>Lista Rep</th>\n",
       "      <th>liked</th>\n",
       "    </tr>\n",
       "  </thead>\n",
       "  <tbody>\n",
       "    <tr>\n",
       "      <th>0</th>\n",
       "      <td>Immortal Rites</td>\n",
       "      <td>Morbid Angel</td>\n",
       "      <td>4tszLL7NTfLCoIz39Zsiy1</td>\n",
       "      <td>5hmek3mrSYvfSElBsPNbxo</td>\n",
       "      <td>0.190</td>\n",
       "      <td>0.934</td>\n",
       "      <td>1</td>\n",
       "      <td>-7.796</td>\n",
       "      <td>0.0560</td>\n",
       "      <td>0.000008</td>\n",
       "      <td>0.107</td>\n",
       "      <td>0.3630</td>\n",
       "      <td>0.360</td>\n",
       "      <td>Death Metal</td>\n",
       "      <td>1</td>\n",
       "    </tr>\n",
       "    <tr>\n",
       "      <th>1</th>\n",
       "      <td>Chopped in Half</td>\n",
       "      <td>Obituary</td>\n",
       "      <td>4tszLL7NTfLCoIz39Zsiy1</td>\n",
       "      <td>01cGujYWGF7JchJLSgf6Ta</td>\n",
       "      <td>0.257</td>\n",
       "      <td>0.989</td>\n",
       "      <td>10</td>\n",
       "      <td>-5.918</td>\n",
       "      <td>0.0867</td>\n",
       "      <td>0.000007</td>\n",
       "      <td>0.521</td>\n",
       "      <td>0.2630</td>\n",
       "      <td>0.385</td>\n",
       "      <td>Death Metal</td>\n",
       "      <td>1</td>\n",
       "    </tr>\n",
       "    <tr>\n",
       "      <th>2</th>\n",
       "      <td>Left Hand Path</td>\n",
       "      <td>Entombed</td>\n",
       "      <td>4tszLL7NTfLCoIz39Zsiy1</td>\n",
       "      <td>5faD0zZ9fMa3J5ZN3lIWtp</td>\n",
       "      <td>0.166</td>\n",
       "      <td>0.927</td>\n",
       "      <td>7</td>\n",
       "      <td>-8.797</td>\n",
       "      <td>0.0736</td>\n",
       "      <td>0.000004</td>\n",
       "      <td>0.651</td>\n",
       "      <td>0.3440</td>\n",
       "      <td>0.219</td>\n",
       "      <td>Death Metal</td>\n",
       "      <td>1</td>\n",
       "    </tr>\n",
       "    <tr>\n",
       "      <th>3</th>\n",
       "      <td>Pull the Plug</td>\n",
       "      <td>Death</td>\n",
       "      <td>4tszLL7NTfLCoIz39Zsiy1</td>\n",
       "      <td>2l0h4aBFLp9HdoaNdCTlbW</td>\n",
       "      <td>0.226</td>\n",
       "      <td>0.978</td>\n",
       "      <td>9</td>\n",
       "      <td>-5.729</td>\n",
       "      <td>0.2090</td>\n",
       "      <td>0.000004</td>\n",
       "      <td>0.533</td>\n",
       "      <td>0.0436</td>\n",
       "      <td>0.242</td>\n",
       "      <td>Death Metal</td>\n",
       "      <td>1</td>\n",
       "    </tr>\n",
       "    <tr>\n",
       "      <th>4</th>\n",
       "      <td>Into The Grave</td>\n",
       "      <td>Grave</td>\n",
       "      <td>4tszLL7NTfLCoIz39Zsiy1</td>\n",
       "      <td>4bAIIhqJeOTDcyeo1GvIMo</td>\n",
       "      <td>0.295</td>\n",
       "      <td>0.915</td>\n",
       "      <td>1</td>\n",
       "      <td>-6.968</td>\n",
       "      <td>0.0954</td>\n",
       "      <td>0.000003</td>\n",
       "      <td>0.910</td>\n",
       "      <td>0.0772</td>\n",
       "      <td>0.343</td>\n",
       "      <td>Death Metal</td>\n",
       "      <td>1</td>\n",
       "    </tr>\n",
       "  </tbody>\n",
       "</table>\n",
       "</div>"
      ],
      "text/plain": [
       "           cancion       artista                playlist  \\\n",
       "0   Immortal Rites  Morbid Angel  4tszLL7NTfLCoIz39Zsiy1   \n",
       "1  Chopped in Half      Obituary  4tszLL7NTfLCoIz39Zsiy1   \n",
       "2   Left Hand Path      Entombed  4tszLL7NTfLCoIz39Zsiy1   \n",
       "3    Pull the Plug         Death  4tszLL7NTfLCoIz39Zsiy1   \n",
       "4   Into The Grave         Grave  4tszLL7NTfLCoIz39Zsiy1   \n",
       "\n",
       "                 track_id  danceability  energy  key  loudness  speechiness  \\\n",
       "0  5hmek3mrSYvfSElBsPNbxo         0.190   0.934    1    -7.796       0.0560   \n",
       "1  01cGujYWGF7JchJLSgf6Ta         0.257   0.989   10    -5.918       0.0867   \n",
       "2  5faD0zZ9fMa3J5ZN3lIWtp         0.166   0.927    7    -8.797       0.0736   \n",
       "3  2l0h4aBFLp9HdoaNdCTlbW         0.226   0.978    9    -5.729       0.2090   \n",
       "4  4bAIIhqJeOTDcyeo1GvIMo         0.295   0.915    1    -6.968       0.0954   \n",
       "\n",
       "   acousticness  instrumentalness  liveness  valence    Lista Rep  liked  \n",
       "0      0.000008             0.107    0.3630    0.360  Death Metal      1  \n",
       "1      0.000007             0.521    0.2630    0.385  Death Metal      1  \n",
       "2      0.000004             0.651    0.3440    0.219  Death Metal      1  \n",
       "3      0.000004             0.533    0.0436    0.242  Death Metal      1  \n",
       "4      0.000003             0.910    0.0772    0.343  Death Metal      1  "
      ]
     },
     "execution_count": 1,
     "metadata": {},
     "output_type": "execute_result"
    }
   ],
   "source": [
    "#To begin with, we load the dataset created with the data I scrapped from Spotify's API\n",
    "import pandas as pd\n",
    "import plotly.express as px\n",
    "df = pd.read_csv('SpotifyMexScored.csv')\n",
    "df.head()"
   ]
  },
  {
   "cell_type": "code",
   "execution_count": 2,
   "metadata": {},
   "outputs": [],
   "source": [
    "#And then define which are the numeric columns which will be used in subsequent steps\n",
    "X = df[['danceability', 'energy',\n",
    "       'key', 'loudness', 'speechiness', 'acousticness', 'instrumentalness',\n",
    "       'liveness', 'valence']]"
   ]
  },
  {
   "cell_type": "code",
   "execution_count": 3,
   "metadata": {},
   "outputs": [],
   "source": [
    "#Since all of them are numeric, we'll only normalize the same\n",
    "from sklearn.preprocessing import StandardScaler\n",
    "scaler = StandardScaler()\n",
    "X_scaled = scaler.fit_transform(X)"
   ]
  },
  {
   "cell_type": "code",
   "execution_count": 4,
   "metadata": {},
   "outputs": [
    {
     "name": "stderr",
     "output_type": "stream",
     "text": [
      "c:\\Users\\Ivan\\AppData\\Local\\Programs\\Python\\Python39\\lib\\site-packages\\sklearn\\manifold\\_t_sne.py:795: FutureWarning: The default initialization in TSNE will change from 'random' to 'pca' in 1.2.\n",
      "  warnings.warn(\n",
      "c:\\Users\\Ivan\\AppData\\Local\\Programs\\Python\\Python39\\lib\\site-packages\\sklearn\\manifold\\_t_sne.py:805: FutureWarning: The default learning rate in TSNE will change from 200.0 to 'auto' in 1.2.\n",
      "  warnings.warn(\n"
     ]
    }
   ],
   "source": [
    "#And then, we'll use TSNE to reduce the number of components all the way down to 2 in order to be able to visualize all data and it's potential relationships\n",
    "from sklearn.manifold import TSNE\n",
    "model = TSNE(n_components=2)\n",
    "X_transformed = model.fit_transform(X_scaled)\n"
   ]
  },
  {
   "cell_type": "code",
   "execution_count": 5,
   "metadata": {},
   "outputs": [
    {
     "data": {
      "text/html": [
       "<div>\n",
       "<style scoped>\n",
       "    .dataframe tbody tr th:only-of-type {\n",
       "        vertical-align: middle;\n",
       "    }\n",
       "\n",
       "    .dataframe tbody tr th {\n",
       "        vertical-align: top;\n",
       "    }\n",
       "\n",
       "    .dataframe thead th {\n",
       "        text-align: right;\n",
       "    }\n",
       "</style>\n",
       "<table border=\"1\" class=\"dataframe\">\n",
       "  <thead>\n",
       "    <tr style=\"text-align: right;\">\n",
       "      <th></th>\n",
       "      <th>cancion</th>\n",
       "      <th>artista</th>\n",
       "      <th>playlist</th>\n",
       "      <th>track_id</th>\n",
       "      <th>danceability</th>\n",
       "      <th>energy</th>\n",
       "      <th>key</th>\n",
       "      <th>loudness</th>\n",
       "      <th>speechiness</th>\n",
       "      <th>acousticness</th>\n",
       "      <th>instrumentalness</th>\n",
       "      <th>liveness</th>\n",
       "      <th>valence</th>\n",
       "      <th>Lista Rep</th>\n",
       "      <th>liked</th>\n",
       "      <th>TSNE_1</th>\n",
       "      <th>TSNE_2</th>\n",
       "    </tr>\n",
       "  </thead>\n",
       "  <tbody>\n",
       "    <tr>\n",
       "      <th>0</th>\n",
       "      <td>Immortal Rites</td>\n",
       "      <td>Morbid Angel</td>\n",
       "      <td>4tszLL7NTfLCoIz39Zsiy1</td>\n",
       "      <td>5hmek3mrSYvfSElBsPNbxo</td>\n",
       "      <td>0.190</td>\n",
       "      <td>0.934</td>\n",
       "      <td>1</td>\n",
       "      <td>-7.796</td>\n",
       "      <td>0.0560</td>\n",
       "      <td>0.000008</td>\n",
       "      <td>0.107</td>\n",
       "      <td>0.3630</td>\n",
       "      <td>0.360</td>\n",
       "      <td>Death Metal</td>\n",
       "      <td>1</td>\n",
       "      <td>-23.384544</td>\n",
       "      <td>7.670085</td>\n",
       "    </tr>\n",
       "    <tr>\n",
       "      <th>1</th>\n",
       "      <td>Chopped in Half</td>\n",
       "      <td>Obituary</td>\n",
       "      <td>4tszLL7NTfLCoIz39Zsiy1</td>\n",
       "      <td>01cGujYWGF7JchJLSgf6Ta</td>\n",
       "      <td>0.257</td>\n",
       "      <td>0.989</td>\n",
       "      <td>10</td>\n",
       "      <td>-5.918</td>\n",
       "      <td>0.0867</td>\n",
       "      <td>0.000007</td>\n",
       "      <td>0.521</td>\n",
       "      <td>0.2630</td>\n",
       "      <td>0.385</td>\n",
       "      <td>Death Metal</td>\n",
       "      <td>1</td>\n",
       "      <td>-21.633713</td>\n",
       "      <td>40.268944</td>\n",
       "    </tr>\n",
       "    <tr>\n",
       "      <th>2</th>\n",
       "      <td>Left Hand Path</td>\n",
       "      <td>Entombed</td>\n",
       "      <td>4tszLL7NTfLCoIz39Zsiy1</td>\n",
       "      <td>5faD0zZ9fMa3J5ZN3lIWtp</td>\n",
       "      <td>0.166</td>\n",
       "      <td>0.927</td>\n",
       "      <td>7</td>\n",
       "      <td>-8.797</td>\n",
       "      <td>0.0736</td>\n",
       "      <td>0.000004</td>\n",
       "      <td>0.651</td>\n",
       "      <td>0.3440</td>\n",
       "      <td>0.219</td>\n",
       "      <td>Death Metal</td>\n",
       "      <td>1</td>\n",
       "      <td>-22.408464</td>\n",
       "      <td>42.150024</td>\n",
       "    </tr>\n",
       "    <tr>\n",
       "      <th>3</th>\n",
       "      <td>Pull the Plug</td>\n",
       "      <td>Death</td>\n",
       "      <td>4tszLL7NTfLCoIz39Zsiy1</td>\n",
       "      <td>2l0h4aBFLp9HdoaNdCTlbW</td>\n",
       "      <td>0.226</td>\n",
       "      <td>0.978</td>\n",
       "      <td>9</td>\n",
       "      <td>-5.729</td>\n",
       "      <td>0.2090</td>\n",
       "      <td>0.000004</td>\n",
       "      <td>0.533</td>\n",
       "      <td>0.0436</td>\n",
       "      <td>0.242</td>\n",
       "      <td>Death Metal</td>\n",
       "      <td>1</td>\n",
       "      <td>-26.398638</td>\n",
       "      <td>38.576771</td>\n",
       "    </tr>\n",
       "    <tr>\n",
       "      <th>4</th>\n",
       "      <td>Into The Grave</td>\n",
       "      <td>Grave</td>\n",
       "      <td>4tszLL7NTfLCoIz39Zsiy1</td>\n",
       "      <td>4bAIIhqJeOTDcyeo1GvIMo</td>\n",
       "      <td>0.295</td>\n",
       "      <td>0.915</td>\n",
       "      <td>1</td>\n",
       "      <td>-6.968</td>\n",
       "      <td>0.0954</td>\n",
       "      <td>0.000003</td>\n",
       "      <td>0.910</td>\n",
       "      <td>0.0772</td>\n",
       "      <td>0.343</td>\n",
       "      <td>Death Metal</td>\n",
       "      <td>1</td>\n",
       "      <td>-25.177782</td>\n",
       "      <td>47.225632</td>\n",
       "    </tr>\n",
       "  </tbody>\n",
       "</table>\n",
       "</div>"
      ],
      "text/plain": [
       "           cancion       artista                playlist  \\\n",
       "0   Immortal Rites  Morbid Angel  4tszLL7NTfLCoIz39Zsiy1   \n",
       "1  Chopped in Half      Obituary  4tszLL7NTfLCoIz39Zsiy1   \n",
       "2   Left Hand Path      Entombed  4tszLL7NTfLCoIz39Zsiy1   \n",
       "3    Pull the Plug         Death  4tszLL7NTfLCoIz39Zsiy1   \n",
       "4   Into The Grave         Grave  4tszLL7NTfLCoIz39Zsiy1   \n",
       "\n",
       "                 track_id  danceability  energy  key  loudness  speechiness  \\\n",
       "0  5hmek3mrSYvfSElBsPNbxo         0.190   0.934    1    -7.796       0.0560   \n",
       "1  01cGujYWGF7JchJLSgf6Ta         0.257   0.989   10    -5.918       0.0867   \n",
       "2  5faD0zZ9fMa3J5ZN3lIWtp         0.166   0.927    7    -8.797       0.0736   \n",
       "3  2l0h4aBFLp9HdoaNdCTlbW         0.226   0.978    9    -5.729       0.2090   \n",
       "4  4bAIIhqJeOTDcyeo1GvIMo         0.295   0.915    1    -6.968       0.0954   \n",
       "\n",
       "   acousticness  instrumentalness  liveness  valence    Lista Rep  liked  \\\n",
       "0      0.000008             0.107    0.3630    0.360  Death Metal      1   \n",
       "1      0.000007             0.521    0.2630    0.385  Death Metal      1   \n",
       "2      0.000004             0.651    0.3440    0.219  Death Metal      1   \n",
       "3      0.000004             0.533    0.0436    0.242  Death Metal      1   \n",
       "4      0.000003             0.910    0.0772    0.343  Death Metal      1   \n",
       "\n",
       "      TSNE_1     TSNE_2  \n",
       "0 -23.384544   7.670085  \n",
       "1 -21.633713  40.268944  \n",
       "2 -22.408464  42.150024  \n",
       "3 -26.398638  38.576771  \n",
       "4 -25.177782  47.225632  "
      ]
     },
     "execution_count": 5,
     "metadata": {},
     "output_type": "execute_result"
    }
   ],
   "source": [
    "#TNSE values are calculated and assigned to every row\n",
    "tsne1 = [value[0] for value in X_transformed]\n",
    "tsne2 = [value[1] for value in X_transformed]\n",
    "df['TSNE_1'] = tsne1\n",
    "df['TSNE_2'] = tsne2\n",
    "df.head()"
   ]
  },
  {
   "cell_type": "code",
   "execution_count": 6,
   "metadata": {},
   "outputs": [
    {
     "data": {
      "application/vnd.plotly.v1+json": {
       "config": {
        "plotlyServerURL": "https://plot.ly"
       },
       "data": [
        {
         "customdata": [
          [
           "Immortal Rites"
          ],
          [
           "Chopped in Half"
          ],
          [
           "Left Hand Path"
          ],
          [
           "Pull the Plug"
          ],
          [
           "Into The Grave"
          ],
          [
           "Slowly We Rot"
          ],
          [
           "Crystal Mountain"
          ],
          [
           "Once Upon the Cross"
          ],
          [
           "Before the Creation of Time"
          ],
          [
           "Chapel of Ghouls"
          ],
          [
           "Redneck Stomp"
          ],
          [
           "Pierced from Within"
          ],
          [
           "Hammer Smashed Face"
          ],
          [
           "Symbolic"
          ],
          [
           "Fear Of Napalm"
          ],
          [
           "Suffer The Children"
          ],
          [
           "Maze of Torment"
          ],
          [
           "Twisted Truth"
          ],
          [
           "Spirit Crusher"
          ],
          [
           "Sacrificial Suicide"
          ],
          [
           "Override Of The Overture"
          ],
          [
           "The Exorcist"
          ],
          [
           "Fall from Grace"
          ],
          [
           "I Cum Blood"
          ],
          [
           "Dead by Dawn"
          ],
          [
           "Spiritual Healing"
          ],
          [
           "Liege of Inveracity"
          ],
          [
           "Graves of the Fathers"
          ],
          [
           "Stiff and Cold"
          ],
          [
           "Premature Burial"
          ],
          [
           "Revel In Flesh"
          ],
          [
           "Leprosy"
          ],
          [
           "Arise"
          ],
          [
           "Out of the Body"
          ],
          [
           "The IVth Crusade"
          ],
          [
           "Drowned"
          ],
          [
           "Death Metal"
          ],
          [
           "Dawn of Eternity"
          ],
          [
           "For Victory"
          ],
          [
           "Lake of Fire"
          ],
          [
           "Into Everlasting Fire"
          ],
          [
           "Mother Man"
          ],
          [
           "Soulless - remastered 2003"
          ],
          [
           "From Beyond"
          ],
          [
           "Piece of Time"
          ],
          [
           "Cryptic Realms"
          ],
          [
           "Breeding Death"
          ],
          [
           "Furnace Funeral"
          ],
          [
           "Body Bag"
          ],
          [
           "Inner Self"
          ],
          [
           "Sinners Bleed"
          ],
          [
           "You'll Never See"
          ],
          [
           "Pleasure to Kill"
          ],
          [
           "Infected"
          ],
          [
           "After World Obliteration"
          ],
          [
           "Pentagram"
          ],
          [
           "Land of Tears"
          ],
          [
           "Stench of Paradise Burning"
          ],
          [
           "Who Will Be Not Be Dead"
          ],
          [
           "Dead Embryonic Cells"
          ],
          [
           "Chronic Infection"
          ],
          [
           "Eve of the Apocalypse"
          ],
          [
           "Dead Shall Rise"
          ],
          [
           "When the Sun Drank the Weight of Water"
          ],
          [
           "These Walls Shall Be Your Grave"
          ],
          [
           "Misanthrope"
          ],
          [
           "Jealousy"
          ],
          [
           "Flattening of Emotions"
          ],
          [
           "See Through Dreams"
          ],
          [
           "Living Monstrosity"
          ],
          [
           "Left to Die"
          ],
          [
           "Infernal Death"
          ],
          [
           "Zombie Ritual"
          ],
          [
           "Evil Dead"
          ],
          [
           "Dead but Dreaming"
          ],
          [
           "Blaspherereion"
          ],
          [
           "Wolverine Blues"
          ],
          [
           "Slaughter of Innocence"
          ],
          [
           "Blessed Are The Sick / Leading the Rats"
          ],
          [
           "Stripped, Raped, And Strangled"
          ],
          [
           "Disembowel"
          ],
          [
           "Dark Age"
          ],
          [
           "Testimony"
          ],
          [
           "Lack of Comprehension"
          ],
          [
           "Cromlech - Studio"
          ],
          [
           "M.S. Bismark"
          ],
          [
           "The Krusher"
          ],
          [
           "Barra Edinazzu"
          ],
          [
           "Die Rache Krieg Lied Der Assyriche"
          ],
          [
           "Twisted Mass of Burnt Decay"
          ],
          [
           "Earthly Love"
          ],
          [
           "Nostalgia"
          ],
          [
           "Soon To Be Dead"
          ],
          [
           "Oblivious to Evil"
          ],
          [
           "Brainstorm"
          ],
          [
           "When Life Has Ceased"
          ],
          [
           "Morbid Devourment"
          ],
          [
           "Incarnated Solvent Abuse"
          ],
          [
           "Corporal Jigsore Quandary"
          ],
          [
           "Staring Through The Eyes Of The Dead"
          ]
         ],
         "hovertemplate": "Lista Rep=Death Metal<br>TSNE_1=%{x}<br>TSNE_2=%{y}<br>cancion=%{customdata[0]}<extra></extra>",
         "legendgroup": "Death Metal",
         "marker": {
          "color": "#636efa",
          "symbol": "circle"
         },
         "mode": "markers",
         "name": "Death Metal",
         "orientation": "v",
         "showlegend": true,
         "type": "scatter",
         "x": [
          -23.384544,
          -21.633713,
          -22.408464,
          -26.398638,
          -25.177782,
          -24.068485,
          -26.072578,
          -20.212069,
          -17.394041,
          -23.68466,
          -25.309435,
          -18.596096,
          -20.461334,
          -28.30544,
          -22.312458,
          -22.95598,
          -24.02975,
          -21.80005,
          -26.570076,
          -29.44563,
          -27.875238,
          -27.24816,
          -17.750555,
          -19.671278,
          -26.553083,
          -22.214827,
          -24.89365,
          -26.233622,
          -26.426167,
          -17.601917,
          -22.421906,
          -23.587257,
          -21.799892,
          -26.541977,
          -22.886768,
          -24.566862,
          -22.722588,
          -16.11312,
          -21.834478,
          -31.319239,
          -22.842121,
          -18.260597,
          -23.955214,
          -23.487299,
          -32.334576,
          -19.275953,
          -23.604557,
          -23.875896,
          -24.676266,
          -23.480797,
          -22.48576,
          -24.719643,
          -25.077003,
          -23.7233,
          -21.740503,
          -25.780916,
          -29.64552,
          -25.586847,
          -28.301117,
          -13.355123,
          -26.272766,
          -17.862926,
          -21.921652,
          -26.925653,
          -19.976894,
          -23.139473,
          -26.306545,
          -22.434126,
          -24.497942,
          -27.11181,
          -24.030827,
          -23.394787,
          -24.12369,
          -25.309395,
          -13.77585,
          -24.053791,
          -19.62678,
          -25.369057,
          -16.693935,
          -22.323545,
          -25.528389,
          -16.381897,
          -17.505281,
          -30.002287,
          -22.865538,
          -20.613216,
          -20.795282,
          -24.073782,
          -18.97783,
          -23.53897,
          -26.378756,
          -21.752302,
          -27.718945,
          -25.33434,
          -12.985556,
          -24.225628,
          -22.200325,
          -27.910997,
          -26.605442,
          -21.824715
         ],
         "xaxis": "x",
         "y": [
          7.6700854,
          40.268944,
          42.150024,
          38.57677,
          47.22563,
          11.309029,
          29.207537,
          45.563892,
          3.996036,
          43.61913,
          49.051846,
          45.320023,
          43.69242,
          24.72678,
          51.255054,
          51.05232,
          24.651123,
          39.92721,
          16.556383,
          23.51278,
          45.29341,
          32.424644,
          3.6179452,
          43.743862,
          26.157042,
          12.525466,
          47.981003,
          41.220078,
          45.83509,
          20.096235,
          41.400673,
          25.389555,
          23.518003,
          12.894593,
          49.078575,
          8.564752,
          25.966267,
          45.46129,
          44.713913,
          28.51435,
          49.870365,
          44.68303,
          22.981083,
          47.930737,
          27.720373,
          46.386765,
          9.446463,
          10.09087,
          26.823576,
          15.772404,
          44.54344,
          41.71442,
          28.642181,
          30.695055,
          50.38056,
          14.247035,
          20.934357,
          39.95769,
          46.50109,
          24.504873,
          15.791438,
          20.31539,
          50.165413,
          47.038525,
          47.198017,
          22.012543,
          39.28873,
          11.518865,
          30.020567,
          16.485846,
          27.816792,
          44.204014,
          8.161925,
          46.48676,
          25.20799,
          25.849224,
          42.23323,
          25.122812,
          17.890347,
          43.62439,
          8.541986,
          46.66873,
          47.206657,
          24.623613,
          47.35201,
          45.859016,
          46.551735,
          45.72952,
          20.915016,
          41.229183,
          32.94564,
          26.9662,
          45.922615,
          25.902367,
          27.217411,
          47.390938,
          46.400867,
          23.18409,
          37.90625,
          45.639618
         ],
         "yaxis": "y"
        },
        {
         "customdata": [
          [
           "Lamberto Quintero"
          ],
          [
           "Chuy y Mauricio"
          ],
          [
           "A Mis Enemigos"
          ],
          [
           "Los Dos Amigos"
          ],
          [
           "Las Tres Tumbas"
          ],
          [
           "No Hay Novedad"
          ],
          [
           "Una Pagina Mas"
          ],
          [
           "Mi Casa Nueva"
          ],
          [
           "Mis Tres Animales"
          ],
          [
           "Si Yo Fuera Ladrón"
          ],
          [
           "Pedro Y Pablo"
          ],
          [
           "La Caspa Del Diablo"
          ]
         ],
         "hovertemplate": "Lista Rep=Corridos para Pistear<br>TSNE_1=%{x}<br>TSNE_2=%{y}<br>cancion=%{customdata[0]}<extra></extra>",
         "legendgroup": "Corridos para Pistear",
         "marker": {
          "color": "#EF553B",
          "symbol": "circle"
         },
         "mode": "markers",
         "name": "Corridos para Pistear",
         "orientation": "v",
         "showlegend": true,
         "type": "scatter",
         "x": [
          10.437294,
          11.411942,
          10.416055,
          9.242822,
          9.255103,
          -6.852819,
          4.0751576,
          34.82579,
          11.430922,
          18.392693,
          32.619392,
          30.020147
         ],
         "xaxis": "x",
         "y": [
          -19.938173,
          -19.730808,
          -31.916792,
          -26.436308,
          -24.480019,
          -20.38302,
          -23.49731,
          6.6195464,
          15.687785,
          -20.645428,
          -6.1376925,
          3.07927
         ],
         "yaxis": "y"
        },
        {
         "customdata": [
          [
           "Billete Grande (En Vivo)"
          ],
          [
           "Equipo RR"
          ],
          [
           "El Rescate"
          ],
          [
           "Siempre Pendientes"
          ],
          [
           "Ni Diablo Ni Santo"
          ],
          [
           "El Buho"
          ],
          [
           "El Doctor"
          ],
          [
           "La Muchacha del Salado \"la Nicholette\" - En Vivo"
          ],
          [
           "Un Suspiró"
          ],
          [
           "El Gabito"
          ],
          [
           "Me Acostumbre A Lo Bueno"
          ],
          [
           "Fumando Mota"
          ],
          [
           "Fuga Pa Cali 2"
          ],
          [
           "Desde Morro"
          ],
          [
           "Me Metí En El Ruedo"
          ],
          [
           "Señor Miedo"
          ],
          [
           "Por Clave el 13"
          ],
          [
           "Aerolínea Carrillo"
          ],
          [
           "Gente De Accionar"
          ],
          [
           "El Jami"
          ],
          [
           "Si Fuera Fácil"
          ],
          [
           "Soy Buen Amigo"
          ],
          [
           "El Ruddy"
          ],
          [
           "La Escuela No Me Gustó"
          ],
          [
           "El Chino (En Vivo)"
          ],
          [
           "El Fat Tony"
          ],
          [
           "Andamos Mejor"
          ],
          [
           "El Güero (Feat. Marca MP)"
          ],
          [
           "Una Raya Más al Tigre"
          ],
          [
           "Mi Pasado y Mi Presente"
          ],
          [
           "Híbrido"
          ],
          [
           "Belico El Asunto (En Vivo)"
          ],
          [
           "Backpack"
          ],
          [
           "A Lo Lejos Me Veran"
          ],
          [
           "Como Jordan"
          ],
          [
           "El Karma"
          ],
          [
           "Soy El Ratón"
          ],
          [
           "El Bélico"
          ],
          [
           "Hablando Claro (En Vivo)"
          ],
          [
           "JGL"
          ],
          [
           "La Barda"
          ],
          [
           "300 Locos - En Vivo"
          ],
          [
           "El Hijo Mayor"
          ],
          [
           "El Paciente"
          ],
          [
           "Si Me Ven"
          ],
          [
           "El Fugitivo - En Vivo"
          ],
          [
           "En El Radio Un Cochinero"
          ],
          [
           "Déjenme Hacer Dinero"
          ],
          [
           "La Mb"
          ],
          [
           "Yo Fui El Elegante"
          ],
          [
           "Hublot"
          ],
          [
           "Tranquilito"
          ],
          [
           "Corrido De Juanito"
          ],
          [
           "Fuera de Servicio - En Vivo"
          ],
          [
           "Se Fue La Pantera (En Vivo)"
          ],
          [
           "El Baleado"
          ],
          [
           "Vida Ventajosa"
          ],
          [
           "El Belicon"
          ],
          [
           "Javier El De Los Llanos"
          ],
          [
           "Yo Soy Rico"
          ],
          [
           "Ando Bien Al Tiro"
          ],
          [
           "No Le Aflojo"
          ],
          [
           "El Chaman"
          ],
          [
           "Se Amerita"
          ],
          [
           "Serafín Zambada"
          ],
          [
           "Rolling One"
          ],
          [
           "Brillo"
          ],
          [
           "El Flaquito"
          ],
          [
           "Los Botones Azules"
          ],
          [
           "El Vago De Los Nike"
          ],
          [
           "Mi Porvenir"
          ],
          [
           "Sencillo Soy"
          ],
          [
           "Denver Ruleteamos"
          ],
          [
           "De Ladrillo a Ladrillo"
          ],
          [
           "El Cuestionario"
          ]
         ],
         "hovertemplate": "Lista Rep=Corridos Perrones<br>TSNE_1=%{x}<br>TSNE_2=%{y}<br>cancion=%{customdata[0]}<extra></extra>",
         "legendgroup": "Corridos Perrones",
         "marker": {
          "color": "#00cc96",
          "symbol": "circle"
         },
         "mode": "markers",
         "name": "Corridos Perrones",
         "orientation": "v",
         "showlegend": true,
         "type": "scatter",
         "x": [
          23.573116,
          11.224611,
          27.786226,
          3.8797035,
          20.861582,
          11.635046,
          21.57859,
          30.6163,
          8.939191,
          17.850996,
          14.968627,
          2.5285094,
          11.689769,
          7.271823,
          27.758095,
          12.482324,
          14.204362,
          2.8916645,
          25.83334,
          10.514751,
          -1.0756432,
          11.98849,
          28.943417,
          8.558201,
          16.091286,
          13.8838005,
          -1.258375,
          0.66053975,
          18.38516,
          1.5641661,
          10.336939,
          9.823043,
          12.307186,
          30.256638,
          14.789705,
          10.027869,
          6.5135026,
          12.44462,
          -0.86463255,
          22.26689,
          33.109833,
          10.906686,
          10.885933,
          9.153092,
          22.58927,
          20.606588,
          2.7273467,
          4.6869516,
          20.731318,
          28.681305,
          23.06476,
          12.059571,
          7.2364464,
          24.264471,
          6.0853834,
          8.728325,
          9.935955,
          -8.948199,
          17.914473,
          18.742334,
          10.705643,
          10.964584,
          28.90926,
          15.005442,
          12.379597,
          17.551891,
          3.9812121,
          21.090246,
          13.928977,
          12.567879,
          29.886524,
          -3.4904962,
          4.4607015,
          6.0734453,
          14.877726
         ],
         "xaxis": "x",
         "y": [
          -11.913134,
          -20.610435,
          -0.76512885,
          2.4414017,
          -16.710276,
          -33.781765,
          -10.996739,
          7.2799973,
          4.3427334,
          -8.173999,
          -19.663612,
          -25.163382,
          -10.784728,
          4.009994,
          -3.4934437,
          -16.409252,
          -21.711842,
          -38.140312,
          10.585988,
          11.315982,
          -13.375024,
          -22.706297,
          0.052002255,
          -10.713531,
          -38.65272,
          -12.510757,
          -11.192186,
          -23.826496,
          -19.740381,
          -20.185904,
          -27.98859,
          -29.936298,
          -6.329669,
          -15.01441,
          2.043348,
          -34.593422,
          3.090499,
          -23.328478,
          -5.0532646,
          -15.560097,
          6.9871473,
          -8.842614,
          -18.803442,
          0.70171547,
          -12.551407,
          9.442856,
          -16.897919,
          4.4147863,
          7.7304797,
          3.8351893,
          5.549215,
          -42.41354,
          -33.656216,
          -14.348437,
          -0.53402174,
          1.6846712,
          -22.44346,
          -17.9495,
          -17.7184,
          -14.87729,
          -8.063085,
          -0.4626632,
          -1.6658052,
          -3.0139763,
          -12.086668,
          -19.400208,
          -19.677675,
          7.147697,
          0.8679419,
          13.897004,
          2.0490303,
          -10.183401,
          -9.830876,
          -12.859925,
          -8.718651
         ],
         "yaxis": "y"
        },
        {
         "customdata": [
          [
           "Smells Like Teen Spirit"
          ],
          [
           "Another One Bites The Dust - Remastered 2011"
          ],
          [
           "Sweet Child O' Mine"
          ],
          [
           "Back In Black"
          ],
          [
           "Creep"
          ],
          [
           "Whole Lotta Love - 1990 Remaster"
          ],
          [
           "Livin' On A Prayer"
          ],
          [
           "La Grange - 2005 Remaster"
          ],
          [
           "Gimme Shelter"
          ],
          [
           "Hotel California - 2013 Remaster"
          ],
          [
           "All Along the Watchtower"
          ],
          [
           "Detroit Rock City"
          ],
          [
           "Wish You Were Here"
          ],
          [
           "Let's Go Crazy"
          ],
          [
           "Master of Puppets (Remastered)"
          ],
          [
           "Southern Cross - 2005 Remaster"
          ],
          [
           "Highway to Hell"
          ],
          [
           "I Love Rock 'N Roll"
          ],
          [
           "Something In The Way"
          ],
          [
           "Dream On"
          ],
          [
           "The Boys Are Back In Town"
          ],
          [
           "Don't Stop Believin'"
          ],
          [
           "Seven Nation Army"
          ],
          [
           "Paradise City"
          ],
          [
           "Heroes - 2017 Remaster"
          ],
          [
           "Tom Sawyer"
          ],
          [
           "Are You Gonna Go My Way"
          ],
          [
           "Killing In The Name"
          ],
          [
           "Baba O'Riley"
          ],
          [
           "Hold the Line"
          ],
          [
           "For What It's Worth"
          ],
          [
           "While My Guitar Gently Weeps"
          ],
          [
           "Paranoid - 2012 - Remaster"
          ],
          [
           "Police & Thieves - Remastered"
          ],
          [
           "Under the Bridge"
          ],
          [
           "Everlong"
          ],
          [
           "(I Can't Get No) Satisfaction - Mono Version"
          ],
          [
           "Paradise By the Dashboard Light"
          ],
          [
           "Dreams - 2004 Remaster"
          ],
          [
           "We Will Rock You - Remastered 2011"
          ],
          [
           "Enter Sandman (Remastered)"
          ],
          [
           "Sweet Home Alabama"
          ],
          [
           "Have You Ever Seen The Rain"
          ],
          [
           "Cult of Personality"
          ],
          [
           "Welcome To The Jungle"
          ],
          [
           "Born To Be Wild - Single Version"
          ],
          [
           "Moonage Daydream - 2012 Remaster"
          ],
          [
           "Every Breath You Take"
          ],
          [
           "I Wanna Rock"
          ],
          [
           "You Really Got Me"
          ],
          [
           "Limelight"
          ],
          [
           "Black Dog - Remaster"
          ],
          [
           "London Calling - Remastered"
          ],
          [
           "Come Together - Remastered 2009"
          ],
          [
           "House Of The Rising Sun"
          ],
          [
           "Purple Haze"
          ],
          [
           "Sultans of Swing"
          ],
          [
           "Wonderwall - Remastered"
          ],
          [
           "One Way Or Another - Remastered"
          ],
          [
           "Song 2 - 2012 Remaster"
          ],
          [
           "Heart-Shaped Box"
          ],
          [
           "American Girl"
          ],
          [
           "Edge of Seventeen - 2016 Remaster"
          ],
          [
           "Jailbreak"
          ],
          [
           "Basket Case"
          ],
          [
           "Jump - 2015 Remaster"
          ],
          [
           "Stairway to Heaven - Remaster"
          ],
          [
           "Sheena Is a Punk Rocker - 2017 Remaster"
          ],
          [
           "Starman - 2012 Remaster"
          ],
          [
           "Purple Rain"
          ],
          [
           "Bohemian Rhapsody - Remastered 2011"
          ],
          [
           "We Got The Beat - 2011 Remaster"
          ],
          [
           "With Or Without You - Remastered"
          ],
          [
           "Crazy On You"
          ],
          [
           "Mountain Song"
          ],
          [
           "Kickstart My Heart"
          ],
          [
           "Zombie"
          ],
          [
           "More Than a Feeling"
          ],
          [
           "Saturday Night’s Alright (For Fighting) - Remastered 2014"
          ],
          [
           "In The Air Tonight - 2015 Remastered"
          ],
          [
           "Thunderstruck"
          ],
          [
           "Back on the Chain Gang - 2007 Remaster"
          ],
          [
           "Rebel Rebel - 2016 Remaster"
          ],
          [
           "Crosstown Traffic"
          ],
          [
           "Break on Through (To the Other Side)"
          ],
          [
           "Born in the U.S.A."
          ],
          [
           "Bitter Sweet Symphony"
          ],
          [
           "Won't Get Fooled Again - Original Album Version"
          ],
          [
           "White Wedding - Pt. 1"
          ],
          [
           "The Spirit Of Radio"
          ],
          [
           "Carry on Wayward Son"
          ],
          [
           "Mr. Brightside"
          ],
          [
           "Where Is My Mind? - Remastered"
          ],
          [
           "Rock And Roll All Nite"
          ],
          [
           "Last Nite"
          ],
          [
           "Hit Me With Your Best Shot"
          ],
          [
           "Under Pressure - Remastered 2011"
          ],
          [
           "Alive"
          ],
          [
           "Rock You Like A Hurricane"
          ],
          [
           "You Give Love A Bad Name"
          ]
         ],
         "hovertemplate": "Lista Rep=Classic Rock<br>TSNE_1=%{x}<br>TSNE_2=%{y}<br>cancion=%{customdata[0]}<extra></extra>",
         "legendgroup": "Classic Rock",
         "marker": {
          "color": "#ab63fa",
          "symbol": "circle"
         },
         "mode": "markers",
         "name": "Classic Rock",
         "orientation": "v",
         "showlegend": true,
         "type": "scatter",
         "x": [
          -6.4572225,
          24.899984,
          -8.302383,
          -2.2391133,
          -18.558952,
          -32.55275,
          -1.0563768,
          31.963982,
          -8.25502,
          34.293243,
          -10.650436,
          -25.007618,
          30.249617,
          -20.462914,
          -12.298881,
          14.431957,
          -24.517818,
          9.522609,
          -16.62868,
          -13.8936825,
          -6.6995955,
          -17.455376,
          -13.595616,
          -19.880701,
          -14.314158,
          -9.457643,
          -8.691535,
          29.444971,
          -16.191683,
          -7.447404,
          15.2055,
          6.1061854,
          -21.743483,
          31.78149,
          -19.614323,
          -12.856248,
          0.07806491,
          -19.436142,
          32.759537,
          16.890032,
          -7.803005,
          -7.373752,
          3.3487818,
          6.4738355,
          -18.245998,
          -23.442856,
          -8.092899,
          14.043556,
          -1.9309119,
          11.741011,
          -0.90327287,
          1.5935642,
          0.54565537,
          -18.766138,
          -16.38194,
          -17.928205,
          8.263123,
          -14.900743,
          -7.98031,
          4.7999806,
          -24.157642,
          7.5339503,
          1.9387068,
          16.885773,
          -5.9901094,
          0.36628383,
          -14.446699,
          -5.1259847,
          -16.47748,
          -15.468663,
          -13.355951,
          -10.527429,
          -20.739695,
          -17.918867,
          -18.110107,
          -26.170923,
          -17.121273,
          -17.21267,
          -1.1331842,
          -17.366161,
          -15.5212,
          0.51530176,
          -11.382778,
          -19.477354,
          -6.757058,
          -17.429728,
          -14.769359,
          -11.207351,
          9.397862,
          -19.249575,
          7.778962,
          -22.737595,
          -19.973358,
          0.18940078,
          -0.82325625,
          31.169271,
          -6.7452097,
          -14.474368,
          -21.163742,
          -1.3661962
         ],
         "xaxis": "x",
         "y": [
          11.147741,
          3.4756808,
          21.840204,
          -3.5606873,
          -7.9283614,
          27.846216,
          14.754753,
          1.3905485,
          -33.943157,
          -11.3095665,
          20.992842,
          0.78033084,
          -32.97654,
          24.79029,
          38.849518,
          -31.45562,
          20.399971,
          26.871298,
          -24.709091,
          -32.40819,
          -8.75094,
          1.4625053,
          -3.0114253,
          25.50047,
          37.507042,
          20.630543,
          -7.718632,
          10.578625,
          -3.8409235,
          22.145432,
          -31.40925,
          28.368258,
          -4.2514586,
          -10.88064,
          -10.6974945,
          22.699913,
          4.7472606,
          4.7040124,
          -10.163644,
          -40.400333,
          2.4460359,
          -12.238126,
          5.548887,
          26.019566,
          32.718338,
          -5.0521164,
          -10.260913,
          -33.104263,
          15.981361,
          -14.070972,
          5.538072,
          0.04875264,
          6.191692,
          -8.896305,
          16.51718,
          38.823223,
          14.506403,
          10.895217,
          20.369484,
          -5.2403784,
          -2.3374891,
          6.9209647,
          2.322935,
          15.135719,
          11.910755,
          7.3274336,
          -24.770351,
          11.806493,
          0.32599694,
          1.3266351,
          -32.73953,
          9.873409,
          -9.134528,
          -9.609054,
          26.241156,
          21.08256,
          -1.5796683,
          16.425789,
          9.944876,
          -26.891747,
          12.646455,
          8.505582,
          -10.17772,
          9.708661,
          -8.574457,
          9.515272,
          28.335468,
          7.428567,
          18.855759,
          5.822215,
          22.227098,
          12.50436,
          -10.361589,
          9.986961,
          8.505689,
          -11.43429,
          -33.604134,
          28.476809,
          -5.140201,
          15.103564
         ],
         "yaxis": "y"
        },
        {
         "customdata": [
          [
           "Un Monton De Estrellas"
          ],
          [
           "El Gran Varon"
          ],
          [
           "La Negra Tiene Tumbao"
          ],
          [
           "Tu Cariñito"
          ],
          [
           "Gracias Amor"
          ],
          [
           "Talento De Televisión"
          ],
          [
           "Yo No Sé Mañana (salsa)"
          ],
          [
           "Eres Mi Sueño"
          ],
          [
           "Te Va a Doler"
          ],
          [
           "Problemas de Ciudad"
          ],
          [
           "Que Locura Enamorarme De Ti"
          ],
          [
           "Citas Clandestinas"
          ],
          [
           "Lloraras"
          ],
          [
           "Me Tengo Que Ir"
          ],
          [
           "Un Sueño Y Nada Mas"
          ],
          [
           "Fabricando Fantasías - Salsa Version"
          ],
          [
           "Dime Cómo Hago"
          ],
          [
           "Conteo Regresivo - Salsa Version"
          ],
          [
           "Amores Como el Nuestro"
          ],
          [
           "Ven Devórame Otra Vez"
          ],
          [
           "Dame Una Noche - Remix"
          ],
          [
           "Aquel Lugar"
          ],
          [
           "Regálame una Noche"
          ],
          [
           "Lluvia"
          ],
          [
           "Cachondea"
          ],
          [
           "Sobredosis"
          ],
          [
           "Rumba Callejera - En Vivo"
          ],
          [
           "Casi Te Envidio"
          ],
          [
           "Una Aventura"
          ],
          [
           "Pequeñas Cosas"
          ],
          [
           "Isla para Dos"
          ],
          [
           "Mia"
          ],
          [
           "Quien Entiende Este Amor"
          ],
          [
           "Virgen"
          ],
          [
           "Será Que Si"
          ],
          [
           "Pedro Navaja"
          ],
          [
           "Mi Manera de Amarte"
          ],
          [
           "Soledad (2021 Remastered Version)"
          ],
          [
           "Gotas De Lluvia"
          ],
          [
           "La Agarro Bajando"
          ],
          [
           "Busca Por Dentro"
          ],
          [
           "Si Volveras a Mí"
          ],
          [
           "Se Va a Beber"
          ],
          [
           "Acurrucaito"
          ],
          [
           "Las Heridas"
          ],
          [
           "Anhelo"
          ],
          [
           "Ese"
          ],
          [
           "Conciencia"
          ],
          [
           "Si No La Tengo"
          ],
          [
           "Extrañándote"
          ],
          [
           "Setenta y Mas"
          ],
          [
           "Hazme Olvidarla"
          ],
          [
           "Silbando"
          ],
          [
           "Sin Sentimientos"
          ],
          [
           "Contigo Nada Fluye"
          ],
          [
           "Apiádate de Mi"
          ],
          [
           "Dominicano Alza La Mano"
          ],
          [
           "Desde El Fondo De Mi Corazon"
          ],
          [
           "Si Me Ves Llorar"
          ],
          [
           "Qué Hay de Malo"
          ],
          [
           "Quiero Morir En Tu Piel"
          ],
          [
           "Mala jujer"
          ],
          [
           "Mi Media Mitad"
          ],
          [
           "Dia Tras Dia"
          ],
          [
           "Si Supiera"
          ],
          [
           "Dime Qué Paso"
          ],
          [
           "El Carnaval del Sabor"
          ],
          [
           "Cara de Niño"
          ],
          [
           "Y Tú Te Vas"
          ],
          [
           "Déjame Un Beso"
          ],
          [
           "Vuelvo A Sentir"
          ],
          [
           "No Podrán Separarnos"
          ],
          [
           "Detalles"
          ],
          [
           "Ella Feat. Luis Enrique"
          ],
          [
           "Ojitos Hechiceros"
          ],
          [
           "¿Qué Pasó?"
          ],
          [
           "Dímelo"
          ],
          [
           "Corazon de Acero"
          ],
          [
           "Entre La Espada y La Pared"
          ],
          [
           "Evitare"
          ],
          [
           "De Punta a Punta"
          ],
          [
           "Sombra Loca"
          ],
          [
           "Rosa Rosa"
          ],
          [
           "La Cita"
          ],
          [
           "Todo Contigo"
          ],
          [
           "Le Hace Falta un Beso"
          ],
          [
           "He Creído"
          ],
          [
           "Caricias Prohibidas"
          ],
          [
           "Te Regalo Todo"
          ],
          [
           "Porque Te Amo"
          ],
          [
           "Tú Me Haces Falta"
          ],
          [
           "Todo Empezó"
          ],
          [
           "Cada Vez Otra Vez"
          ],
          [
           "Aquél Viejo Motel"
          ],
          [
           "Y Nos Amamos"
          ],
          [
           "Desnúdate Mujer"
          ],
          [
           "La Rueda"
          ],
          [
           "Tu Con El"
          ],
          [
           "Tú Me Vuelves Loco"
          ],
          [
           "Enamorado"
          ]
         ],
         "hovertemplate": "Lista Rep=Salsas Ching@nas<br>TSNE_1=%{x}<br>TSNE_2=%{y}<br>cancion=%{customdata[0]}<extra></extra>",
         "legendgroup": "Salsas Ching@nas",
         "marker": {
          "color": "#FFA15A",
          "symbol": "circle"
         },
         "mode": "markers",
         "name": "Salsas Ching@nas",
         "orientation": "v",
         "showlegend": true,
         "type": "scatter",
         "x": [
          -3.613844,
          -7.0944033,
          8.73545,
          8.345122,
          20.718168,
          18.552467,
          21.238264,
          5.949728,
          17.978882,
          -3.2753193,
          5.172539,
          13.154192,
          3.927256,
          4.299119,
          -6.0050244,
          12.488876,
          10.770217,
          13.285258,
          15.238495,
          3.269122,
          19.198498,
          15.236049,
          15.132986,
          4.167141,
          9.620476,
          11.18713,
          8.717573,
          -3.312302,
          -1.3358005,
          0.12638254,
          -4.8567724,
          7.3806524,
          0.9324432,
          14.363051,
          14.776146,
          16.772198,
          5.5223017,
          1.7564024,
          20.362568,
          9.798172,
          30.544094,
          17.181118,
          7.912964,
          18.993578,
          10.110708,
          12.87625,
          31.975445,
          4.9728904,
          2.971062,
          21.558426,
          1.2147037,
          11.885847,
          27.169474,
          -8.5619,
          7.511343,
          3.6630123,
          28.742065,
          4.683866,
          15.264731,
          14.959775,
          -0.16115098,
          -1.5330898,
          9.132583,
          7.331584,
          13.385725,
          8.654718,
          27.422253,
          3.3219335,
          3.0705628,
          15.660147,
          15.79853,
          6.102,
          8.01704,
          19.99661,
          12.786309,
          -7.121828,
          21.292278,
          8.225214,
          7.6613436,
          12.186738,
          -6.7429166,
          15.618749,
          11.828161,
          19.197723,
          4.1464643,
          22.101099,
          29.964117,
          13.013481,
          10.274149,
          3.1089058,
          4.274972,
          2.7514231,
          15.178084,
          20.649977,
          20.64728,
          18.542631,
          8.922871,
          10.619389,
          8.156096,
          6.6299872
         ],
         "xaxis": "x",
         "y": [
          -5.389546,
          -29.148853,
          -4.3498325,
          -13.126412,
          -20.86577,
          -33.54109,
          -26.56213,
          7.9758234,
          -10.271927,
          -15.971045,
          -13.782879,
          -2.2891808,
          -14.500417,
          -0.6679441,
          -14.200336,
          -8.433417,
          -14.247794,
          -20.793505,
          -32.431713,
          -19.091787,
          -10.377184,
          -4.141625,
          19.866785,
          -13.916818,
          15.137385,
          -14.437023,
          27.07676,
          -16.568579,
          1.5309514,
          -16.136799,
          -15.110092,
          -17.458883,
          15.709538,
          -14.30945,
          -13.067089,
          -39.074512,
          3.035337,
          -17.036236,
          -27.493607,
          11.971377,
          -12.255388,
          -10.394704,
          1.0856718,
          7.488475,
          -10.482148,
          -10.653334,
          2.9202976,
          -14.276817,
          -8.012216,
          -27.455597,
          -19.693708,
          -36.74381,
          -10.291429,
          -32.90455,
          -9.776198,
          -9.2174425,
          2.9325945,
          -21.411407,
          -12.446444,
          -34.13098,
          -18.429926,
          -16.995653,
          7.785507,
          8.344655,
          -34.483215,
          -0.13369375,
          -0.41407347,
          -16.695461,
          -36.262123,
          -12.709113,
          -33.113274,
          -40.593018,
          10.087389,
          9.387873,
          11.231609,
          -15.18728,
          -25.569792,
          -16.045933,
          1.8323363,
          -16.371733,
          -13.031853,
          -34.494995,
          -6.730294,
          -33.04921,
          -23.06937,
          -24.580315,
          -14.748133,
          -38.362392,
          -16.150053,
          4.2454305,
          7.5474772,
          -15.691177,
          -35.154606,
          -28.260809,
          -28.95047,
          -9.036971,
          -16.218443,
          14.747857,
          -11.495815,
          9.459829
         ],
         "yaxis": "y"
        },
        {
         "customdata": [
          [
           "Master of Puppets (Remastered)"
          ],
          [
           "Chop Suey!"
          ],
          [
           "Duality"
          ],
          [
           "Crazy Train"
          ],
          [
           "Freak On a Leash"
          ],
          [
           "Enter Sandman (Remastered)"
          ],
          [
           "Hail to the King"
          ],
          [
           "My Own Summer (Shove It)"
          ],
          [
           "Bodies"
          ],
          [
           "Dragula"
          ],
          [
           "Ace of Spades"
          ],
          [
           "Walk"
          ],
          [
           "Symphony Of Destruction"
          ],
          [
           "I Wanna Rock"
          ],
          [
           "Sugar"
          ],
          [
           "Paranoid - 2012 - Remaster"
          ],
          [
           "Cum on Feel the Noize"
          ],
          [
           "Wait and Bleed"
          ],
          [
           "Cowboys from Hell"
          ],
          [
           "Breaking the Law"
          ],
          [
           "Nothin' But A Good Time - Remastered 2006"
          ],
          [
           "Du hast"
          ],
          [
           "Bad Company"
          ],
          [
           "Thunder Kiss '65"
          ],
          [
           "School's Out"
          ],
          [
           "Shout At The Devil"
          ],
          [
           "No One Like You"
          ],
          [
           "Mama, I'm Coming Home"
          ],
          [
           "A Warrior's Call"
          ],
          [
           "To Hell and Back"
          ],
          [
           "Your Betrayal"
          ],
          [
           "My Curse"
          ],
          [
           "Shadow Moses"
          ],
          [
           "Painkiller"
          ],
          [
           "Looking Down the Barrel of Today"
          ],
          [
           "I Stand Alone"
          ],
          [
           "Die MF Die"
          ],
          [
           "Iron Man - 2012 - Remaster"
          ],
          [
           "Bark at the Moon"
          ],
          [
           "Down with the Sickness"
          ],
          [
           "Stinkfist"
          ],
          [
           "Laid to Rest"
          ],
          [
           "Blood and Thunder"
          ],
          [
           "The Trooper - 2015 Remaster"
          ],
          [
           "Rainbow in the Dark"
          ],
          [
           "I Want Out"
          ],
          [
           "Cirice"
          ],
          [
           "Raining Blood"
          ],
          [
           "Dig"
          ],
          [
           "Push It"
          ],
          [
           "Redneck"
          ],
          [
           "Nobody's Fool"
          ],
          [
           "South Of Heaven"
          ],
          [
           "Twilight Of The Thunder God"
          ],
          [
           "Only for the Weak"
          ],
          [
           "Holy Diver"
          ],
          [
           "Pull Me Under"
          ],
          [
           "Roots Bloody Roots"
          ],
          [
           "I Wanna Be Somebody"
          ],
          [
           "Under and Over It"
          ],
          [
           "Balls to the Wall"
          ],
          [
           "Are You Dead Yet?"
          ],
          [
           "Ritual"
          ],
          [
           "Carrion"
          ],
          [
           "Madhouse"
          ],
          [
           "War Eternal"
          ],
          [
           "You Only Live Once"
          ],
          [
           "Black No. 1 (Little Miss Scare -All)"
          ],
          [
           "In Waves"
          ],
          [
           "The Number of the Beast - 2015 Remaster"
          ],
          [
           "Highway Star"
          ],
          [
           "Hammer Smashed Face"
          ],
          [
           "Kings of Metal"
          ],
          [
           "Wild Eyes"
          ],
          [
           "Heaven and Hell - 2008 Remaster"
          ],
          [
           "Panic Attack"
          ],
          [
           "Snap Your Fingers, Snap Your Neck"
          ],
          [
           "L'enfant sauvage"
          ],
          [
           "Davidian"
          ],
          [
           "Stone the Crow"
          ],
          [
           "The Motherload"
          ],
          [
           "Breaking the Chains"
          ],
          [
           "Halo"
          ],
          [
           "Freezing Moon"
          ],
          [
           "I Will Be Heard"
          ],
          [
           "Hellraiser - 30th Anniversary Edition"
          ],
          [
           "Let It Go"
          ],
          [
           "You Can't Bring Me Down"
          ],
          [
           "Arise"
          ],
          [
           "Stand My Ground"
          ],
          [
           "The Toxic Waltz"
          ],
          [
           "Slave to the Grind"
          ],
          [
           "Return to Serenity"
          ],
          [
           "Symbolic"
          ],
          [
           "Evil"
          ],
          [
           "Princess of the Night - 2009 Remastered Version"
          ],
          [
           "Raise Your Horns"
          ],
          [
           "Just One Fix"
          ],
          [
           "Replica"
          ],
          [
           "Brotherhood of the Snake"
          ]
         ],
         "hovertemplate": "Lista Rep=Metal Essentials<br>TSNE_1=%{x}<br>TSNE_2=%{y}<br>cancion=%{customdata[0]}<extra></extra>",
         "legendgroup": "Metal Essentials",
         "marker": {
          "color": "#19d3f3",
          "symbol": "circle"
         },
         "mode": "markers",
         "name": "Metal Essentials",
         "orientation": "v",
         "showlegend": true,
         "type": "scatter",
         "x": [
          -12.299219,
          -23.539219,
          -26.960337,
          18.821354,
          -20.046957,
          -7.803005,
          -7.163958,
          -14.929388,
          -8.479643,
          -2.7505107,
          -23.533083,
          -21.90664,
          -9.998252,
          -1.9309928,
          27.025553,
          -21.743483,
          -19.98212,
          -18.875025,
          -24.412672,
          -18.537802,
          -1.578479,
          9.048521,
          -14.826579,
          5.2953715,
          -16.83966,
          -11.415541,
          -7.8540497,
          -16.85472,
          -17.509628,
          -12.129173,
          -10.962554,
          -20.450085,
          -27.099438,
          -27.415443,
          -3.0080395,
          -21.758375,
          -8.452724,
          -17.516321,
          -28.822596,
          10.055966,
          -26.153006,
          -19.547798,
          -25.20804,
          -18.568115,
          -9.643912,
          -21.939327,
          -16.35609,
          -29.674202,
          -21.31398,
          -2.330424,
          -28.510496,
          -18.040333,
          -30.843828,
          -20.861097,
          -27.352774,
          -21.196278,
          -15.975715,
          -26.66186,
          -21.790037,
          -21.78589,
          -14.511083,
          -17.09982,
          -1.5363901,
          -22.362366,
          -16.143274,
          -20.15506,
          -24.968323,
          -22.568167,
          -18.438599,
          -21.825897,
          -14.104003,
          -20.461332,
          -9.757122,
          -26.583645,
          -23.058273,
          -24.622663,
          -6.7582583,
          -26.626272,
          -26.239304,
          -11.729759,
          -21.474401,
          -14.545543,
          -10.711207,
          -23.46476,
          -8.129237,
          -9.600394,
          -20.843298,
          -32.595257,
          -21.799898,
          -22.370676,
          -26.76058,
          -18.965216,
          -24.320919,
          -28.305346,
          -21.641443,
          -22.294434,
          -18.006647,
          -17.505955,
          9.342031,
          -25.266562
         ],
         "xaxis": "x",
         "y": [
          38.84985,
          21.131346,
          19.651896,
          -11.372162,
          6.4310894,
          2.4460359,
          12.175743,
          9.593778,
          13.519848,
          9.078727,
          2.634771,
          1.9430938,
          14.678773,
          15.98133,
          11.680199,
          -4.2514586,
          24.286858,
          29.497614,
          1.3121827,
          9.797706,
          16.895666,
          19.39039,
          22.968054,
          21.437458,
          3.106595,
          14.630397,
          -9.262374,
          16.346655,
          26.938982,
          10.489523,
          11.794211,
          27.2319,
          21.144495,
          13.471288,
          17.070715,
          19.494091,
          13.914747,
          18.924452,
          26.329458,
          -4.954678,
          48.29053,
          29.541752,
          44.521187,
          7.1152143,
          22.292402,
          5.208748,
          12.215411,
          20.067917,
          29.761992,
          17.151072,
          13.235218,
          -9.630482,
          24.592989,
          18.108072,
          48.87713,
          22.788755,
          20.27461,
          11.37803,
          6.5308666,
          29.51826,
          19.77893,
          28.775928,
          8.100232,
          18.969797,
          3.610357,
          17.713133,
          20.71112,
          -0.778699,
          29.162458,
          11.114558,
          27.744692,
          43.69243,
          -9.507985,
          20.151215,
          -1.150725,
          13.101481,
          3.4828367,
          33.954845,
          27.53262,
          22.782217,
          17.564552,
          13.059969,
          12.443487,
          45.006664,
          10.8440075,
          13.169224,
          6.4612107,
          25.648651,
          23.518063,
          16.40182,
          40.475983,
          34.023922,
          -2.896017,
          24.726782,
          36.91578,
          2.1467614,
          40.296177,
          35.511345,
          20.189396,
          15.169559
         ],
         "yaxis": "y"
        },
        {
         "customdata": [
          [
           "Llorar"
          ],
          [
           "El Paso del Gigante"
          ],
          [
           "Tiene Espinas El Rosal"
          ],
          [
           "Que Bello"
          ],
          [
           "Procura"
          ],
          [
           "Tiburon"
          ],
          [
           "Cómo Te Voy A Olvidar"
          ],
          [
           "17 Años"
          ],
          [
           "Mi Niña Mujer"
          ],
          [
           "El Listón De Tu Pelo"
          ],
          [
           "Todo Me Gusta De Ti"
          ],
          [
           "Se Me Perdio La Cadenita"
          ],
          [
           "Escándalo"
          ],
          [
           "Baila Esta Cumbia"
          ],
          [
           "El Chico Del Apartamento 512"
          ],
          [
           "Bidi Bidi Bom Bom - 1994 Version"
          ],
          [
           "Amor Prohibido"
          ],
          [
           "La Carcacha"
          ],
          [
           "Suavecito, Suavecito"
          ],
          [
           "Oye Mujer"
          ],
          [
           "Fiestiña"
          ],
          [
           "Mi Cucu"
          ],
          [
           "Que nadie sepa mi sufrir (Amor de mis amores)"
          ],
          [
           "Spanish Girl"
          ],
          [
           "El Botecito"
          ],
          [
           "Un Sueño"
          ],
          [
           "No Te Pertenece"
          ],
          [
           "Un Monton De Estrellas"
          ],
          [
           "Cumbia De Los Monjes"
          ],
          [
           "Agua de vida"
          ],
          [
           "Loca"
          ],
          [
           "Muchachita Consentida"
          ],
          [
           "Sopa De Caracol"
          ],
          [
           "El Gran Varon"
          ],
          [
           "Entrega De Amor"
          ],
          [
           "Mis Sentimientos"
          ],
          [
           "Besar Tu Piel"
          ],
          [
           "No Te Voy A Perdonar"
          ],
          [
           "Me Volví A Acordar De Ti"
          ],
          [
           "Amor Regresa"
          ],
          [
           "El Afilador"
          ],
          [
           "Mayonesa"
          ],
          [
           "La Ventanita"
          ],
          [
           "La Negra Tiene Tumbao"
          ],
          [
           "La Boa"
          ],
          [
           "Bomboro Quiñá Quiñá (with Rubén Albarrán) - En Vivo"
          ],
          [
           "Amigos Nada Más"
          ],
          [
           "Los Luchadores"
          ],
          [
           "Echarme Al Olvido"
          ],
          [
           "La rebelion"
          ],
          [
           "Gracias Amor"
          ],
          [
           "Mil Horas"
          ],
          [
           "Existe Un Corazón"
          ],
          [
           "Chica Atrevida"
          ],
          [
           "Me Haces Falta Tú"
          ],
          [
           "Tenías Que Ser Tú"
          ],
          [
           "Bonita Pero Mentirosa"
          ],
          [
           "Conga Y Timbal"
          ],
          [
           "Como La Flor"
          ],
          [
           "Pégame Tu Vicio"
          ],
          [
           "Adiós Adiós"
          ],
          [
           "El Nido"
          ],
          [
           "El Gil de Tu Ex"
          ],
          [
           "Talento De Televisión"
          ],
          [
           "Yo No Sé Mañana (salsa)"
          ],
          [
           "Los Caminos De La Vida"
          ],
          [
           "Cumbia sobre el río / Interludio"
          ],
          [
           "Vidrio"
          ],
          [
           "Sin Ti No Sé Vivir"
          ],
          [
           "Eres Mi Sueño"
          ],
          [
           "Hechicería"
          ],
          [
           "Pidele Perdon"
          ],
          [
           "Hoy Tengo Ganas De Ti"
          ],
          [
           "Me Ganaron Tu Cariño"
          ],
          [
           "La Tortuga"
          ],
          [
           "Cumbia Villera"
          ],
          [
           "Pibe Cantina"
          ],
          [
           "El Amor"
          ],
          [
           "Maruja"
          ],
          [
           "Sin Alma Y Sin Corazon"
          ],
          [
           "Ay Amor"
          ],
          [
           "Tonta"
          ],
          [
           "Trapeaste conmigo"
          ],
          [
           "Ojitos Mentirosos"
          ],
          [
           "Súbale Hay Lugares"
          ],
          [
           "Ya Se Ha Muerto Mi Abuelo"
          ],
          [
           "La Última Coca del Desierto"
          ],
          [
           "Prisionera"
          ],
          [
           "Cumbia Sampuesana"
          ],
          [
           "Llorando Se Fue \"Lambada\""
          ],
          [
           "Regresa Mi Vida"
          ],
          [
           "El Reo Ausente"
          ],
          [
           "Nunca Es Suficiente"
          ],
          [
           "¿Dónde Estarás?"
          ],
          [
           "Que Te Vaya Bien"
          ],
          [
           "Vienes y Te Vas"
          ],
          [
           "Tus Jefes No Me Quieren"
          ],
          [
           "Rumba Cha Cha"
          ],
          [
           "La Escandalosa"
          ],
          [
           "Me llamo Raquel"
          ]
         ],
         "hovertemplate": "Lista Rep=Cumbias de Microbusero<br>TSNE_1=%{x}<br>TSNE_2=%{y}<br>cancion=%{customdata[0]}<extra></extra>",
         "legendgroup": "Cumbias de Microbusero",
         "marker": {
          "color": "#FF6692",
          "symbol": "circle"
         },
         "mode": "markers",
         "name": "Cumbias de Microbusero",
         "orientation": "v",
         "showlegend": true,
         "type": "scatter",
         "x": [
          21.003477,
          30.310251,
          -9.387646,
          -5.445101,
          7.4626355,
          -1.7677864,
          1.2726016,
          8.566406,
          6.979942,
          -0.4394795,
          2.12568,
          -6.2637544,
          13.732934,
          19.429874,
          -0.04896336,
          -6.43112,
          -2.092418,
          10.215494,
          14.207721,
          9.662675,
          11.407548,
          10.029463,
          8.317207,
          10.190727,
          0.14525054,
          1.7356147,
          7.241309,
          -3.613965,
          0.37296325,
          32.49591,
          4.309769,
          7.24454,
          -4.136294,
          -7.0941215,
          1.5919234,
          7.0524445,
          9.324748,
          -2.0585358,
          -1.7465047,
          9.6435995,
          6.155622,
          7.651072,
          -0.46280894,
          8.735584,
          22.700294,
          24.913784,
          8.332929,
          30.408964,
          34.47636,
          1.5367233,
          20.717783,
          8.431041,
          -5.158622,
          -1.8937374,
          34.326035,
          6.498522,
          32.730743,
          -5.9560866,
          8.676367,
          0.022736471,
          -4.0434036,
          -2.385128,
          18.823084,
          18.55232,
          21.238264,
          7.3359513,
          -28.097301,
          8.60628,
          3.6819568,
          5.94984,
          15.601228,
          -5.160881,
          29.765644,
          -7.9376974,
          20.155176,
          9.361869,
          5.9821596,
          -4.781899,
          7.4528036,
          9.05722,
          3.337678,
          -7.9558,
          0.7233831,
          1.4233042,
          16.68082,
          30.621693,
          7.6074376,
          0.24342051,
          20.42054,
          4.0515604,
          2.628776,
          11.835799,
          6.0787992,
          -0.66709185,
          15.5811405,
          2.7968833,
          30.990736,
          4.687271,
          -0.42011225,
          4.7088447
         ],
         "xaxis": "x",
         "y": [
          4.2182455,
          4.093356,
          -14.318785,
          -18.235395,
          -10.919739,
          0.8071306,
          -39.273285,
          -35.550568,
          -21.815994,
          -23.296013,
          -9.747808,
          -6.7562847,
          -5.4743705,
          7.9070354,
          -15.219446,
          -13.869116,
          -17.430056,
          16.372202,
          -34.169323,
          10.722377,
          2.3973007,
          15.45042,
          17.31961,
          17.854942,
          3.5896196,
          -5.647815,
          -35.196026,
          -5.3897634,
          -19.61479,
          -6.3467736,
          8.855156,
          -19.882235,
          -14.336284,
          -29.148746,
          -38.273846,
          -20.635057,
          -35.964638,
          -10.9905205,
          -43.305668,
          27.475847,
          4.2746124,
          -6.371949,
          3.2838721,
          -4.3496685,
          -14.112711,
          -8.780082,
          -37.258446,
          -1.8821312,
          -9.315434,
          5.927657,
          -20.86647,
          4.148538,
          -20.851194,
          -14.360432,
          -10.278494,
          -17.34665,
          -9.317606,
          -16.623528,
          17.4783,
          5.1910653,
          -16.911985,
          -18.578962,
          -18.620638,
          -33.5412,
          -26.562128,
          -17.50407,
          49.808983,
          -20.3273,
          -36.545315,
          7.9757824,
          -1.726887,
          -14.404608,
          -13.277455,
          -11.6543865,
          12.827061,
          3.1861901,
          -6.456501,
          -5.8476586,
          3.183471,
          8.611058,
          -35.722195,
          -12.847567,
          -15.33099,
          -21.506042,
          12.601891,
          -13.283812,
          26.580885,
          -4.4628196,
          4.288872,
          -17.788818,
          3.8081822,
          12.833976,
          -34.992023,
          -8.589245,
          -19.715723,
          -9.191943,
          -8.624374,
          -7.051047,
          -4.4952,
          8.541371
         ],
         "yaxis": "y"
        },
        {
         "customdata": [
          [
           "Master Of Puppets"
          ],
          [
           "Enter Sandman"
          ],
          [
           "Whiskey In The Jar"
          ],
          [
           "For Whom The Bell Tolls - Remastered"
          ],
          [
           "One"
          ],
          [
           "Nothing Else Matters"
          ],
          [
           "Fuel"
          ],
          [
           "Fade To Black - Remastered"
          ],
          [
           "Seek & Destroy - Remastered"
          ],
          [
           "The Unforgiven"
          ],
          [
           "The Unforgiven II"
          ],
          [
           "Battery"
          ],
          [
           "The Day That Never Comes"
          ],
          [
           "Sad But True"
          ],
          [
           "Turn The Page"
          ],
          [
           "Hardwired"
          ],
          [
           "Whiplash - Remastered"
          ],
          [
           "Wherever I May Roam"
          ],
          [
           "The Memory Remains"
          ],
          [
           "St. Anger"
          ],
          [
           "Ride The Lightning (Remastered)"
          ],
          [
           "Until It Sleeps"
          ],
          [
           "Fight Fire With Fire - Remastered"
          ],
          [
           "The Four Horsemen - Remastered"
          ],
          [
           "All Nightmare Long"
          ],
          [
           "Mama Said"
          ],
          [
           "Welcome Home (Sanitarium) - Remastered"
          ],
          [
           "Die, Die My Darling"
          ],
          [
           "The Unforgiven III"
          ],
          [
           "Don't Tread On Me"
          ],
          [
           "Creeping Death (Remastered)"
          ],
          [
           "Blackened"
          ],
          [
           "King Nothing"
          ],
          [
           "I Disappear"
          ],
          [
           "The Thing That Should Not Be"
          ],
          [
           "Harvester Of Sorrow"
          ],
          [
           "Orion - Remastered"
          ],
          [
           "Tuesday's Gone"
          ],
          [
           "Leper Messiah"
          ],
          [
           "...And Justice For All"
          ],
          [
           "No Leaf Clover - Live"
          ],
          [
           "Moth Into Flame"
          ],
          [
           "Disposable Heroes"
          ],
          [
           "Motorbreath - Remastered"
          ],
          [
           "Trapped Under Ice - Remastered"
          ],
          [
           "Hit The Lights - Remastered"
          ],
          [
           "Damage, Inc."
          ],
          [
           "Jump In The Fire - Remastered"
          ],
          [
           "Eye Of The Beholder"
          ],
          [
           "Devil's Dance"
          ]
         ],
         "hovertemplate": "Lista Rep=This is Metallica<br>TSNE_1=%{x}<br>TSNE_2=%{y}<br>cancion=%{customdata[0]}<extra></extra>",
         "legendgroup": "This is Metallica",
         "marker": {
          "color": "#B6E880",
          "symbol": "circle"
         },
         "mode": "markers",
         "name": "This is Metallica",
         "orientation": "v",
         "showlegend": true,
         "type": "scatter",
         "x": [
          -12.342351,
          -7.8100414,
          -10.252339,
          -20.749321,
          -21.038286,
          -19.793034,
          -9.119441,
          -24.115911,
          -29.702232,
          -17.804861,
          -16.16951,
          -16.843275,
          -20.570475,
          -10.958126,
          -15.802557,
          -19.54995,
          -19.78492,
          -14.30244,
          -10.709408,
          -13.25649,
          -25.59019,
          -8.380201,
          -24.770123,
          -32.55909,
          -22.261168,
          -16.75371,
          -24.173782,
          -9.546182,
          -18.776537,
          6.411744,
          -26.850906,
          -23.642397,
          -12.523138,
          -10.234838,
          -11.2435665,
          6.264202,
          -18.054127,
          5.2239947,
          -25.928951,
          -18.186356,
          5.6097255,
          -22.5996,
          -20.812084,
          -27.430256,
          -27.242249,
          -28.527674,
          -15.716813,
          -18.575068,
          -2.21359,
          -9.3569565
         ],
         "xaxis": "x",
         "y": [
          38.8636,
          2.1467586,
          24.649221,
          11.442969,
          -1.7825159,
          -9.445316,
          10.55175,
          23.74907,
          26.488867,
          -4.15654,
          25.317125,
          43.521774,
          16.287148,
          18.236341,
          22.217,
          26.992641,
          35.962826,
          20.110786,
          24.834572,
          11.166234,
          27.441303,
          23.189596,
          45.828823,
          25.451624,
          20.527561,
          -1.6092157,
          -0.8752198,
          25.237541,
          13.674344,
          14.623473,
          23.31538,
          1.3913492,
          20.657219,
          10.927366,
          37.759987,
          14.550355,
          45.981686,
          23.603151,
          49.56221,
          22.820364,
          27.638363,
          17.668047,
          37.297676,
          16.044506,
          25.888977,
          22.64154,
          45.567905,
          7.0056496,
          4.539133,
          8.566103
         ],
         "yaxis": "y"
        },
        {
         "customdata": [
          [
           "Deutschland"
          ],
          [
           "Dicke Titten"
          ],
          [
           "Du hast"
          ],
          [
           "Sonne"
          ],
          [
           "Ausländer"
          ],
          [
           "Armee der Tristen"
          ],
          [
           "Engel"
          ],
          [
           "Ich will"
          ],
          [
           "Radio"
          ],
          [
           "Angst"
          ],
          [
           "Amerika"
          ],
          [
           "Feuer frei!"
          ],
          [
           "Zeig dich"
          ],
          [
           "Zick Zack"
          ],
          [
           "Du riechst so gut"
          ],
          [
           "Mein Herz brennt"
          ],
          [
           "Puppe"
          ],
          [
           "Zeit"
          ],
          [
           "Asche zu Asche"
          ],
          [
           "Links 2 3 4"
          ],
          [
           "Was ich liebe"
          ],
          [
           "Giftig"
          ],
          [
           "Mein Teil"
          ],
          [
           "Rammstein"
          ],
          [
           "Mutter"
          ],
          [
           "Ich tu dir weh"
          ],
          [
           "Ohne dich"
          ],
          [
           "Rosenrot"
          ],
          [
           "Wollt ihr das Bett in Flammen sehen"
          ],
          [
           "Waidmanns Heil"
          ],
          [
           "Keine Lust"
          ],
          [
           "Sehnsucht"
          ],
          [
           "Heirate mich"
          ],
          [
           "Haifisch"
          ],
          [
           "Reise, Reise"
          ],
          [
           "Mein Land"
          ],
          [
           "Halleluja"
          ],
          [
           "Pussy"
          ],
          [
           "Moskau"
          ],
          [
           "Benzin"
          ],
          [
           "Weisses Fleisch"
          ],
          [
           "Bück dich"
          ],
          [
           "Rammlied"
          ],
          [
           "Mann gegen Mann"
          ],
          [
           "Tier"
          ],
          [
           "Te quiero puta!"
          ]
         ],
         "hovertemplate": "Lista Rep=This is Rammstein<br>TSNE_1=%{x}<br>TSNE_2=%{y}<br>cancion=%{customdata[0]}<extra></extra>",
         "legendgroup": "This is Rammstein",
         "marker": {
          "color": "#FF97FF",
          "symbol": "circle"
         },
         "mode": "markers",
         "name": "This is Rammstein",
         "orientation": "v",
         "showlegend": true,
         "type": "scatter",
         "x": [
          -15.395896,
          -9.725671,
          9.048851,
          -14.483378,
          -0.54770076,
          -15.5505085,
          -12.686385,
          -9.474518,
          -1.3417156,
          -14.248769,
          -0.9790309,
          -16.963621,
          -11.1354065,
          -9.857986,
          6.6719804,
          -17.325804,
          -14.5536,
          -17.01583,
          -9.08092,
          6.982022,
          -8.807765,
          -9.214087,
          -16.075853,
          -17.405289,
          -18.169178,
          -22.068895,
          -18.527967,
          -14.202138,
          -29.21526,
          -8.887749,
          -15.2208395,
          -16.555037,
          -7.1559286,
          -18.120415,
          -17.85715,
          -16.277414,
          -12.942623,
          -9.738868,
          -19.78253,
          -12.243675,
          -6.3664126,
          -6.986619,
          -17.586082,
          -10.091619,
          -11.626413,
          -20.153826
         ],
         "xaxis": "x",
         "y": [
          36.106915,
          16.8497,
          19.391495,
          14.361992,
          17.313513,
          11.537012,
          -1.2513942,
          11.997629,
          8.622781,
          22.643917,
          17.720186,
          36.137,
          10.63287,
          15.827216,
          13.910452,
          12.1810875,
          20.598118,
          -5.248325,
          20.287752,
          24.644043,
          7.0271425,
          11.714076,
          23.751749,
          42.519463,
          12.90798,
          13.724044,
          12.613909,
          36.703613,
          49.890133,
          23.601357,
          13.256187,
          41.468185,
          17.405891,
          41.686436,
          33.757023,
          26.212309,
          21.062672,
          17.76712,
          40.867542,
          13.061505,
          -5.965266,
          24.404736,
          36.97022,
          22.172188,
          19.379887,
          34.705868
         ],
         "yaxis": "y"
        },
        {
         "customdata": [
          [
           "Cintura Pa' Abajo"
          ],
          [
           "No Me Conoce - Remix"
          ],
          [
           "Rikala"
          ],
          [
           "Mexicana (feat. El Malilla)"
          ],
          [
           "Pa Perrear"
          ],
          [
           "Guatauba"
          ],
          [
           "Rompelo"
          ],
          [
           "En Secreto"
          ],
          [
           "Quédate Más"
          ],
          [
           "Agárrala - Remix"
          ],
          [
           "Karma"
          ],
          [
           "Sacudelo"
          ],
          [
           "Pa Mentir Soy una Especialista"
          ],
          [
           "Maripilili"
          ],
          [
           "Estrella de cine"
          ],
          [
           "Bon Appetit"
          ],
          [
           "Lluvia De Micheladas"
          ],
          [
           "West Love"
          ],
          [
           "Tu Haces"
          ],
          [
           "Desnudate"
          ],
          [
           "Cochinae"
          ],
          [
           "Soltero"
          ],
          [
           "Drama"
          ],
          [
           "Bailoteo"
          ],
          [
           "La Gata de la Agricola Oriental - Remastered"
          ],
          [
           "Fantasías"
          ],
          [
           "Dioza"
          ],
          [
           "Frambuesa"
          ],
          [
           "Intro Teléfono Perreo Rkt - feat. Mister Remix"
          ],
          [
           "Mai Grita"
          ],
          [
           "Buyaka Rkt"
          ],
          [
           "Como Mi Nena No Hay (feat. Master Joe y O.G. Black)"
          ],
          [
           "Tra Tra Tra Remix - Remix"
          ],
          [
           "Low Battery"
          ],
          [
           "Frikitona"
          ],
          [
           "A Ella Le Encanta"
          ],
          [
           "Chulo Sin H (feat. De la Ghetto)"
          ],
          [
           "El Funeral De La Canoa"
          ],
          [
           "Tu Sicaria"
          ],
          [
           "Le Encanta"
          ],
          [
           "Harta Demencia"
          ],
          [
           "Tu Pones la Hora y Yo Le Caigo"
          ],
          [
           "Perreo Católico 1 (Abemus)"
          ],
          [
           "En 20 Uñas (feat. Don Chezina)"
          ],
          [
           "El Goloso"
          ],
          [
           "Todavia"
          ],
          [
           "Contacto en Cuarto"
          ],
          [
           "Lola"
          ],
          [
           "Guatauba - Remastered"
          ],
          [
           "Te Lo Tiro Pa' Que Baile - Remastered"
          ],
          [
           "Chica Ven Pa' Aca"
          ],
          [
           "La Vecinita"
          ],
          [
           "Vamo a Busal"
          ],
          [
           "Fin de Semana"
          ],
          [
           "Te Ves Buena"
          ],
          [
           "Papi Shampu"
          ],
          [
           "Hasta Abajo"
          ],
          [
           "Suena Perreo"
          ],
          [
           "Ay Pablito Qué Rico! (feat. Mawe)"
          ],
          [
           "Ella Fuma"
          ],
          [
           "Cumbia"
          ],
          [
           "Estamos En On"
          ],
          [
           "Ella Me Levanto"
          ],
          [
           "La Chinita de los Ojos Cafés"
          ],
          [
           "Los Angeles"
          ],
          [
           "La Mona"
          ],
          [
           "Dile"
          ],
          [
           "Pose"
          ],
          [
           "Ruleta Rusa"
          ],
          [
           "Piropo"
          ],
          [
           "Perra"
          ],
          [
           "Anormal"
          ],
          [
           "+ Calma :("
          ],
          [
           "Yo Perreo Sola"
          ],
          [
           "Safaera"
          ],
          [
           "Te Encojona"
          ],
          [
           "Culo"
          ],
          [
           "Morado"
          ],
          [
           "Se Preparó"
          ],
          [
           "Tibiri Tabara - feat. Uzielito Mix"
          ],
          [
           "Brrr"
          ],
          [
           "Arabe Slug"
          ],
          [
           "Gata Fiera (feat. Joan)"
          ],
          [
           "Jala"
          ],
          [
           "La Calle es de Nosotros - Remix"
          ],
          [
           "Culo Arabe"
          ],
          [
           "Son las Doce"
          ],
          [
           "Golosa"
          ],
          [
           "te pongo mal(prendelo)"
          ],
          [
           "Intro Telefono Perreo"
          ],
          [
           "Buyaka"
          ],
          [
           "Perreo Como Antes"
          ],
          [
           "Lo Que Pasó, Pasó"
          ],
          [
           "El Phillie"
          ],
          [
           "Intro Pablo Escobar - Guaracha Zapateo & Aleteo"
          ],
          [
           "Lento Pa Arriba Lento Pa Bajo"
          ],
          [
           "Los Bellacos (feat. El Bellaco)"
          ],
          [
           "Mi Egipcia (Dale Movimiento)"
          ],
          [
           "Mega Ñengo Flow"
          ],
          [
           "Yamilette"
          ]
         ],
         "hovertemplate": "Lista Rep=Perreo para barrer el piso con la cola<br>TSNE_1=%{x}<br>TSNE_2=%{y}<br>cancion=%{customdata[0]}<extra></extra>",
         "legendgroup": "Perreo para barrer el piso con la cola",
         "marker": {
          "color": "#FECB52",
          "symbol": "circle"
         },
         "mode": "markers",
         "name": "Perreo para barrer el piso con la cola",
         "orientation": "v",
         "showlegend": true,
         "type": "scatter",
         "x": [
          13.706415,
          16.635754,
          25.588493,
          23.48068,
          27.999113,
          25.84455,
          15.656463,
          29.352978,
          18.327532,
          4.2853923,
          33.163326,
          23.14692,
          18.307543,
          25.066114,
          17.97605,
          -4.1675067,
          25.017965,
          16.111137,
          24.531187,
          13.074994,
          10.1178665,
          12.245654,
          15.003172,
          -12.050956,
          16.972343,
          30.368101,
          20.157776,
          0.07541224,
          17.527575,
          21.99043,
          18.148205,
          8.209226,
          26.102516,
          17.842793,
          22.703733,
          12.516188,
          30.657759,
          14.476502,
          -1.5498307,
          12.855216,
          12.436239,
          14.847161,
          18.942957,
          20.022226,
          21.928984,
          15.237751,
          23.884298,
          17.16774,
          14.9794,
          13.168743,
          -5.1268315,
          32.422752,
          20.58856,
          25.456022,
          9.3216505,
          4.910198,
          -17.32259,
          10.130753,
          4.175437,
          23.227543,
          34.123886,
          16.906214,
          13.283511,
          31.496387,
          7.2491627,
          31.26351,
          23.83921,
          25.326715,
          -14.508651,
          7.5209494,
          32.35807,
          19.918484,
          -2.9104347,
          20.556648,
          30.404415,
          30.535236,
          32.725636,
          8.492207,
          15.399594,
          19.955557,
          15.129622,
          -6.291993,
          -10.604345,
          11.345295,
          22.810589,
          2.3254166,
          21.66337,
          16.50826,
          2.1218674,
          -13.600557,
          31.836803,
          17.039595,
          10.914076,
          6.886969,
          12.750143,
          29.47961,
          -3.3677897,
          12.108354,
          29.526812,
          34.00926
         ],
         "xaxis": "x",
         "y": [
          -8.223304,
          -1.6635925,
          -1.095119,
          10.942654,
          4.489488,
          7.3358836,
          12.297701,
          3.206438,
          15.897171,
          -7.119003,
          3.905619,
          1.522033,
          9.431253,
          -7.825237,
          -13.480053,
          6.727638,
          10.154523,
          -13.21247,
          6.6462684,
          5.9858775,
          13.571884,
          5.7738085,
          15.799816,
          -1.349113,
          13.476849,
          5.716487,
          -6.5566792,
          -12.091981,
          1.598712,
          11.290155,
          15.790155,
          25.926119,
          8.589988,
          2.0655293,
          11.3639345,
          1.5865247,
          8.65063,
          -0.07001271,
          6.8612533,
          14.256834,
          5.32669,
          11.671647,
          -0.17049609,
          12.721847,
          0.3402123,
          0.70721066,
          6.576479,
          -7.8296905,
          7.160339,
          9.628345,
          6.843678,
          5.691559,
          14.415865,
          8.702798,
          -10.611647,
          -4.5813828,
          38.179752,
          4.1834607,
          -10.421461,
          1.2310708,
          6.9879594,
          -38.958344,
          10.718801,
          5.5061946,
          -5.6850963,
          9.000554,
          5.062467,
          7.6250606,
          -2.4744842,
          -7.2820354,
          9.398331,
          -0.5261492,
          -34.760147,
          -0.421599,
          10.2137985,
          6.9140487,
          7.663905,
          -7.415563,
          5.5884414,
          -6.982398,
          6.3521395,
          7.586708,
          39.27021,
          4.5872455,
          -0.05397203,
          19.269873,
          10.269616,
          0.30493486,
          6.0119295,
          35.212444,
          6.088421,
          -1.0776213,
          14.452855,
          -7.6436977,
          -2.009339,
          5.9725056,
          6.690736,
          -8.926384,
          7.661408,
          6.2942824
         ],
         "yaxis": "y"
        },
        {
         "customdata": [
          [
           "Take Me to Church"
          ],
          [
           "Cherry Wine - Live"
          ],
          [
           "Someone New"
          ],
          [
           "Work Song"
          ],
          [
           "Better Love - From The Legend of Tarzan - Single version"
          ],
          [
           "From Eden"
          ],
          [
           "Sedated"
          ],
          [
           "Like Real People Do"
          ],
          [
           "It Will Come Back"
          ],
          [
           "Foreigner's God"
          ],
          [
           "In a Week - Live From Spotify London"
          ],
          [
           "To Be Alone - Live at the Pepper Canister Church, Dublin, Ireland - December 2013"
          ],
          [
           "To Be Alone - Live from Spotify SXSW 2014"
          ],
          [
           "Arsonist's Lullabye"
          ],
          [
           "Angel of Small Death and the Codeine Scene"
          ],
          [
           "Jackie and Wilson"
          ],
          [
           "Jackie And Wilson - Live"
          ],
          [
           "Take Me to Church - Live From Spotify London"
          ],
          [
           "Tell It To My Heart"
          ],
          [
           "The Bones - with Hozier"
          ],
          [
           "Almost (Sweet Music)"
          ],
          [
           "Say My Name - Recorded at Spotify Studios NYC"
          ],
          [
           "NFWMB"
          ],
          [
           "The Parting Glass - Live from the Late Late Show"
          ],
          [
           "Would That I"
          ],
          [
           "Moment's Silence (Common Tongue)"
          ],
          [
           "Shrike"
          ],
          [
           "Wasteland, Baby!"
          ],
          [
           "Movement"
          ],
          [
           "Sunlight"
          ]
         ],
         "hovertemplate": "Lista Rep=This is Hozier<br>TSNE_1=%{x}<br>TSNE_2=%{y}<br>cancion=%{customdata[0]}<extra></extra>",
         "legendgroup": "This is Hozier",
         "marker": {
          "color": "#636efa",
          "symbol": "circle"
         },
         "mode": "markers",
         "name": "This is Hozier",
         "orientation": "v",
         "showlegend": true,
         "type": "scatter",
         "x": [
          -6.8683467,
          -17.356514,
          -1.006185,
          -11.293251,
          -13.412219,
          -10.711583,
          15.521433,
          -17.163063,
          -12.107209,
          -15.964038,
          29.333658,
          29.830349,
          28.969208,
          -14.583339,
          -21.952616,
          1.9114541,
          6.7080183,
          29.255945,
          5.3127604,
          15.215246,
          2.6386886,
          -9.95941,
          -16.13965,
          -15.635679,
          -3.1760926,
          -3.9319904,
          -13.064253,
          -14.8588915,
          -13.2825775,
          -6.2930427
         ],
         "xaxis": "x",
         "y": [
          -30.393137,
          -26.087637,
          -27.989134,
          -24.244364,
          9.969973,
          -36.459988,
          20.736485,
          -24.67124,
          -34.160313,
          -7.428099,
          -32.82752,
          -33.6585,
          -34.083424,
          -25.831112,
          -0.28720182,
          11.669532,
          27.826025,
          -33.63405,
          22.884869,
          20.974543,
          13.138773,
          -34.186665,
          -26.06557,
          -23.646553,
          -32.542557,
          -37.614502,
          -25.396387,
          -27.857424,
          -35.643322,
          -27.406458
         ],
         "yaxis": "y"
        },
        {
         "customdata": [
          [
           "Ahora Te Puedes Marchar"
          ],
          [
           "La Incondicional"
          ],
          [
           "Hasta Que Me Olvides"
          ],
          [
           "La Media Vuelta"
          ],
          [
           "La bikina - En vivo"
          ],
          [
           "Culpable O No - Miénteme Como Siempre"
          ],
          [
           "Por Debajo De La Mesa"
          ],
          [
           "Sabes Una Cosa"
          ],
          [
           "Tengo Todo Excepto a Ti"
          ],
          [
           "No Sé Tú"
          ],
          [
           "Suave"
          ],
          [
           "México En La Piel"
          ],
          [
           "Entrégate"
          ],
          [
           "Sabor a Mi"
          ],
          [
           "Usted"
          ],
          [
           "Échame a Mi La Culpa"
          ],
          [
           "Fría Como El Viento"
          ],
          [
           "Amarte es un placer"
          ],
          [
           "Inolvidable"
          ],
          [
           "Cuando Calienta El Sol"
          ],
          [
           "Te necesito"
          ],
          [
           "Si tú te atreves"
          ],
          [
           "La Barca"
          ],
          [
           "La Gloria Eres Tu"
          ],
          [
           "Historia De Un Amor"
          ],
          [
           "Llamarada"
          ],
          [
           "No Me Platiques Más"
          ],
          [
           "El Reloj"
          ],
          [
           "Palabra De Honor"
          ],
          [
           "Un Hombre Busca a Una Mujer"
          ],
          [
           "Te Extraño"
          ],
          [
           "O Tu O Ninguna"
          ],
          [
           "De Qué Manera Te Olvido"
          ],
          [
           "La Chica Del Bikini Azul"
          ],
          [
           "Soy lo prohibido"
          ],
          [
           "Oro De Ley"
          ],
          [
           "Yo Que No Vivo Sin Ti"
          ],
          [
           "Motivos"
          ],
          [
           "Si Nos Dejan - En Vivo"
          ],
          [
           "Voy a Apagar La Luz / Contigo Aprendí"
          ],
          [
           "Todo Y Nada"
          ],
          [
           "Qué Nivel De Mujer"
          ],
          [
           "No discutamos"
          ],
          [
           "Besame Mucho"
          ],
          [
           "El Día Que Me Quieras"
          ],
          [
           "El Viajero"
          ],
          [
           "Cómo duele"
          ],
          [
           "Ayer"
          ],
          [
           "Sueña"
          ]
         ],
         "hovertemplate": "Lista Rep=This is Luis Miguel<br>TSNE_1=%{x}<br>TSNE_2=%{y}<br>cancion=%{customdata[0]}<extra></extra>",
         "legendgroup": "This is Luis Miguel",
         "marker": {
          "color": "#EF553B",
          "symbol": "circle"
         },
         "mode": "markers",
         "name": "This is Luis Miguel",
         "orientation": "v",
         "showlegend": true,
         "type": "scatter",
         "x": [
          11.48593,
          -14.019963,
          -7.676276,
          -3.824443,
          7.3202415,
          -20.659847,
          -12.766894,
          -1.1091448,
          -8.910945,
          -12.4450655,
          -18.790937,
          1.9131725,
          -8.251183,
          6.1561165,
          -10.600634,
          -1.8626661,
          -20.733606,
          -13.294565,
          6.057246,
          -0.02377612,
          13.767949,
          -11.807163,
          -8.551541,
          -6.0631547,
          -8.941828,
          7.528362,
          -11.503586,
          1.7243193,
          -7.99825,
          -6.257186,
          -15.686296,
          -13.303936,
          0.11006178,
          -0.35904318,
          -9.722398,
          2.0366414,
          -9.770168,
          -14.8338175,
          7.8137007,
          -16.476675,
          -9.529437,
          10.249994,
          -9.726963,
          -3.6452067,
          -10.415292,
          -3.62067,
          -14.464013,
          -15.495398,
          -10.825749
         ],
         "xaxis": "x",
         "y": [
          -6.0163064,
          17.786692,
          -33.67096,
          -11.041146,
          27.78913,
          -11.010887,
          -34.467567,
          -38.367428,
          -34.791622,
          -24.822485,
          -3.8259888,
          -40.70031,
          -27.565792,
          -24.242002,
          -22.055128,
          -26.78189,
          -11.57504,
          -24.258724,
          -16.652918,
          16.30779,
          -14.789514,
          -35.93665,
          -35.60266,
          -33.167698,
          -27.359861,
          22.928482,
          -34.82041,
          -43.01093,
          -27.75475,
          -12.652573,
          -26.740282,
          -26.275766,
          -41.55657,
          7.3847404,
          -37.470966,
          1.256415,
          -32.92737,
          -32.41278,
          29.171597,
          -2.237141,
          -36.60102,
          17.495428,
          -25.304705,
          -11.377804,
          -27.786785,
          -37.66281,
          16.89009,
          -25.734993,
          -28.021553
         ],
         "yaxis": "y"
        },
        {
         "customdata": [
          [
           "Rata De Dos Patas"
          ],
          [
           "Cheque En Blanco"
          ],
          [
           "Tres Veces Te Engañe"
          ],
          [
           "No Hay Quinto Malo"
          ],
          [
           "Me Saludas A La Tuya"
          ],
          [
           "Romeo Y Su Nieta"
          ],
          [
           "Azul Celeste"
          ],
          [
           "Pobre Pistolita"
          ],
          [
           "Vivo Contenta"
          ],
          [
           "Taco Placero"
          ],
          [
           "Tu Última Parada"
          ],
          [
           "Ni Tú Ni Yo (feat. Paquita la del Barrio)"
          ],
          [
           "Qué Te Ha Dado Esa Mujer"
          ],
          [
           "Invitame A Pecar"
          ],
          [
           "Al Cuarto Vaso"
          ],
          [
           "Hombres Malvados"
          ],
          [
           "Aquellos Ojos Verdes"
          ],
          [
           "El Consejo"
          ],
          [
           "Cancionera De Mi Barrio"
          ],
          [
           "Las Rodilleras"
          ],
          [
           "Abrázame"
          ],
          [
           "Seis Pies Abajo"
          ],
          [
           "Piérdeme El Respeto"
          ],
          [
           "No Hay Mujeres Feas (Mi Vecinita)"
          ],
          [
           "Qué Manera De Perder"
          ],
          [
           "Anillo De Compromiso"
          ],
          [
           "Que Me Perdone Tu Perro"
          ],
          [
           "La Bella Lola"
          ],
          [
           "El Peor De Los Caminos"
          ],
          [
           "Amor Perdido - En Vivo"
          ],
          [
           "Si Yo Fuera Varón"
          ],
          [
           "Chango Viejo"
          ],
          [
           "Acá Entre Nos"
          ],
          [
           "Caminos De Michoacán"
          ],
          [
           "Viejo Rabo Verde"
          ],
          [
           "La Maestra"
          ],
          [
           "Exceso De Calcio"
          ],
          [
           "Gracias"
          ],
          [
           "Camino De Guanajuato"
          ],
          [
           "Mi Razón (with Paquita la del Barrio)"
          ],
          [
           "Paloma Negra"
          ],
          [
           "No Me Vuelvo A Enamorar"
          ],
          [
           "Las Mujeres Mandan (Mariachi)"
          ],
          [
           "Mi Único Camino"
          ],
          [
           "Y Si Tomo Que"
          ],
          [
           "Cobarde"
          ],
          [
           "Juro Que Nunca Volveré"
          ],
          [
           "Paloma Querida"
          ],
          [
           "Te Voy A Olvidar"
          ],
          [
           "Los Bigotones"
          ]
         ],
         "hovertemplate": "Lista Rep=This is Paquita la del Barrio<br>TSNE_1=%{x}<br>TSNE_2=%{y}<br>cancion=%{customdata[0]}<extra></extra>",
         "legendgroup": "This is Paquita la del Barrio",
         "marker": {
          "color": "#00cc96",
          "symbol": "circle"
         },
         "mode": "markers",
         "name": "This is Paquita la del Barrio",
         "orientation": "v",
         "showlegend": true,
         "type": "scatter",
         "x": [
          5.728625,
          9.70563,
          2.919735,
          3.4951954,
          4.3053846,
          15.379434,
          8.118727,
          9.70157,
          19.71614,
          5.2632623,
          10.515275,
          -2.9833279,
          5.7060328,
          5.413443,
          3.7826056,
          6.309341,
          6.6047473,
          8.565718,
          -0.02580745,
          9.486139,
          7.829722,
          7.739847,
          -1.0156729,
          13.282529,
          3.1788087,
          0.33886194,
          -0.3532306,
          2.9998252,
          0.9855458,
          8.783272,
          8.170454,
          18.099794,
          -0.8676898,
          9.98899,
          10.841811,
          12.356289,
          4.934622,
          3.1100616,
          -1.5626391,
          26.408657,
          3.612651,
          -2.4333751,
          11.497897,
          4.55637,
          -8.3073845,
          10.941402,
          7.5925717,
          1.8442656,
          4.047361,
          10.028485
         ],
         "xaxis": "x",
         "y": [
          -39.645412,
          27.819715,
          -39.974102,
          -43.442055,
          -29.164347,
          -17.323486,
          -20.782455,
          -42.335228,
          -22.119513,
          -35.092007,
          -38.824463,
          -31.06539,
          -41.71616,
          -38.74461,
          -25.238459,
          -26.915737,
          -41.287178,
          -43.17846,
          -37.8795,
          -31.527376,
          -42.902836,
          -28.836329,
          -37.65213,
          -42.794037,
          -26.752298,
          -34.959698,
          -37.142303,
          -27.878805,
          -36.08128,
          28.498453,
          -38.920856,
          -20.75028,
          -35.54467,
          -23.492598,
          -23.644484,
          -38.716026,
          -28.87712,
          -42.093174,
          -27.503948,
          -9.356878,
          -43.030876,
          -34.934864,
          -25.052214,
          -41.792557,
          -23.122025,
          -25.804098,
          28.671997,
          -35.8298,
          -28.29534,
          -38.912807
         ],
         "yaxis": "y"
        },
        {
         "customdata": [
          [
           "Ya No Somos Ni Seremos"
          ],
          [
           "Chale"
          ],
          [
           "Pongámonos De Acuerdo"
          ],
          [
           "Siempre Pendientes"
          ],
          [
           "Si Fuera Fácil"
          ],
          [
           "Vamos Aclarando Muchas Cosas - En Vivo"
          ],
          [
           "JGL"
          ],
          [
           "Borracho de Amor"
          ],
          [
           "Ya Supérame (En Vivo)"
          ],
          [
           "Te Hubieras Ido Antes"
          ],
          [
           "Después de Ti ¿Quién?"
          ],
          [
           "Si Te Pudiera Mentir"
          ],
          [
           "El Rescate"
          ],
          [
           "Haciendo Ruido"
          ],
          [
           "Si Fuera Fácil"
          ],
          [
           "Se Amerita"
          ],
          [
           "Borracho de Amor"
          ],
          [
           "Los Botones Azules"
          ],
          [
           "A La Antigüita"
          ],
          [
           "Quién Es Usted"
          ],
          [
           "Como Lo Hice Yo"
          ],
          [
           "Ojos Verdes"
          ],
          [
           "Cada Quien"
          ],
          [
           "En El Radio Un Cochinero"
          ],
          [
           "En Tu Perra Vida"
          ],
          [
           "Fuga Pa Cali 2"
          ],
          [
           "En Peligro de Extinción"
          ],
          [
           "Tranquilito"
          ],
          [
           "La Sinvergüenza"
          ],
          [
           "El Tóxico"
          ],
          [
           "Ya Acabo"
          ],
          [
           "Háblame De Ti"
          ],
          [
           "Simplemente Gracias"
          ],
          [
           "De Rancho en Rancho"
          ],
          [
           "Botella Tras Botella"
          ],
          [
           "Te Presumo"
          ],
          [
           "Mi Último Deseo"
          ],
          [
           "El Final de Nuestra Historia"
          ],
          [
           "Yo Ya No Vuelvo Contigo - En Vivo"
          ],
          [
           "Ojos Cerrados"
          ],
          [
           "Adiós Amor"
          ],
          [
           "El Amor de Mi Vida"
          ],
          [
           "Ya Me Enteré"
          ],
          [
           "Mi Enemigo El Amor"
          ],
          [
           "Tú"
          ],
          [
           "Ojitos de Miel"
          ],
          [
           "El Comienzo del Final"
          ],
          [
           "Jugaste y Sufrí"
          ],
          [
           "Porte Exuberante"
          ],
          [
           "Aerolínea Carrillo"
          ],
          [
           "Soy El Unico"
          ],
          [
           "De Los Besos Que Te Di"
          ],
          [
           "En Peligro de Extinción"
          ],
          [
           "Aquí Abajo"
          ],
          [
           "Como Duele Equivocarse"
          ],
          [
           "Cerrando Ciclos"
          ],
          [
           "No Lo Hice Bien"
          ],
          [
           "El Güero (Feat. Marca MP)"
          ],
          [
           "A Través Del Vaso"
          ],
          [
           "Ella"
          ],
          [
           "El Color de Tus Ojos"
          ],
          [
           "En Peligro de Extinción"
          ],
          [
           "Ya Solo Eres Mi Ex"
          ],
          [
           "No Me Queda Más"
          ],
          [
           "Está Dañada"
          ],
          [
           "Cabrón y Vago - En Vivo"
          ],
          [
           "La Casita"
          ],
          [
           "Que Fuimos"
          ],
          [
           "El Final De Nuestra Historia"
          ],
          [
           "Calidad"
          ],
          [
           "2 Veces"
          ],
          [
           "Palabra de Hombre"
          ],
          [
           "Se Fue La Pantera (En Vivo)"
          ],
          [
           "Te Apuesto - En vivo"
          ],
          [
           "Me Sobrabas Tú"
          ],
          [
           "El Bélico"
          ],
          [
           "No Es Por Acá"
          ],
          [
           "Solo Un Dia (Ahora Te Amo)"
          ],
          [
           "La Buena y la Mala"
          ],
          [
           "Que Te Vaya Bien"
          ],
          [
           "Dueño de Ti"
          ]
         ],
         "hovertemplate": "Lista Rep=Banda 2022<br>TSNE_1=%{x}<br>TSNE_2=%{y}<br>cancion=%{customdata[0]}<extra></extra>",
         "legendgroup": "Banda 2022",
         "marker": {
          "color": "#ab63fa",
          "symbol": "circle"
         },
         "mode": "markers",
         "name": "Banda 2022",
         "orientation": "v",
         "showlegend": true,
         "type": "scatter",
         "x": [
          -0.63907,
          -6.3476167,
          9.077796,
          3.8796937,
          -1.0694671,
          10.305163,
          22.266754,
          9.894134,
          9.610481,
          11.0425625,
          7.381997,
          10.368359,
          27.786226,
          10.238731,
          -1.0756432,
          15.005211,
          9.921811,
          13.928977,
          13.088522,
          -3.599938,
          -3.6468434,
          10.756733,
          11.786002,
          2.7269752,
          -1.3149059,
          11.689595,
          -1.1826212,
          12.05957,
          -1.6282747,
          23.242132,
          8.047143,
          9.48723,
          9.9674635,
          13.347975,
          9.693251,
          7.673493,
          20.880592,
          9.752172,
          7.004159,
          -6.0860186,
          1.546798,
          1.9613618,
          19.306479,
          -2.6619086,
          0.026321387,
          -9.799596,
          11.477202,
          -10.696481,
          13.0151205,
          2.8917606,
          1.7926561,
          3.8923507,
          -1.7892491,
          0.5867105,
          -1.0072608,
          -0.57824314,
          8.625241,
          0.6603576,
          20.094732,
          4.5200033,
          -4.5915136,
          -1.182621,
          -7.936302,
          23.462288,
          -12.201887,
          18.709133,
          3.2288032,
          -0.098328024,
          0.06005556,
          9.290099,
          4.740901,
          2.0776467,
          6.085569,
          -4.747832,
          10.104318,
          12.444514,
          5.108198,
          11.583417,
          12.472698,
          -2.6720986,
          16.235657
         ],
         "xaxis": "x",
         "y": [
          -27.139275,
          -20.54889,
          -21.2104,
          2.441381,
          -13.379758,
          -25.07693,
          -15.560364,
          -27.269665,
          29.760431,
          -31.72957,
          -40.198246,
          9.535042,
          -0.765128,
          -30.760294,
          -13.375024,
          -3.0137076,
          -27.27766,
          0.8679419,
          -16.893728,
          -36.771435,
          -34.740112,
          -30.471598,
          1.8103048,
          -16.89759,
          -28.862968,
          -10.784293,
          -42.13225,
          -42.413536,
          -25.761137,
          -14.73607,
          -37.25247,
          -30.884684,
          -33.758343,
          -22.6738,
          -38.517128,
          -25.504578,
          -19.429659,
          -25.398588,
          -37.482418,
          -21.795649,
          -42.6028,
          -6.4624066,
          -22.195576,
          -33.40929,
          -22.554468,
          -22.477036,
          -37.33994,
          -25.371521,
          -2.918442,
          -38.140064,
          -33.686237,
          -27.398827,
          -41.789936,
          -33.798496,
          -24.57341,
          -40.569878,
          -25.897844,
          -23.826645,
          -7.9127007,
          -1.7402961,
          -19.746965,
          -42.13225,
          -23.113504,
          -27.002373,
          -33.395092,
          -15.023109,
          -10.570536,
          -41.017258,
          -21.549797,
          -41.417942,
          -26.893991,
          -27.968618,
          -0.5338111,
          -20.763996,
          -42.051987,
          -23.328613,
          -36.95314,
          -28.957298,
          -41.980766,
          -31.118795,
          -15.5287895
         ],
         "yaxis": "y"
        }
       ],
       "layout": {
        "legend": {
         "title": {
          "text": "Lista Rep"
         },
         "tracegroupgap": 0
        },
        "margin": {
         "t": 60
        },
        "template": {
         "data": {
          "bar": [
           {
            "error_x": {
             "color": "#f2f5fa"
            },
            "error_y": {
             "color": "#f2f5fa"
            },
            "marker": {
             "line": {
              "color": "rgb(17,17,17)",
              "width": 0.5
             },
             "pattern": {
              "fillmode": "overlay",
              "size": 10,
              "solidity": 0.2
             }
            },
            "type": "bar"
           }
          ],
          "barpolar": [
           {
            "marker": {
             "line": {
              "color": "rgb(17,17,17)",
              "width": 0.5
             },
             "pattern": {
              "fillmode": "overlay",
              "size": 10,
              "solidity": 0.2
             }
            },
            "type": "barpolar"
           }
          ],
          "carpet": [
           {
            "aaxis": {
             "endlinecolor": "#A2B1C6",
             "gridcolor": "#506784",
             "linecolor": "#506784",
             "minorgridcolor": "#506784",
             "startlinecolor": "#A2B1C6"
            },
            "baxis": {
             "endlinecolor": "#A2B1C6",
             "gridcolor": "#506784",
             "linecolor": "#506784",
             "minorgridcolor": "#506784",
             "startlinecolor": "#A2B1C6"
            },
            "type": "carpet"
           }
          ],
          "choropleth": [
           {
            "colorbar": {
             "outlinewidth": 0,
             "ticks": ""
            },
            "type": "choropleth"
           }
          ],
          "contour": [
           {
            "colorbar": {
             "outlinewidth": 0,
             "ticks": ""
            },
            "colorscale": [
             [
              0,
              "#0d0887"
             ],
             [
              0.1111111111111111,
              "#46039f"
             ],
             [
              0.2222222222222222,
              "#7201a8"
             ],
             [
              0.3333333333333333,
              "#9c179e"
             ],
             [
              0.4444444444444444,
              "#bd3786"
             ],
             [
              0.5555555555555556,
              "#d8576b"
             ],
             [
              0.6666666666666666,
              "#ed7953"
             ],
             [
              0.7777777777777778,
              "#fb9f3a"
             ],
             [
              0.8888888888888888,
              "#fdca26"
             ],
             [
              1,
              "#f0f921"
             ]
            ],
            "type": "contour"
           }
          ],
          "contourcarpet": [
           {
            "colorbar": {
             "outlinewidth": 0,
             "ticks": ""
            },
            "type": "contourcarpet"
           }
          ],
          "heatmap": [
           {
            "colorbar": {
             "outlinewidth": 0,
             "ticks": ""
            },
            "colorscale": [
             [
              0,
              "#0d0887"
             ],
             [
              0.1111111111111111,
              "#46039f"
             ],
             [
              0.2222222222222222,
              "#7201a8"
             ],
             [
              0.3333333333333333,
              "#9c179e"
             ],
             [
              0.4444444444444444,
              "#bd3786"
             ],
             [
              0.5555555555555556,
              "#d8576b"
             ],
             [
              0.6666666666666666,
              "#ed7953"
             ],
             [
              0.7777777777777778,
              "#fb9f3a"
             ],
             [
              0.8888888888888888,
              "#fdca26"
             ],
             [
              1,
              "#f0f921"
             ]
            ],
            "type": "heatmap"
           }
          ],
          "heatmapgl": [
           {
            "colorbar": {
             "outlinewidth": 0,
             "ticks": ""
            },
            "colorscale": [
             [
              0,
              "#0d0887"
             ],
             [
              0.1111111111111111,
              "#46039f"
             ],
             [
              0.2222222222222222,
              "#7201a8"
             ],
             [
              0.3333333333333333,
              "#9c179e"
             ],
             [
              0.4444444444444444,
              "#bd3786"
             ],
             [
              0.5555555555555556,
              "#d8576b"
             ],
             [
              0.6666666666666666,
              "#ed7953"
             ],
             [
              0.7777777777777778,
              "#fb9f3a"
             ],
             [
              0.8888888888888888,
              "#fdca26"
             ],
             [
              1,
              "#f0f921"
             ]
            ],
            "type": "heatmapgl"
           }
          ],
          "histogram": [
           {
            "marker": {
             "pattern": {
              "fillmode": "overlay",
              "size": 10,
              "solidity": 0.2
             }
            },
            "type": "histogram"
           }
          ],
          "histogram2d": [
           {
            "colorbar": {
             "outlinewidth": 0,
             "ticks": ""
            },
            "colorscale": [
             [
              0,
              "#0d0887"
             ],
             [
              0.1111111111111111,
              "#46039f"
             ],
             [
              0.2222222222222222,
              "#7201a8"
             ],
             [
              0.3333333333333333,
              "#9c179e"
             ],
             [
              0.4444444444444444,
              "#bd3786"
             ],
             [
              0.5555555555555556,
              "#d8576b"
             ],
             [
              0.6666666666666666,
              "#ed7953"
             ],
             [
              0.7777777777777778,
              "#fb9f3a"
             ],
             [
              0.8888888888888888,
              "#fdca26"
             ],
             [
              1,
              "#f0f921"
             ]
            ],
            "type": "histogram2d"
           }
          ],
          "histogram2dcontour": [
           {
            "colorbar": {
             "outlinewidth": 0,
             "ticks": ""
            },
            "colorscale": [
             [
              0,
              "#0d0887"
             ],
             [
              0.1111111111111111,
              "#46039f"
             ],
             [
              0.2222222222222222,
              "#7201a8"
             ],
             [
              0.3333333333333333,
              "#9c179e"
             ],
             [
              0.4444444444444444,
              "#bd3786"
             ],
             [
              0.5555555555555556,
              "#d8576b"
             ],
             [
              0.6666666666666666,
              "#ed7953"
             ],
             [
              0.7777777777777778,
              "#fb9f3a"
             ],
             [
              0.8888888888888888,
              "#fdca26"
             ],
             [
              1,
              "#f0f921"
             ]
            ],
            "type": "histogram2dcontour"
           }
          ],
          "mesh3d": [
           {
            "colorbar": {
             "outlinewidth": 0,
             "ticks": ""
            },
            "type": "mesh3d"
           }
          ],
          "parcoords": [
           {
            "line": {
             "colorbar": {
              "outlinewidth": 0,
              "ticks": ""
             }
            },
            "type": "parcoords"
           }
          ],
          "pie": [
           {
            "automargin": true,
            "type": "pie"
           }
          ],
          "scatter": [
           {
            "marker": {
             "line": {
              "color": "#283442"
             }
            },
            "type": "scatter"
           }
          ],
          "scatter3d": [
           {
            "line": {
             "colorbar": {
              "outlinewidth": 0,
              "ticks": ""
             }
            },
            "marker": {
             "colorbar": {
              "outlinewidth": 0,
              "ticks": ""
             }
            },
            "type": "scatter3d"
           }
          ],
          "scattercarpet": [
           {
            "marker": {
             "colorbar": {
              "outlinewidth": 0,
              "ticks": ""
             }
            },
            "type": "scattercarpet"
           }
          ],
          "scattergeo": [
           {
            "marker": {
             "colorbar": {
              "outlinewidth": 0,
              "ticks": ""
             }
            },
            "type": "scattergeo"
           }
          ],
          "scattergl": [
           {
            "marker": {
             "line": {
              "color": "#283442"
             }
            },
            "type": "scattergl"
           }
          ],
          "scattermapbox": [
           {
            "marker": {
             "colorbar": {
              "outlinewidth": 0,
              "ticks": ""
             }
            },
            "type": "scattermapbox"
           }
          ],
          "scatterpolar": [
           {
            "marker": {
             "colorbar": {
              "outlinewidth": 0,
              "ticks": ""
             }
            },
            "type": "scatterpolar"
           }
          ],
          "scatterpolargl": [
           {
            "marker": {
             "colorbar": {
              "outlinewidth": 0,
              "ticks": ""
             }
            },
            "type": "scatterpolargl"
           }
          ],
          "scatterternary": [
           {
            "marker": {
             "colorbar": {
              "outlinewidth": 0,
              "ticks": ""
             }
            },
            "type": "scatterternary"
           }
          ],
          "surface": [
           {
            "colorbar": {
             "outlinewidth": 0,
             "ticks": ""
            },
            "colorscale": [
             [
              0,
              "#0d0887"
             ],
             [
              0.1111111111111111,
              "#46039f"
             ],
             [
              0.2222222222222222,
              "#7201a8"
             ],
             [
              0.3333333333333333,
              "#9c179e"
             ],
             [
              0.4444444444444444,
              "#bd3786"
             ],
             [
              0.5555555555555556,
              "#d8576b"
             ],
             [
              0.6666666666666666,
              "#ed7953"
             ],
             [
              0.7777777777777778,
              "#fb9f3a"
             ],
             [
              0.8888888888888888,
              "#fdca26"
             ],
             [
              1,
              "#f0f921"
             ]
            ],
            "type": "surface"
           }
          ],
          "table": [
           {
            "cells": {
             "fill": {
              "color": "#506784"
             },
             "line": {
              "color": "rgb(17,17,17)"
             }
            },
            "header": {
             "fill": {
              "color": "#2a3f5f"
             },
             "line": {
              "color": "rgb(17,17,17)"
             }
            },
            "type": "table"
           }
          ]
         },
         "layout": {
          "annotationdefaults": {
           "arrowcolor": "#f2f5fa",
           "arrowhead": 0,
           "arrowwidth": 1
          },
          "autotypenumbers": "strict",
          "coloraxis": {
           "colorbar": {
            "outlinewidth": 0,
            "ticks": ""
           }
          },
          "colorscale": {
           "diverging": [
            [
             0,
             "#8e0152"
            ],
            [
             0.1,
             "#c51b7d"
            ],
            [
             0.2,
             "#de77ae"
            ],
            [
             0.3,
             "#f1b6da"
            ],
            [
             0.4,
             "#fde0ef"
            ],
            [
             0.5,
             "#f7f7f7"
            ],
            [
             0.6,
             "#e6f5d0"
            ],
            [
             0.7,
             "#b8e186"
            ],
            [
             0.8,
             "#7fbc41"
            ],
            [
             0.9,
             "#4d9221"
            ],
            [
             1,
             "#276419"
            ]
           ],
           "sequential": [
            [
             0,
             "#0d0887"
            ],
            [
             0.1111111111111111,
             "#46039f"
            ],
            [
             0.2222222222222222,
             "#7201a8"
            ],
            [
             0.3333333333333333,
             "#9c179e"
            ],
            [
             0.4444444444444444,
             "#bd3786"
            ],
            [
             0.5555555555555556,
             "#d8576b"
            ],
            [
             0.6666666666666666,
             "#ed7953"
            ],
            [
             0.7777777777777778,
             "#fb9f3a"
            ],
            [
             0.8888888888888888,
             "#fdca26"
            ],
            [
             1,
             "#f0f921"
            ]
           ],
           "sequentialminus": [
            [
             0,
             "#0d0887"
            ],
            [
             0.1111111111111111,
             "#46039f"
            ],
            [
             0.2222222222222222,
             "#7201a8"
            ],
            [
             0.3333333333333333,
             "#9c179e"
            ],
            [
             0.4444444444444444,
             "#bd3786"
            ],
            [
             0.5555555555555556,
             "#d8576b"
            ],
            [
             0.6666666666666666,
             "#ed7953"
            ],
            [
             0.7777777777777778,
             "#fb9f3a"
            ],
            [
             0.8888888888888888,
             "#fdca26"
            ],
            [
             1,
             "#f0f921"
            ]
           ]
          },
          "colorway": [
           "#636efa",
           "#EF553B",
           "#00cc96",
           "#ab63fa",
           "#FFA15A",
           "#19d3f3",
           "#FF6692",
           "#B6E880",
           "#FF97FF",
           "#FECB52"
          ],
          "font": {
           "color": "#f2f5fa"
          },
          "geo": {
           "bgcolor": "rgb(17,17,17)",
           "lakecolor": "rgb(17,17,17)",
           "landcolor": "rgb(17,17,17)",
           "showlakes": true,
           "showland": true,
           "subunitcolor": "#506784"
          },
          "hoverlabel": {
           "align": "left"
          },
          "hovermode": "closest",
          "mapbox": {
           "style": "dark"
          },
          "paper_bgcolor": "rgb(17,17,17)",
          "plot_bgcolor": "rgb(17,17,17)",
          "polar": {
           "angularaxis": {
            "gridcolor": "#506784",
            "linecolor": "#506784",
            "ticks": ""
           },
           "bgcolor": "rgb(17,17,17)",
           "radialaxis": {
            "gridcolor": "#506784",
            "linecolor": "#506784",
            "ticks": ""
           }
          },
          "scene": {
           "xaxis": {
            "backgroundcolor": "rgb(17,17,17)",
            "gridcolor": "#506784",
            "gridwidth": 2,
            "linecolor": "#506784",
            "showbackground": true,
            "ticks": "",
            "zerolinecolor": "#C8D4E3"
           },
           "yaxis": {
            "backgroundcolor": "rgb(17,17,17)",
            "gridcolor": "#506784",
            "gridwidth": 2,
            "linecolor": "#506784",
            "showbackground": true,
            "ticks": "",
            "zerolinecolor": "#C8D4E3"
           },
           "zaxis": {
            "backgroundcolor": "rgb(17,17,17)",
            "gridcolor": "#506784",
            "gridwidth": 2,
            "linecolor": "#506784",
            "showbackground": true,
            "ticks": "",
            "zerolinecolor": "#C8D4E3"
           }
          },
          "shapedefaults": {
           "line": {
            "color": "#f2f5fa"
           }
          },
          "sliderdefaults": {
           "bgcolor": "#C8D4E3",
           "bordercolor": "rgb(17,17,17)",
           "borderwidth": 1,
           "tickwidth": 0
          },
          "ternary": {
           "aaxis": {
            "gridcolor": "#506784",
            "linecolor": "#506784",
            "ticks": ""
           },
           "baxis": {
            "gridcolor": "#506784",
            "linecolor": "#506784",
            "ticks": ""
           },
           "bgcolor": "rgb(17,17,17)",
           "caxis": {
            "gridcolor": "#506784",
            "linecolor": "#506784",
            "ticks": ""
           }
          },
          "title": {
           "x": 0.05
          },
          "updatemenudefaults": {
           "bgcolor": "#506784",
           "borderwidth": 0
          },
          "xaxis": {
           "automargin": true,
           "gridcolor": "#283442",
           "linecolor": "#506784",
           "ticks": "",
           "title": {
            "standoff": 15
           },
           "zerolinecolor": "#283442",
           "zerolinewidth": 2
          },
          "yaxis": {
           "automargin": true,
           "gridcolor": "#283442",
           "linecolor": "#506784",
           "ticks": "",
           "title": {
            "standoff": 15
           },
           "zerolinecolor": "#283442",
           "zerolinewidth": 2
          }
         }
        },
        "xaxis": {
         "anchor": "y",
         "domain": [
          0,
          1
         ],
         "title": {
          "text": "TSNE_1"
         }
        },
        "yaxis": {
         "anchor": "x",
         "domain": [
          0,
          1
         ],
         "title": {
          "text": "TSNE_2"
         }
        }
       }
      }
     },
     "metadata": {},
     "output_type": "display_data"
    }
   ],
   "source": [
    "#And finally, an interactive graph of this results is generated\n",
    "#It is interesting to see that certian genres can be visually told appart from others in a graphic way merely by considering their TSNE values\n",
    "fig = px.scatter(df, x=\"TSNE_1\", y=\"TSNE_2\", color=\"Lista Rep\", hover_data=['cancion'], template=\"plotly_dark\")\n",
    "fig.show()"
   ]
  },
  {
   "cell_type": "code",
   "execution_count": 12,
   "metadata": {},
   "outputs": [
    {
     "data": {
      "text/plain": [
       "<AxesSubplot:xlabel='TSNE_1', ylabel='TSNE_2'>"
      ]
     },
     "execution_count": 12,
     "metadata": {},
     "output_type": "execute_result"
    },
    {
     "data": {
      "image/png": "[encoded data removed]",
      "text/plain": [
       "<Figure size 1170x827 with 1 Axes>"
      ]
     },
     "metadata": {},
     "output_type": "display_data"
    }
   ],
   "source": [
    "#This cell has been added to work around Githubs limitations for interactive visualizations\n",
    "import seaborn as sns\n",
    "sns.set(rc={'figure.figsize':(11.7,8.27)})\n",
    "displayed_playlists = ['Death Metal', 'This is Rammstein', 'Salsas Ching@nas', 'Cumbias de Microbusero']\n",
    "graph_df = df[df['Lista Rep'].isin(displayed_playlists)]\n",
    "sns.scatterplot(x=graph_df['TSNE_1'],y=graph_df['TSNE_2'], hue=graph_df['Lista Rep'] )"
   ]
  },
  {
   "cell_type": "code",
   "execution_count": null,
   "metadata": {},
   "outputs": [],
   "source": []
  }
 ],
 "metadata": {
  "kernelspec": {
   "display_name": "Python 3.9.1 64-bit",
   "language": "python",
   "name": "python3"
  },
  "language_info": {
   "codemirror_mode": {
    "name": "ipython",
    "version": 3
   },
   "file_extension": ".py",
   "mimetype": "text/x-python",
   "name": "python",
   "nbconvert_exporter": "python",
   "pygments_lexer": "ipython3",
   "version": "3.9.1"
  },
  "orig_nbformat": 4,
  "vscode": {
   "interpreter": {
    "hash": "fefe1bf480c11bf003fba226430f9cc6591c2a11b0f80c22005b6e46c2183a03"
   }
  }
 },
 "nbformat": 4,
 "nbformat_minor": 2
}
